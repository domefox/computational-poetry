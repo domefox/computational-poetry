{
 "cells": [
  {
   "cell_type": "code",
   "execution_count": 18,
   "id": "2d6c019c",
   "metadata": {
    "scrolled": true
   },
   "outputs": [
    {
     "name": "stdout",
     "output_type": "stream",
     "text": [
      "Retrieving notices: ...working... done\n",
      "Collecting package metadata (current_repodata.json): ...working... done\n",
      "Solving environment: ...working... done\n",
      "\n",
      "# All requested packages already installed.\n",
      "\n"
     ]
    },
    {
     "name": "stderr",
     "output_type": "stream",
     "text": [
      "\n",
      "\n",
      "==> WARNING: A newer version of conda exists. <==\n",
      "  current version: 23.7.4\n",
      "  latest version: 24.3.0\n",
      "\n",
      "Please update conda by running\n",
      "\n",
      "    $ conda update -n base -c defaults conda\n",
      "\n",
      "Or to minimize the number of packages updated during conda update use\n",
      "\n",
      "     conda install conda=24.3.0\n",
      "\n",
      "\n"
     ]
    }
   ],
   "source": [
    "import sys\n",
    "!conda install --prefix {sys.prefix} -y -c pytorch pytorch"
   ]
  },
  {
   "cell_type": "code",
   "execution_count": 19,
   "id": "b5b3ecda",
   "metadata": {},
   "outputs": [
    {
     "name": "stdout",
     "output_type": "stream",
     "text": [
      "Requirement already satisfied: transformers in c:\\users\\weber\\anaconda3\\lib\\site-packages (4.32.1)\n",
      "Requirement already satisfied: filelock in c:\\users\\weber\\anaconda3\\lib\\site-packages (from transformers) (3.9.0)\n",
      "Requirement already satisfied: huggingface-hub<1.0,>=0.15.1 in c:\\users\\weber\\anaconda3\\lib\\site-packages (from transformers) (0.15.1)\n",
      "Requirement already satisfied: numpy>=1.17 in c:\\users\\weber\\anaconda3\\lib\\site-packages (from transformers) (1.24.3)\n",
      "Requirement already satisfied: packaging>=20.0 in c:\\users\\weber\\anaconda3\\lib\\site-packages (from transformers) (23.1)\n",
      "Requirement already satisfied: pyyaml>=5.1 in c:\\users\\weber\\anaconda3\\lib\\site-packages (from transformers) (6.0)\n",
      "Requirement already satisfied: regex!=2019.12.17 in c:\\users\\weber\\anaconda3\\lib\\site-packages (from transformers) (2022.7.9)\n",
      "Requirement already satisfied: requests in c:\\users\\weber\\anaconda3\\lib\\site-packages (from transformers) (2.31.0)\n",
      "Requirement already satisfied: tokenizers!=0.11.3,<0.14,>=0.11.1 in c:\\users\\weber\\anaconda3\\lib\\site-packages (from transformers) (0.13.2)\n",
      "Requirement already satisfied: safetensors>=0.3.1 in c:\\users\\weber\\anaconda3\\lib\\site-packages (from transformers) (0.3.2)\n",
      "Requirement already satisfied: tqdm>=4.27 in c:\\users\\weber\\anaconda3\\lib\\site-packages (from transformers) (4.65.0)\n",
      "Requirement already satisfied: fsspec in c:\\users\\weber\\anaconda3\\lib\\site-packages (from huggingface-hub<1.0,>=0.15.1->transformers) (2023.4.0)\n",
      "Requirement already satisfied: typing-extensions>=3.7.4.3 in c:\\users\\weber\\anaconda3\\lib\\site-packages (from huggingface-hub<1.0,>=0.15.1->transformers) (4.7.1)\n",
      "Requirement already satisfied: colorama in c:\\users\\weber\\anaconda3\\lib\\site-packages (from tqdm>=4.27->transformers) (0.4.6)\n",
      "Requirement already satisfied: charset-normalizer<4,>=2 in c:\\users\\weber\\anaconda3\\lib\\site-packages (from requests->transformers) (2.0.4)\n",
      "Requirement already satisfied: idna<4,>=2.5 in c:\\users\\weber\\anaconda3\\lib\\site-packages (from requests->transformers) (3.4)\n",
      "Requirement already satisfied: urllib3<3,>=1.21.1 in c:\\users\\weber\\anaconda3\\lib\\site-packages (from requests->transformers) (1.26.16)\n",
      "Requirement already satisfied: certifi>=2017.4.17 in c:\\users\\weber\\anaconda3\\lib\\site-packages (from requests->transformers) (2024.2.2)\n"
     ]
    }
   ],
   "source": [
    "import sys\n",
    "!{sys.executable} -m pip install transformers"
   ]
  },
  {
   "cell_type": "code",
   "execution_count": 4,
   "id": "c327cc58",
   "metadata": {},
   "outputs": [
    {
     "name": "stderr",
     "output_type": "stream",
     "text": [
      "C:\\Users\\Weber\\anaconda3\\Lib\\site-packages\\transformers\\utils\\generic.py:260: UserWarning: torch.utils._pytree._register_pytree_node is deprecated. Please use torch.utils._pytree.register_pytree_node instead.\n",
      "  torch.utils._pytree._register_pytree_node(\n"
     ]
    }
   ],
   "source": [
    "from transformers import pipeline, AutoModelForCausalLM, AutoTokenizer"
   ]
  },
  {
   "cell_type": "code",
   "execution_count": 5,
   "id": "8cd686cf",
   "metadata": {},
   "outputs": [],
   "source": [
    "# Load the pre-trained model and tokenizer\n",
    "model_name = \"distilgpt2\"\n",
    "tokenizer = AutoTokenizer.from_pretrained('distilgpt2')\n",
    "model = AutoModelForCausalLM.from_pretrained('distilgpt2')"
   ]
  },
  {
   "cell_type": "code",
   "execution_count": 6,
   "id": "68e0808e",
   "metadata": {},
   "outputs": [],
   "source": [
    "# Set up the text generation pipeline\n",
    "\n",
    "generator = pipeline('text-generation', model=model, tokenizer=tokenizer)"
   ]
  },
  {
   "cell_type": "code",
   "execution_count": 7,
   "id": "d05d17c0",
   "metadata": {},
   "outputs": [
    {
     "name": "stderr",
     "output_type": "stream",
     "text": [
      "Setting `pad_token_id` to `eos_token_id`:50256 for open-end generation.\n"
     ]
    },
    {
     "data": {
      "text/plain": [
       "'Two roads diverged in a yellow wood, and I was forced into a lane and made to open a safety gate. While the lane took a new turn, I finally got the door opened and I finally found out the car stopped and opened the door'"
      ]
     },
     "execution_count": 7,
     "metadata": {},
     "output_type": "execute_result"
    }
   ],
   "source": [
    "generator(\"Two roads diverged in a yellow wood, and\")[0]['generated_text']"
   ]
  },
  {
   "cell_type": "code",
   "execution_count": 35,
   "id": "ead3d4a1",
   "metadata": {},
   "outputs": [],
   "source": [
    "# Dialogue generation function\n",
    "def generate_line(macro_prompt, prompt, max_tokens=50):\n",
    "    # Generate text using the entire conversation history and the new prompt\n",
    "    macro_prompt = f\"{conversation_history}\\n{prompt}: \"\n",
    "    generated = generator(full_prompt, max_length=len(tokenizer.encode(conversation_history)) + max_tokens, num_return_sequences=1)\n",
    "    # Extract the new line, cleaning up to remove the prompt and any extra whitespace\n",
    "    new_line = generated[0]['generated_text'][len(conversation_history):].strip()\n",
    "    new_line = new_line.split('\\n')[0]  # Get only the first new line generated\n",
    "    return new_line"
   ]
  },
  {
   "cell_type": "code",
   "execution_count": 36,
   "id": "f37103a6",
   "metadata": {},
   "outputs": [],
   "source": [
    "# Initialize dialogue\n",
    "dialogue = \"\"\n",
    "turns = 5  # 5 lines each\n",
    "\n",
    "# Simple macro context for emotional directions\n",
    "girl_prompt = \"[subtext: I'm a girl and I'm really into this guy].\"\n",
    "guy_prompt = \"[subtext: I'm a guy and I'm not interested in this girl].\"\n"
   ]
  },
  {
   "cell_type": "code",
   "execution_count": 39,
   "id": "4cbe9034",
   "metadata": {},
   "outputs": [
    {
     "name": "stderr",
     "output_type": "stream",
     "text": [
      "Setting `pad_token_id` to `eos_token_id`:50256 for open-end generation.\n",
      "Setting `pad_token_id` to `eos_token_id`:50256 for open-end generation.\n",
      "Setting `pad_token_id` to `eos_token_id`:50256 for open-end generation.\n",
      "Setting `pad_token_id` to `eos_token_id`:50256 for open-end generation.\n",
      "Setting `pad_token_id` to `eos_token_id`:50256 for open-end generation.\n",
      "Setting `pad_token_id` to `eos_token_id`:50256 for open-end generation.\n",
      "Setting `pad_token_id` to `eos_token_id`:50256 for open-end generation.\n",
      "Setting `pad_token_id` to `eos_token_id`:50256 for open-end generation.\n",
      "Setting `pad_token_id` to `eos_token_id`:50256 for open-end generation.\n",
      "Setting `pad_token_id` to `eos_token_id`:50256 for open-end generation.\n"
     ]
    }
   ],
   "source": [
    "# Generating the poem\n",
    "for i in range(turns):\n",
    "    # Girl bot speaks\n",
    "    girl_line = generate_line(dialogue, girl_prompt)\n",
    "    dialogue += \"girl\" + \": \" + girl_line + '\\n'\n",
    "    \n",
    "    # Guy bot responds\n",
    "    guy_line = generate_line(dialogue, guy_prompt)\n",
    "    dialogue += \"guy\" + \": \" + guy_line + '\\n'"
   ]
  },
  {
   "cell_type": "code",
   "execution_count": 40,
   "id": "bb9e7858",
   "metadata": {},
   "outputs": [
    {
     "name": "stdout",
     "output_type": "stream",
     "text": [
      "I'm really glad we're spending time together.: I'm really glad we're spending time together.:   (with a bit of salt, I'll be posting this here later)\n",
      "Yeah, it's nice to hang out.: Yeah, it's nice to hang out.: ____\n",
      "I'm really glad we're spending time together.: I'm really glad we're spending time together.: ____\n",
      "Yeah, it's nice to hang out.: Yeah, it's nice to hang out.: ____\n",
      "I'm really glad we're spending time together.: I'm really glad we're spending time together.: ____\n",
      "Yeah, it's nice to hang out.: Yeah, it's nice to hang out.: ____\n",
      "I'm really glad we're spending time together.: I'm really glad we're spending time together.: ____\n",
      "Yeah, it's nice to hang out.: Yeah, it's nice to hang out.: ____\n",
      "I'm really glad we're spending time together.: I'm really glad we're spending time together.: ____\n",
      "Yeah, it's nice to hang out.: Yeah, it's nice to hang out.: ____\n",
      "girl: I'm really glad we're spending time together.: ____\n",
      "guy: Yeah, it's nice to hang out.: ____\n",
      "girl: I'm really glad we're spending time together.: ____\n",
      "guy: Yeah, it's nice to hang out.: ____\n",
      "girl: I'm really glad we're spending time together.: ____\n",
      "guy: Yeah, it's nice to hang out.: ____\n",
      "girl: I'm really glad we're spending time together.: ____\n",
      "guy: Yeah, it's nice to hang out.: ____\n",
      "girl: I'm really glad we're spending time together.: ____\n",
      "guy: Yeah, it's nice to hang out.: ____\n",
      "\n"
     ]
    }
   ],
   "source": [
    "# Output the final dialogue poem\n",
    "\n",
    "print(dialogue)"
   ]
  },
  {
   "cell_type": "code",
   "execution_count": null,
   "id": "e673de20",
   "metadata": {},
   "outputs": [],
   "source": []
  }
 ],
 "metadata": {
  "kernelspec": {
   "display_name": "Python 3 (ipykernel)",
   "language": "python",
   "name": "python3"
  },
  "language_info": {
   "codemirror_mode": {
    "name": "ipython",
    "version": 3
   },
   "file_extension": ".py",
   "mimetype": "text/x-python",
   "name": "python",
   "nbconvert_exporter": "python",
   "pygments_lexer": "ipython3",
   "version": "3.11.5"
  }
 },
 "nbformat": 4,
 "nbformat_minor": 5
}
