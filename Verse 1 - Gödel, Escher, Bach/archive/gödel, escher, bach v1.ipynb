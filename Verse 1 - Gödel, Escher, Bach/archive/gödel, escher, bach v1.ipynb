{
 "cells": [
  {
   "cell_type": "markdown",
   "metadata": {},
   "source": [
    "# Implementations of early and well-known poetry generators\n",
    "\n",
    "By [Allison Parrish](http://www.decontextualize.com/)\n",
    "\n",
    "This notebook has some Python implementations of a number of early and well-known poetry generators, including Knowles and Tenney's *A House of Dust*, Strachey's love letter generator and Nick Montfort's *Taroko Gorge*."
   ]
  },
  {
   "cell_type": "code",
   "execution_count": 30,
   "metadata": {
    "scrolled": true
   },
   "outputs": [
    {
     "name": "stdout",
     "output_type": "stream",
     "text": [
      "1\n",
      "2\n",
      "3\n",
      "4\n",
      "5\n",
      "6\n",
      "7\n",
      "8 godel, escher, bach\n"
     ]
    }
   ],
   "source": [
    "import random\n",
    "\n",
    "# The target sentence and words initialization\n",
    "sentence = \"godel, escher, bach\"\n",
    "words = sentence.split(', ')\n",
    "\n",
    "# Function to generate a random attempt\n",
    "def generate_attempt():\n",
    "    shuffled = words.copy()\n",
    "    random.shuffle(shuffled)\n",
    "    attempt = []\n",
    "    for word in shuffled:\n",
    "        if words[len(attempt)] == word:\n",
    "            attempt.append(word)\n",
    "        else:\n",
    "            break\n",
    "    return \", \".join(attempt)\n",
    "\n",
    "# Main loop with row count\n",
    "def main():\n",
    "    row_count = 0\n",
    "    completed = False\n",
    "    while not completed:\n",
    "        row_count += 1\n",
    "        attempt = generate_attempt()\n",
    "        if attempt:\n",
    "            print(f\"{row_count} {attempt}\")\n",
    "        else:\n",
    "            print(row_count)  # Print only the row count for empty attempts\n",
    "        if attempt == sentence:\n",
    "            completed = True\n",
    "    return row_count\n",
    "\n",
    "# Save the number of attempts to a file\n",
    "num_attempts = main()\n",
    "with open(\"experiment_results.txt\", \"a\") as file:\n",
    "    file.write(f\"{num_attempts}\\n\")\n"
   ]
  },
  {
   "cell_type": "code",
   "execution_count": 32,
   "metadata": {},
   "outputs": [
    {
     "data": {
      "application/vnd.jupyter.widget-view+json": {
       "model_id": "ea609a24e6144062b11e4324c81c482c",
       "version_major": 2,
       "version_minor": 0
      },
      "text/plain": [
       "Button(description='Reset Results', style=ButtonStyle())"
      ]
     },
     "metadata": {},
     "output_type": "display_data"
    },
    {
     "name": "stdout",
     "output_type": "stream",
     "text": [
      "Average: 4.333333333333333\n",
      "Median: 4\n",
      "Mode: 1\n",
      "Total Attempts: 13\n"
     ]
    }
   ],
   "source": [
    "# Import necessary modules\n",
    "from IPython.display import display\n",
    "import ipywidgets as widgets\n",
    "from statistics import mean, median, mode\n",
    "\n",
    "# Function to reset the experiment results\n",
    "def reset_results(b):\n",
    "    with open(\"experiment_results.txt\", \"w\") as file:\n",
    "        file.write(\"\")  # Clear the contents of the file\n",
    "    print(\"Results reset.\")\n",
    "\n",
    "# Function to load and calculate statistics\n",
    "def load_and_calculate():\n",
    "    try:\n",
    "        results = load_results()\n",
    "        average_attempts = mean(results)\n",
    "        median_attempts = median(results)\n",
    "        mode_attempts = mode(results)\n",
    "        cumulative_attempts = sum(results)\n",
    "        print(f\"Average: {average_attempts}\")\n",
    "        print(f\"Median: {median_attempts}\")\n",
    "        print(f\"Mode: {mode_attempts}\")\n",
    "        print(f\"Total Attempts: {cumulative_attempts}\")\n",
    "    except FileNotFoundError:\n",
    "        print(\"No data file found. Please run some experiments first.\")\n",
    "    except ValueError:\n",
    "        print(\"Data file is empty. Please run some experiments first.\")\n",
    "\n",
    "# Function to load results from a file\n",
    "def load_results():\n",
    "    with open(\"experiment_results.txt\", \"r\") as file:\n",
    "        return [int(line.strip()) for line in file if line.strip()]\n",
    "\n",
    "# Create a button for resetting results\n",
    "reset_button = widgets.Button(description=\"Reset Results\")\n",
    "reset_button.on_click(reset_results)\n",
    "\n",
    "# Display the button\n",
    "display(reset_button)\n",
    "\n",
    "# Run this cell to calculate and print the statistics\n",
    "load_and_calculate()\n"
   ]
  }
 ],
 "metadata": {
  "kernelspec": {
   "display_name": "Python 3 (ipykernel)",
   "language": "python",
   "name": "python3"
  },
  "language_info": {
   "codemirror_mode": {
    "name": "ipython",
    "version": 3
   },
   "file_extension": ".py",
   "mimetype": "text/x-python",
   "name": "python",
   "nbconvert_exporter": "python",
   "pygments_lexer": "ipython3",
   "version": "3.11.5"
  }
 },
 "nbformat": 4,
 "nbformat_minor": 2
}
