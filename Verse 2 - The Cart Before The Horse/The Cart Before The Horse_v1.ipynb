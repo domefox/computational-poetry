{
 "cells": [
  {
   "cell_type": "markdown",
   "id": "ebcfeacb",
   "metadata": {},
   "source": [
    "Lists: https://github.com/aparrish/rwet/blob/master/understanding-lists-manipulating-lines.ipynb\n",
    "\n",
    "Assignment #2\n",
    "Due at the beginning of session 04.\n",
    "\n",
    "The digital cut-up. Create a notebook program that reads in two or more texts and stores portions of them in Python data structures. The program should create textual output that creatively rearranges the contents of the text. Use functions from the random module as appropriate. You must use lists as part of your procedure. Choose one text that you created with your program to present in class.\n",
    "\n",
    "Pseudocode\n",
    "1. have list of idioms in idioms.txt. strip out line breaks to make clean idiom list called idiom_list\n",
    "2. randomly select 7 idioms from the list\n",
    "3. randomize the order of the words in each idiom in the list & print it"
   ]
  },
  {
   "cell_type": "markdown",
   "id": "f948a88e",
   "metadata": {},
   "source": [
    "STEP 1 - MAKE LIST OF IDIOMS"
   ]
  },
  {
   "cell_type": "code",
   "execution_count": 1,
   "id": "91a57672",
   "metadata": {},
   "outputs": [
    {
     "data": {
      "text/plain": [
       "['the pot calling the kettle black\\n',\n",
       " \"don't put the cart before the horse\\n\",\n",
       " 'hit the nail on the head\\n',\n",
       " 'the ball is in your court\\n',\n",
       " 'one in the hand is worth more than two in the bush\\n',\n",
       " 'biting off more than you can chew\\n',\n",
       " 'let the cat out of the bag\\n',\n",
       " 'kick the bucket\\n',\n",
       " 'cost an arm and a leg\\n',\n",
       " 'burn the midnight oil\\n',\n",
       " 'there are many fish in the sea\\n',\n",
       " 'bite the bullet\\n',\n",
       " 'the elephant in the room\\n',\n",
       " 'spill the beans\\n',\n",
       " 'jump on the bandwagon\\n',\n",
       " 'cry over spilled milk\\n',\n",
       " 'when pigs fly\\n',\n",
       " 'out of the frying pan and into the fire\\n',\n",
       " \"time flies when you're having fun\\n\",\n",
       " 'bite the hand that feeds you\\n',\n",
       " 'go the extra mile\\n',\n",
       " \"you can't judge a book by it's cover\\n\",\n",
       " 'the whole nine yards\\n',\n",
       " 'cut to the chase\\n',\n",
       " \"don't count your chickens before they hatch\\n\",\n",
       " 'speak of the devil\\n',\n",
       " 'look before you leap\\n',\n",
       " \"it's raining cats and dogs\\n\",\n",
       " 'a taste of your own medicine\\n',\n",
       " 'cross that bridge when you come to it\\n',\n",
       " 'every cloud has a silver lining\\n',\n",
       " \"you can lead a horse to water but you can't make him drink\\n\",\n",
       " 'variety is the space of life\\n',\n",
       " 'once in a blue moon\\n',\n",
       " 'to make a long story short\\n',\n",
       " 'wear your heart on your sleeve\\n',\n",
       " 'keep the ball rolling\\n',\n",
       " 'the icing on th cake\\n',\n",
       " 'walking on eggshells\\n',\n",
       " 'a needle in a haystack\\n',\n",
       " 'tip of the iceberg\\n',\n",
       " 'off the beaten path\\n',\n",
       " 'a dime a dozen']"
      ]
     },
     "execution_count": 1,
     "metadata": {},
     "output_type": "execute_result"
    }
   ],
   "source": [
    "[line for line in open(\"idioms.txt\")]\n"
   ]
  },
  {
   "cell_type": "code",
   "execution_count": 5,
   "id": "4c70e8cc",
   "metadata": {},
   "outputs": [
    {
     "data": {
      "text/plain": [
       "['the pot calling the kettle black',\n",
       " \"don't put the cart before the horse\",\n",
       " 'hit the nail on the head',\n",
       " 'the ball is in your court',\n",
       " 'one in the hand is worth more than two in the bush',\n",
       " 'biting off more than you can chew',\n",
       " 'let the cat out of the bag',\n",
       " 'kick the bucket',\n",
       " 'cost an arm and a leg',\n",
       " 'burn the midnight oil',\n",
       " 'there are many fish in the sea',\n",
       " 'bite the bullet',\n",
       " 'the elephant in the room',\n",
       " 'spill the beans',\n",
       " 'jump on the bandwagon',\n",
       " 'cry over spilled milk',\n",
       " 'when pigs fly',\n",
       " 'out of the frying pan and into the fire',\n",
       " \"time flies when you're having fun\",\n",
       " 'bite the hand that feeds you',\n",
       " 'go the extra mile',\n",
       " \"you can't judge a book by it's cover\",\n",
       " 'the whole nine yards',\n",
       " 'cut to the chase',\n",
       " \"don't count your chickens before they hatch\",\n",
       " 'speak of the devil',\n",
       " 'look before you leap',\n",
       " \"it's raining cats and dogs\",\n",
       " 'a taste of your own medicine',\n",
       " 'cross that bridge when you come to it',\n",
       " 'every cloud has a silver lining',\n",
       " \"you can lead a horse to water but you can't make him drink\",\n",
       " 'variety is the space of life',\n",
       " 'once in a blue moon',\n",
       " 'to make a long story short',\n",
       " 'wear your heart on your sleeve',\n",
       " 'keep the ball rolling',\n",
       " 'the icing on th cake',\n",
       " 'walking on eggshells',\n",
       " 'a needle in a haystack',\n",
       " 'tip of the iceberg',\n",
       " 'off the beaten path',\n",
       " 'a dime a dozen']"
      ]
     },
     "execution_count": 5,
     "metadata": {},
     "output_type": "execute_result"
    }
   ],
   "source": [
    "idiom_list = [line.strip() for line in open(\"idioms.txt\")]\n",
    "idiom_list"
   ]
  },
  {
   "cell_type": "markdown",
   "id": "669455f6",
   "metadata": {},
   "source": [
    "STEP 2 - SELECT RANDOM IDIOMS"
   ]
  },
  {
   "cell_type": "code",
   "execution_count": 9,
   "id": "a063ca3f",
   "metadata": {},
   "outputs": [],
   "source": [
    "import random"
   ]
  },
  {
   "cell_type": "code",
   "execution_count": 15,
   "id": "2861e64e",
   "metadata": {},
   "outputs": [
    {
     "data": {
      "text/plain": [
       "['go the extra mile',\n",
       " 'hit the nail on the head',\n",
       " 'bite the bullet',\n",
       " 'every cloud has a silver lining',\n",
       " \"time flies when you're having fun\",\n",
       " 'there are many fish in the sea',\n",
       " 'out of the frying pan and into the fire']"
      ]
     },
     "execution_count": 15,
     "metadata": {},
     "output_type": "execute_result"
    }
   ],
   "source": [
    "selected_idioms = random.sample(idiom_list, 7)\n",
    "selected_idioms"
   ]
  },
  {
   "cell_type": "code",
   "execution_count": null,
   "id": "05219be4",
   "metadata": {},
   "outputs": [],
   "source": [
    "STEP 3 - RANDOM EACH IDIOM & PRINT IT"
   ]
  },
  {
   "cell_type": "code",
   "execution_count": 22,
   "id": "a3f5309b",
   "metadata": {},
   "outputs": [
    {
     "name": "stdout",
     "output_type": "stream",
     "text": [
      "go extra the mile\n",
      "nail hit the the on head\n",
      "bullet bite the\n",
      "has cloud every silver lining a\n",
      "flies having fun when you're time\n",
      "are sea there fish in many the\n",
      "the frying of out and pan fire into the\n"
     ]
    }
   ],
   "source": [
    "# [expression for item in iterable] - this is a list comprehension\n",
    "# expression = join random string made of split words inside the idiom,& random string should be as long as the split idiom. random.sample default does not choose the same word twice\n",
    "# item =  idiom. this is a temporary variable that's created within the context of the list comprehension\n",
    "# iterable = selected_idioms. so do expression for item for each thing in selected_idioms\n",
    "\n",
    "# Use a list comprehension to jumble idioms\n",
    "jumbled_idioms = [' '.join(random.sample(idiom.split(), len(idiom.split()))) for idiom in selected_idioms]\n",
    "\n",
    "# Print the jumbled idioms\n",
    "for jumbled_idiom in jumbled_idioms:\n",
    "    print(jumbled_idiom)"
   ]
  },
  {
   "cell_type": "code",
   "execution_count": null,
   "id": "830f13e4",
   "metadata": {},
   "outputs": [],
   "source": [
    "COMBINED FINAL VERSION (added a period at the end of the last string)"
   ]
  },
  {
   "cell_type": "code",
   "execution_count": 34,
   "id": "9872ffb6",
   "metadata": {},
   "outputs": [
    {
     "name": "stdout",
     "output_type": "stream",
     "text": [
      "short to a long story make\n",
      "your your wear heart sleeve on\n",
      "book by judge a can't you it's cover\n",
      "of out the bag cat the let\n",
      "when bridge come to cross that you it\n",
      "the bullet bite\n",
      "that hand feeds the you bite.\n"
     ]
    }
   ],
   "source": [
    "[line for line in open(\"idioms.txt\")]\n",
    "idiom_list = [line.strip() for line in open(\"idioms.txt\")]\n",
    "selected_idioms = random.sample(idiom_list, 7)\n",
    "jumbled_idioms = [' '.join(random.sample(idiom.split(), len(idiom.split()))) for idiom in selected_idioms]\n",
    "for i, jumbled_idiom in enumerate(jumbled_idioms):\n",
    "    if i == len(jumbled_idioms) - 1:  # Check if it's the last idiom\n",
    "        print(jumbled_idiom + '.')\n",
    "    else:\n",
    "        print(jumbled_idiom)"
   ]
  },
  {
   "cell_type": "code",
   "execution_count": 33,
   "id": "9c0f92cd",
   "metadata": {},
   "outputs": [
    {
     "name": "stdout",
     "output_type": "stream",
     "text": [
      "cat let of bag the the out\n",
      "the spill beans\n",
      "you look before leap\n",
      "whole the nine yards\n",
      "pigs fly when\n",
      "eggshells on walking\n",
      "the oil midnight burn.\n"
     ]
    }
   ],
   "source": [
    "\n",
    "[line for line in open(\"idioms.txt\")]\n",
    "idiom_list = [line.strip() for line in open(\"idioms.txt\")]\n",
    "selected_idioms = random.sample(idiom_list, 7)\n",
    "jumbled_idioms = [' '.join(random.sample(idiom.split(), len(idiom.split()))) for idiom in selected_idioms]\n",
    "for i, jumbled_idiom in enumerate(jumbled_idioms):\n",
    "    if i == len(jumbled_idioms) - 1:  # Check if it's the last idiom\n",
    "        print(jumbled_idiom + '.')\n",
    "    else:\n",
    "        print(jumbled_idiom)"
   ]
  },
  {
   "cell_type": "code",
   "execution_count": null,
   "id": "13c89cf1",
   "metadata": {},
   "outputs": [],
   "source": []
  }
 ],
 "metadata": {
  "kernelspec": {
   "display_name": "Python 3 (ipykernel)",
   "language": "python",
   "name": "python3"
  },
  "language_info": {
   "codemirror_mode": {
    "name": "ipython",
    "version": 3
   },
   "file_extension": ".py",
   "mimetype": "text/x-python",
   "name": "python",
   "nbconvert_exporter": "python",
   "pygments_lexer": "ipython3",
   "version": "3.11.5"
  }
 },
 "nbformat": 4,
 "nbformat_minor": 5
}
