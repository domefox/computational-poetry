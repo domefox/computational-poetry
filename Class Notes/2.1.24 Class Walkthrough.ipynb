{
 "cells": [
  {
   "cell_type": "code",
   "execution_count": 1,
   "id": "f990a2b7",
   "metadata": {
    "scrolled": true
   },
   "outputs": [
    {
     "data": {
      "text/plain": [
       "10"
      ]
     },
     "execution_count": 1,
     "metadata": {},
     "output_type": "execute_result"
    }
   ],
   "source": [
    "5 + 5"
   ]
  },
  {
   "cell_type": "markdown",
   "id": "cca3db3d",
   "metadata": {},
   "source": [
    "hello my name is weber wong and this markdown which is just text\n",
    "# this is a header, using a pound sign\n",
    "this is *italicized* which is using asteriks\n",
    "https://www.markdownguide.org/basic-syntax/"
   ]
  },
  {
   "cell_type": "markdown",
   "id": "9d99c003",
   "metadata": {},
   "source": [
    "a - make cell above\n",
    "\n",
    "b - make cell below\n",
    "\n",
    "d - delete\n",
    "\n",
    "m - markdown\n",
    "\n",
    "y - code\n",
    "\n",
    "ctrl + enter - run cell\n",
    "\n",
    "shift + enter - run cell & go to next one"
   ]
  },
  {
   "cell_type": "markdown",
   "id": "a407c277",
   "metadata": {},
   "source": [
    "# some python\n",
    "\n",
    "expression -> interpreter (evaluates) -> value\n",
    "\n",
    "statements ->"
   ]
  },
  {
   "cell_type": "code",
   "execution_count": 4,
   "id": "f88bfb2f",
   "metadata": {},
   "outputs": [
    {
     "data": {
      "text/plain": [
       "10"
      ]
     },
     "execution_count": 4,
     "metadata": {},
     "output_type": "execute_result"
    }
   ],
   "source": [
    "4 + 6"
   ]
  },
  {
   "cell_type": "code",
   "execution_count": 5,
   "id": "a8173f82",
   "metadata": {
    "scrolled": true
   },
   "outputs": [
    {
     "data": {
      "text/plain": [
       "True"
      ]
     },
     "execution_count": 5,
     "metadata": {},
     "output_type": "execute_result"
    }
   ],
   "source": [
    "8 == 4 *2\n",
    "# is equals"
   ]
  },
  {
   "cell_type": "markdown",
   "id": "cfb5a35f",
   "metadata": {},
   "source": [
    "# values have types"
   ]
  },
  {
   "cell_type": "code",
   "execution_count": 6,
   "id": "4ca271b3",
   "metadata": {},
   "outputs": [
    {
     "data": {
      "text/plain": [
       "float"
      ]
     },
     "execution_count": 6,
     "metadata": {},
     "output_type": "execute_result"
    }
   ],
   "source": [
    "type(15.6)\n",
    "# type is to figure out what you're tryna do with it"
   ]
  },
  {
   "cell_type": "code",
   "execution_count": 7,
   "id": "89e80376",
   "metadata": {},
   "outputs": [
    {
     "data": {
      "text/plain": [
       "int"
      ]
     },
     "execution_count": 7,
     "metadata": {},
     "output_type": "execute_result"
    }
   ],
   "source": [
    "type(15)"
   ]
  },
  {
   "cell_type": "code",
   "execution_count": 8,
   "id": "db74ca3d",
   "metadata": {},
   "outputs": [
    {
     "data": {
      "text/plain": [
       "bool"
      ]
     },
     "execution_count": 8,
     "metadata": {},
     "output_type": "execute_result"
    }
   ],
   "source": [
    "type(True)"
   ]
  },
  {
   "cell_type": "markdown",
   "id": "b0ed73f3",
   "metadata": {},
   "source": [
    "# variables in python"
   ]
  },
  {
   "cell_type": "code",
   "execution_count": 12,
   "id": "f5539f8b",
   "metadata": {},
   "outputs": [],
   "source": [
    "mortimer = 4 + 5 * 6 # this is just setting a value"
   ]
  },
  {
   "cell_type": "code",
   "execution_count": 13,
   "id": "2bae1b6d",
   "metadata": {},
   "outputs": [
    {
     "data": {
      "text/plain": [
       "36"
      ]
     },
     "execution_count": 13,
     "metadata": {},
     "output_type": "execute_result"
    }
   ],
   "source": [
    "mortimer + 2"
   ]
  },
  {
   "cell_type": "code",
   "execution_count": 14,
   "id": "3899ca04",
   "metadata": {},
   "outputs": [
    {
     "ename": "NameError",
     "evalue": "name 'glorp' is not defined",
     "output_type": "error",
     "traceback": [
      "\u001b[1;31m------------------------------------------------------------------------\u001b[0m",
      "\u001b[1;31mNameError\u001b[0m                              Traceback (most recent call last)",
      "Cell \u001b[1;32mIn[14], line 1\u001b[0m\n\u001b[1;32m----> 1\u001b[0m glorp \u001b[38;5;241m+\u001b[39m \u001b[38;5;241m8\u001b[39m\n",
      "\u001b[1;31mNameError\u001b[0m: name 'glorp' is not defined"
     ]
    }
   ],
   "source": [
    "glorp + 8"
   ]
  },
  {
   "cell_type": "code",
   "execution_count": 20,
   "id": "e0084a4b",
   "metadata": {},
   "outputs": [
    {
     "data": {
      "text/plain": [
       "int"
      ]
     },
     "execution_count": 20,
     "metadata": {},
     "output_type": "execute_result"
    }
   ],
   "source": [
    "type (mortimer) "
   ]
  },
  {
   "cell_type": "code",
   "execution_count": 21,
   "id": "42dbe2ce",
   "metadata": {},
   "outputs": [
    {
     "data": {
      "text/plain": [
       "float"
      ]
     },
     "execution_count": 21,
     "metadata": {},
     "output_type": "execute_result"
    }
   ],
   "source": [
    "type (mortimer/2)"
   ]
  },
  {
   "cell_type": "code",
   "execution_count": 16,
   "id": "2758a9d0",
   "metadata": {},
   "outputs": [
    {
     "data": {
      "text/plain": [
       "1"
      ]
     },
     "execution_count": 16,
     "metadata": {},
     "output_type": "execute_result"
    }
   ],
   "source": [
    "5 % 2"
   ]
  },
  {
   "cell_type": "markdown",
   "id": "1156fcd2",
   "metadata": {},
   "source": [
    "# strings!"
   ]
  },
  {
   "cell_type": "code",
   "execution_count": 14,
   "id": "cebefcd4",
   "metadata": {
    "scrolled": true
   },
   "outputs": [
    {
     "data": {
      "text/plain": [
       "'hello my name is weber and this is a string literal as they say'"
      ]
     },
     "execution_count": 14,
     "metadata": {},
     "output_type": "execute_result"
    }
   ],
   "source": [
    "\"hello my name is weber and this is a string literal as they say\""
   ]
  },
  {
   "cell_type": "code",
   "execution_count": 15,
   "id": "4bd914e6",
   "metadata": {},
   "outputs": [],
   "source": [
    "greeting = \"hello my name is weber and this is a string literal as they say\""
   ]
  },
  {
   "cell_type": "code",
   "execution_count": 16,
   "id": "d784b820",
   "metadata": {},
   "outputs": [
    {
     "data": {
      "text/plain": [
       "'hello my name is weber and this is a string literal as they say'"
      ]
     },
     "execution_count": 16,
     "metadata": {},
     "output_type": "execute_result"
    }
   ],
   "source": [
    "greeting"
   ]
  },
  {
   "cell_type": "code",
   "execution_count": 17,
   "id": "c72d9c65",
   "metadata": {},
   "outputs": [
    {
     "data": {
      "text/plain": [
       "str"
      ]
     },
     "execution_count": 17,
     "metadata": {},
     "output_type": "execute_result"
    }
   ],
   "source": [
    "type(greeting)"
   ]
  },
  {
   "cell_type": "code",
   "execution_count": 18,
   "id": "dec260ab",
   "metadata": {},
   "outputs": [
    {
     "data": {
      "text/plain": [
       "63"
      ]
     },
     "execution_count": 18,
     "metadata": {},
     "output_type": "execute_result"
    }
   ],
   "source": [
    "len(greeting)"
   ]
  },
  {
   "cell_type": "code",
   "execution_count": 19,
   "id": "a46b6bd8",
   "metadata": {},
   "outputs": [
    {
     "data": {
      "text/plain": [
       "True"
      ]
     },
     "execution_count": 19,
     "metadata": {},
     "output_type": "execute_result"
    }
   ],
   "source": [
    "x = \"name\"\n",
    "x in greeting"
   ]
  },
  {
   "cell_type": "code",
   "execution_count": 20,
   "id": "c799ab81",
   "metadata": {},
   "outputs": [],
   "source": [
    "z = 'hello'\n"
   ]
  },
  {
   "cell_type": "markdown",
   "id": "90f3e7a8",
   "metadata": {},
   "source": [
    "# quoting and escape characters\n",
    "And then he said \"I think that's a cool idea\" and vanished\n",
    "can use single quote inside double quote and vice versa\n",
    "\"\\\" in front of apostrophe"
   ]
  },
  {
   "cell_type": "code",
   "execution_count": 21,
   "id": "c60f64a2",
   "metadata": {},
   "outputs": [],
   "source": [
    "z = 'And then he said, \"I think that\\'s a cool idea,\" and vanished'"
   ]
  },
  {
   "cell_type": "code",
   "execution_count": 22,
   "id": "445cdaaf",
   "metadata": {},
   "outputs": [
    {
     "data": {
      "text/plain": [
       "'And then he said, \"I think that\\'s a cool idea,\" and vanished'"
      ]
     },
     "execution_count": 22,
     "metadata": {},
     "output_type": "execute_result"
    }
   ],
   "source": [
    "z"
   ]
  },
  {
   "cell_type": "code",
   "execution_count": 23,
   "id": "d60d6d5c",
   "metadata": {},
   "outputs": [
    {
     "name": "stdout",
     "output_type": "stream",
     "text": [
      "And then he said, \"I think that's a cool idea,\" and vanished\n"
     ]
    }
   ],
   "source": [
    "print(z)"
   ]
  },
  {
   "cell_type": "markdown",
   "id": "bc6e07c8",
   "metadata": {},
   "source": [
    "print makes it look like it should without the backslash"
   ]
  },
  {
   "cell_type": "code",
   "execution_count": 25,
   "id": "c3dc56e9",
   "metadata": {},
   "outputs": [],
   "source": [
    "# \\\" - \\ is a break character to let things show up despite the syntax of pythob\n",
    "a = \"And then she said, \\\"Hey.\\\"\""
   ]
  },
  {
   "cell_type": "code",
   "execution_count": 26,
   "id": "63813fce",
   "metadata": {},
   "outputs": [
    {
     "name": "stdout",
     "output_type": "stream",
     "text": [
      "And then she said, \"Hey.\"\n"
     ]
    }
   ],
   "source": [
    "print(a)"
   ]
  },
  {
   "cell_type": "code",
   "execution_count": 28,
   "id": "8d5fe947",
   "metadata": {},
   "outputs": [],
   "source": [
    "# \\n - line break\n",
    "b = \"One two three\\nfour five six\""
   ]
  },
  {
   "cell_type": "code",
   "execution_count": 29,
   "id": "de6f73e9",
   "metadata": {},
   "outputs": [
    {
     "data": {
      "text/plain": [
       "'One two three\\nfour five six'"
      ]
     },
     "execution_count": 29,
     "metadata": {},
     "output_type": "execute_result"
    }
   ],
   "source": [
    "b"
   ]
  },
  {
   "cell_type": "code",
   "execution_count": 30,
   "id": "a3543e46",
   "metadata": {},
   "outputs": [
    {
     "name": "stdout",
     "output_type": "stream",
     "text": [
      "One two three\n",
      "four five six\n"
     ]
    }
   ],
   "source": [
    "print(b)"
   ]
  },
  {
   "cell_type": "markdown",
   "id": "75e6ca76",
   "metadata": {},
   "source": [
    "# string methods"
   ]
  },
  {
   "cell_type": "code",
   "execution_count": 31,
   "id": "b1615bba",
   "metadata": {},
   "outputs": [
    {
     "data": {
      "text/plain": [
       "'hello my name is weber and this is a string literal as they say'"
      ]
     },
     "execution_count": 31,
     "metadata": {},
     "output_type": "execute_result"
    }
   ],
   "source": [
    "greeting"
   ]
  },
  {
   "cell_type": "code",
   "execution_count": 32,
   "id": "888d05e2",
   "metadata": {},
   "outputs": [
    {
     "data": {
      "text/plain": [
       "True"
      ]
     },
     "execution_count": 32,
     "metadata": {},
     "output_type": "execute_result"
    }
   ],
   "source": [
    "greeting.startswith(\"hell\")"
   ]
  },
  {
   "cell_type": "code",
   "execution_count": 33,
   "id": "4f32eead",
   "metadata": {},
   "outputs": [
    {
     "data": {
      "text/plain": [
       "False"
      ]
     },
     "execution_count": 33,
     "metadata": {},
     "output_type": "execute_result"
    }
   ],
   "source": [
    "greeting.startswith(\"bleah\")"
   ]
  },
  {
   "cell_type": "code",
   "execution_count": 34,
   "id": "7cc39f34",
   "metadata": {},
   "outputs": [
    {
     "data": {
      "text/plain": [
       "9"
      ]
     },
     "execution_count": 34,
     "metadata": {},
     "output_type": "execute_result"
    }
   ],
   "source": [
    "greeting.find(\"name\") # which character it starts at"
   ]
  },
  {
   "cell_type": "code",
   "execution_count": 35,
   "id": "286b3b54",
   "metadata": {},
   "outputs": [],
   "source": [
    "# index, many other methods using string methods"
   ]
  },
  {
   "cell_type": "code",
   "execution_count": 36,
   "id": "2a3b4607",
   "metadata": {},
   "outputs": [
    {
     "data": {
      "text/plain": [
       "False"
      ]
     },
     "execution_count": 36,
     "metadata": {},
     "output_type": "execute_result"
    }
   ],
   "source": [
    "6 == 5"
   ]
  },
  {
   "cell_type": "code",
   "execution_count": 37,
   "id": "b2166573",
   "metadata": {},
   "outputs": [
    {
     "data": {
      "text/plain": [
       "False"
      ]
     },
     "execution_count": 37,
     "metadata": {},
     "output_type": "execute_result"
    }
   ],
   "source": [
    "greeting == \"aasdasda\""
   ]
  },
  {
   "cell_type": "code",
   "execution_count": 38,
   "id": "64b9491f",
   "metadata": {},
   "outputs": [
    {
     "data": {
      "text/plain": [
       "True"
      ]
     },
     "execution_count": 38,
     "metadata": {},
     "output_type": "execute_result"
    }
   ],
   "source": [
    "\"blarg\" == \"blarg\""
   ]
  },
  {
   "cell_type": "code",
   "execution_count": 39,
   "id": "f0442f60",
   "metadata": {},
   "outputs": [
    {
     "data": {
      "text/plain": [
       "True"
      ]
     },
     "execution_count": 39,
     "metadata": {},
     "output_type": "execute_result"
    }
   ],
   "source": [
    "\"b\" > \"a\""
   ]
  },
  {
   "cell_type": "markdown",
   "id": "df2524df",
   "metadata": {},
   "source": [
    "# string transformations!"
   ]
  },
  {
   "cell_type": "code",
   "execution_count": 40,
   "id": "4b9e2a6e",
   "metadata": {},
   "outputs": [
    {
     "data": {
      "text/plain": [
       "'HELLO MY NAME IS WEBER AND THIS IS A STRING LITERAL AS THEY SAY'"
      ]
     },
     "execution_count": 40,
     "metadata": {},
     "output_type": "execute_result"
    }
   ],
   "source": [
    "greeting.upper()"
   ]
  },
  {
   "cell_type": "code",
   "execution_count": 41,
   "id": "1de5defb",
   "metadata": {},
   "outputs": [
    {
     "data": {
      "text/plain": [
       "'argumentation! yelling!'"
      ]
     },
     "execution_count": 41,
     "metadata": {},
     "output_type": "execute_result"
    }
   ],
   "source": [
    "\"ARGUMENTATION! YELLING!\".lower()"
   ]
  },
  {
   "cell_type": "code",
   "execution_count": 42,
   "id": "af1feb0d",
   "metadata": {},
   "outputs": [
    {
     "data": {
      "text/plain": [
       "'hello my name is weber and this is a string literal as they say'"
      ]
     },
     "execution_count": 42,
     "metadata": {},
     "output_type": "execute_result"
    }
   ],
   "source": [
    "greeting.lower()"
   ]
  },
  {
   "cell_type": "code",
   "execution_count": 43,
   "id": "da40c4bb",
   "metadata": {},
   "outputs": [],
   "source": [
    "# typically doesn't change underlying object / string, returns a copy of it with the transformations"
   ]
  },
  {
   "cell_type": "code",
   "execution_count": 45,
   "id": "83031c89",
   "metadata": {},
   "outputs": [],
   "source": [
    "data = \"     hello there this is a test!      \\n\""
   ]
  },
  {
   "cell_type": "code",
   "execution_count": 46,
   "id": "1684e122",
   "metadata": {},
   "outputs": [
    {
     "data": {
      "text/plain": [
       "'hello there this is a test!'"
      ]
     },
     "execution_count": 46,
     "metadata": {},
     "output_type": "execute_result"
    }
   ],
   "source": [
    "data.strip()"
   ]
  },
  {
   "cell_type": "code",
   "execution_count": 49,
   "id": "7b1f67b7",
   "metadata": {},
   "outputs": [
    {
     "data": {
      "text/plain": [
       "'goodbye my name is weber and this is a string literal as they say'"
      ]
     },
     "execution_count": 49,
     "metadata": {},
     "output_type": "execute_result"
    }
   ],
   "source": [
    "greeting.replace(\"hello\",\"goodbye\")"
   ]
  },
  {
   "cell_type": "code",
   "execution_count": 50,
   "id": "fad5f958",
   "metadata": {},
   "outputs": [],
   "source": [
    "skydiving = greeting.replace(\"a\", \"aaaAAAAaaa\")"
   ]
  },
  {
   "cell_type": "code",
   "execution_count": 51,
   "id": "31bde08a",
   "metadata": {},
   "outputs": [
    {
     "data": {
      "text/plain": [
       "'hello my naaaAAAAaaame is weber aaaAAAAaaand this is aaaAAAAaaa string literaaaAAAAaaal aaaAAAAaaas they saaaAAAAaaay'"
      ]
     },
     "execution_count": 51,
     "metadata": {},
     "output_type": "execute_result"
    }
   ],
   "source": [
    "skydiving"
   ]
  },
  {
   "cell_type": "markdown",
   "id": "c6d95a8e",
   "metadata": {},
   "source": [
    "# reading\n"
   ]
  },
  {
   "cell_type": "code",
   "execution_count": 52,
   "id": "fa68aa83",
   "metadata": {},
   "outputs": [
    {
     "ename": "FileNotFoundError",
     "evalue": "[Errno 2] No such file or directory: 'sea_rose.txt'",
     "output_type": "error",
     "traceback": [
      "\u001b[1;31m---------------------------------------------------------------------------\u001b[0m",
      "\u001b[1;31mFileNotFoundError\u001b[0m                         Traceback (most recent call last)",
      "Cell \u001b[1;32mIn[52], line 1\u001b[0m\n\u001b[1;32m----> 1\u001b[0m text \u001b[38;5;241m=\u001b[39m \u001b[38;5;28mopen\u001b[39m(\u001b[38;5;124m\"\u001b[39m\u001b[38;5;124msea_rose.txt\u001b[39m\u001b[38;5;124m\"\u001b[39m)\u001b[38;5;241m.\u001b[39mread()\n",
      "File \u001b[1;32m~\\anaconda3\\Lib\\site-packages\\IPython\\core\\interactiveshell.py:286\u001b[0m, in \u001b[0;36m_modified_open\u001b[1;34m(file, *args, **kwargs)\u001b[0m\n\u001b[0;32m    279\u001b[0m \u001b[38;5;28;01mif\u001b[39;00m file \u001b[38;5;129;01min\u001b[39;00m {\u001b[38;5;241m0\u001b[39m, \u001b[38;5;241m1\u001b[39m, \u001b[38;5;241m2\u001b[39m}:\n\u001b[0;32m    280\u001b[0m     \u001b[38;5;28;01mraise\u001b[39;00m \u001b[38;5;167;01mValueError\u001b[39;00m(\n\u001b[0;32m    281\u001b[0m         \u001b[38;5;124mf\u001b[39m\u001b[38;5;124m\"\u001b[39m\u001b[38;5;124mIPython won\u001b[39m\u001b[38;5;124m'\u001b[39m\u001b[38;5;124mt let you open fd=\u001b[39m\u001b[38;5;132;01m{\u001b[39;00mfile\u001b[38;5;132;01m}\u001b[39;00m\u001b[38;5;124m by default \u001b[39m\u001b[38;5;124m\"\u001b[39m\n\u001b[0;32m    282\u001b[0m         \u001b[38;5;124m\"\u001b[39m\u001b[38;5;124mas it is likely to crash IPython. If you know what you are doing, \u001b[39m\u001b[38;5;124m\"\u001b[39m\n\u001b[0;32m    283\u001b[0m         \u001b[38;5;124m\"\u001b[39m\u001b[38;5;124myou can use builtins\u001b[39m\u001b[38;5;124m'\u001b[39m\u001b[38;5;124m open.\u001b[39m\u001b[38;5;124m\"\u001b[39m\n\u001b[0;32m    284\u001b[0m     )\n\u001b[1;32m--> 286\u001b[0m \u001b[38;5;28;01mreturn\u001b[39;00m io_open(file, \u001b[38;5;241m*\u001b[39margs, \u001b[38;5;241m*\u001b[39m\u001b[38;5;241m*\u001b[39mkwargs)\n",
      "\u001b[1;31mFileNotFoundError\u001b[0m: [Errno 2] No such file or directory: 'sea_rose.txt'"
     ]
    }
   ],
   "source": [
    "text = open(\"sea_rose.txt\").read() # prob needs to be there"
   ]
  },
  {
   "cell_type": "code",
   "execution_count": 57,
   "id": "112389f3",
   "metadata": {},
   "outputs": [
    {
     "ename": "TypeError",
     "evalue": "replace expected at least 2 arguments, got 1",
     "output_type": "error",
     "traceback": [
      "\u001b[1;31m---------------------------------------------------------------------------\u001b[0m",
      "\u001b[1;31mTypeError\u001b[0m                                 Traceback (most recent call last)",
      "Cell \u001b[1;32mIn[57], line 1\u001b[0m\n\u001b[1;32m----> 1\u001b[0m \u001b[38;5;28mprint\u001b[39m(text\u001b[38;5;241m.\u001b[39mreplace(\u001b[38;5;124m\"\u001b[39m\u001b[38;5;124m,\u001b[39m\u001b[38;5;124m\"\u001b[39m))\n",
      "\u001b[1;31mTypeError\u001b[0m: replace expected at least 2 arguments, got 1"
     ]
    }
   ],
   "source": [
    "print(text.replace(\",\"))"
   ]
  },
  {
   "cell_type": "code",
   "execution_count": 58,
   "id": "0a626b41",
   "metadata": {},
   "outputs": [],
   "source": [
    "text = \"a colorful cubist chained in plato's cave, I found that ignorance is iridescent bliss\""
   ]
  },
  {
   "cell_type": "code",
   "execution_count": 59,
   "id": "fdfebe69",
   "metadata": {},
   "outputs": [
    {
     "name": "stdout",
     "output_type": "stream",
     "text": [
      "a colorful cubist chained in plato's cave, 🌼 found that ignorance is iridescent bliss\n"
     ]
    }
   ],
   "source": [
    "print(text.replace(\"I\", \"🌼\"))"
   ]
  },
  {
   "cell_type": "code",
   "execution_count": 60,
   "id": "77bd508e",
   "metadata": {},
   "outputs": [
    {
     "data": {
      "text/plain": [
       "True"
      ]
     },
     "execution_count": 60,
     "metadata": {},
     "output_type": "execute_result"
    }
   ],
   "source": [
    "\"cubist\" in text\n"
   ]
  },
  {
   "cell_type": "markdown",
   "id": "a468c19c",
   "metadata": {},
   "source": [
    "# list!"
   ]
  },
  {
   "cell_type": "markdown",
   "id": "65d5d176",
   "metadata": {},
   "source": [
    "python list -> javascript array\n",
    "\n",
    "file -> string -> list -> filtering / transformation -> string -> screen/file\n",
    "\n",
    "this is the main workflow for editing poetry"
   ]
  },
  {
   "cell_type": "code",
   "execution_count": 62,
   "id": "1f0e5f0a",
   "metadata": {},
   "outputs": [
    {
     "data": {
      "text/plain": [
       "[5, 10, 15, 20, 25]"
      ]
     },
     "execution_count": 62,
     "metadata": {},
     "output_type": "execute_result"
    }
   ],
   "source": [
    "[5, 10,15,20,25]"
   ]
  },
  {
   "cell_type": "code",
   "execution_count": 63,
   "id": "8af007c9",
   "metadata": {},
   "outputs": [],
   "source": [
    "my_numbers = [5,10,15,20,25]"
   ]
  },
  {
   "cell_type": "code",
   "execution_count": 64,
   "id": "bee6a08d",
   "metadata": {},
   "outputs": [
    {
     "data": {
      "text/plain": [
       "1"
      ]
     },
     "execution_count": 64,
     "metadata": {},
     "output_type": "execute_result"
    }
   ],
   "source": [
    "len([5])"
   ]
  },
  {
   "cell_type": "code",
   "execution_count": 65,
   "id": "bfee6453",
   "metadata": {},
   "outputs": [
    {
     "data": {
      "text/plain": [
       "0"
      ]
     },
     "execution_count": 65,
     "metadata": {},
     "output_type": "execute_result"
    }
   ],
   "source": [
    "len([])"
   ]
  },
  {
   "cell_type": "code",
   "execution_count": 66,
   "id": "83250d4f",
   "metadata": {},
   "outputs": [
    {
     "data": {
      "text/plain": [
       "[5, 10, 15, 20, 25]"
      ]
     },
     "execution_count": 66,
     "metadata": {},
     "output_type": "execute_result"
    }
   ],
   "source": [
    "my_numbers"
   ]
  },
  {
   "cell_type": "code",
   "execution_count": 67,
   "id": "48368099",
   "metadata": {},
   "outputs": [
    {
     "data": {
      "text/plain": [
       "20"
      ]
     },
     "execution_count": 67,
     "metadata": {},
     "output_type": "execute_result"
    }
   ],
   "source": [
    "my_numbers[3]"
   ]
  },
  {
   "cell_type": "code",
   "execution_count": 68,
   "id": "6502963c",
   "metadata": {},
   "outputs": [
    {
     "data": {
      "text/plain": [
       "25"
      ]
     },
     "execution_count": 68,
     "metadata": {},
     "output_type": "execute_result"
    }
   ],
   "source": [
    "my_numbers[len(my_numbers)-1]"
   ]
  },
  {
   "cell_type": "code",
   "execution_count": 69,
   "id": "a5fc6313",
   "metadata": {},
   "outputs": [
    {
     "data": {
      "text/plain": [
       "3"
      ]
     },
     "execution_count": 69,
     "metadata": {},
     "output_type": "execute_result"
    }
   ],
   "source": [
    "len(my_numbers) -2"
   ]
  },
  {
   "cell_type": "markdown",
   "id": "1d8ceac6",
   "metadata": {},
   "source": [
    "# negative indices and slices"
   ]
  },
  {
   "cell_type": "code",
   "execution_count": 70,
   "id": "598b22f9",
   "metadata": {},
   "outputs": [
    {
     "data": {
      "text/plain": [
       "[5, 10, 15, 20, 25]"
      ]
     },
     "execution_count": 70,
     "metadata": {},
     "output_type": "execute_result"
    }
   ],
   "source": [
    "my_numbers"
   ]
  },
  {
   "cell_type": "code",
   "execution_count": 71,
   "id": "56c6ce98",
   "metadata": {},
   "outputs": [
    {
     "data": {
      "text/plain": [
       "15"
      ]
     },
     "execution_count": 71,
     "metadata": {},
     "output_type": "execute_result"
    }
   ],
   "source": [
    "my_numbers[-3]"
   ]
  },
  {
   "cell_type": "code",
   "execution_count": 72,
   "id": "a8fe64a9",
   "metadata": {},
   "outputs": [
    {
     "data": {
      "text/plain": [
       "[10, 15]"
      ]
     },
     "execution_count": 72,
     "metadata": {},
     "output_type": "execute_result"
    }
   ],
   "source": [
    "my_numbers[1:3]"
   ]
  },
  {
   "cell_type": "code",
   "execution_count": 73,
   "id": "7fce4da1",
   "metadata": {},
   "outputs": [
    {
     "data": {
      "text/plain": [
       "int"
      ]
     },
     "execution_count": 73,
     "metadata": {},
     "output_type": "execute_result"
    }
   ],
   "source": [
    "type(my_numbers[0])"
   ]
  },
  {
   "cell_type": "code",
   "execution_count": 74,
   "id": "e61762f8",
   "metadata": {},
   "outputs": [
    {
     "data": {
      "text/plain": [
       "list"
      ]
     },
     "execution_count": 74,
     "metadata": {},
     "output_type": "execute_result"
    }
   ],
   "source": [
    "type(my_numbers[1:3])"
   ]
  },
  {
   "cell_type": "code",
   "execution_count": 75,
   "id": "8ac0ddfc",
   "metadata": {},
   "outputs": [
    {
     "data": {
      "text/plain": [
       "[5, 10, 15]"
      ]
     },
     "execution_count": 75,
     "metadata": {},
     "output_type": "execute_result"
    }
   ],
   "source": [
    "my_numbers[:3]"
   ]
  },
  {
   "cell_type": "code",
   "execution_count": 76,
   "id": "395ebf6b",
   "metadata": {},
   "outputs": [
    {
     "data": {
      "text/plain": [
       "[25, 20, 15, 10, 5]"
      ]
     },
     "execution_count": 76,
     "metadata": {},
     "output_type": "execute_result"
    }
   ],
   "source": [
    "my_numbers[::-1]"
   ]
  },
  {
   "cell_type": "code",
   "execution_count": 77,
   "id": "cfa9fb04",
   "metadata": {},
   "outputs": [
    {
     "data": {
      "text/plain": [
       "[]"
      ]
     },
     "execution_count": 77,
     "metadata": {},
     "output_type": "execute_result"
    }
   ],
   "source": [
    "my_numbers[4:-4]"
   ]
  },
  {
   "cell_type": "code",
   "execution_count": 78,
   "id": "9e2658d1",
   "metadata": {},
   "outputs": [
    {
     "data": {
      "text/plain": [
       "'y'"
      ]
     },
     "execution_count": 78,
     "metadata": {},
     "output_type": "execute_result"
    }
   ],
   "source": [
    "greeting[-1]"
   ]
  },
  {
   "cell_type": "code",
   "execution_count": null,
   "id": "99e570d0",
   "metadata": {},
   "outputs": [],
   "source": [
    "f"
   ]
  }
 ],
 "metadata": {
  "kernelspec": {
   "display_name": "Python 3 (ipykernel)",
   "language": "python",
   "name": "python3"
  },
  "language_info": {
   "codemirror_mode": {
    "name": "ipython",
    "version": 3
   },
   "file_extension": ".py",
   "mimetype": "text/x-python",
   "name": "python",
   "nbconvert_exporter": "python",
   "pygments_lexer": "ipython3",
   "version": "3.11.5"
  }
 },
 "nbformat": 4,
 "nbformat_minor": 5
}
