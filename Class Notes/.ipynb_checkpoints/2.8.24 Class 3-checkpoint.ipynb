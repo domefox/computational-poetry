{
 "cells": [
  {
   "cell_type": "code",
   "execution_count": 1,
   "id": "f990a2b7",
   "metadata": {
    "scrolled": true
   },
   "outputs": [
    {
     "data": {
      "text/plain": [
       "10"
      ]
     },
     "execution_count": 1,
     "metadata": {},
     "output_type": "execute_result"
    }
   ],
   "source": [
    "5 + 5"
   ]
  },
  {
   "cell_type": "markdown",
   "id": "cca3db3d",
   "metadata": {},
   "source": [
    "hello my name is weber wong and this markdown which is just text\n",
    "# this is a header, using a pound sign\n",
    "this is *italicized* which is using asteriks\n",
    "https://www.markdownguide.org/basic-syntax/"
   ]
  },
  {
   "cell_type": "markdown",
   "id": "9d99c003",
   "metadata": {},
   "source": [
    "a - make cell above\n",
    "\n",
    "b - make cell below\n",
    "\n",
    "d - delete\n",
    "\n",
    "m - markdown\n",
    "\n",
    "y - code\n",
    "\n",
    "ctrl + enter - run cell\n",
    "\n",
    "shift + enter - run cell & go to next one"
   ]
  },
  {
   "cell_type": "markdown",
   "id": "a407c277",
   "metadata": {},
   "source": [
    "# some python\n",
    "\n",
    "expression -> interpreter (evaluates) -> value\n",
    "\n",
    "statements ->"
   ]
  },
  {
   "cell_type": "code",
   "execution_count": 4,
   "id": "f88bfb2f",
   "metadata": {},
   "outputs": [
    {
     "data": {
      "text/plain": [
       "10"
      ]
     },
     "execution_count": 4,
     "metadata": {},
     "output_type": "execute_result"
    }
   ],
   "source": [
    "4 + 6"
   ]
  },
  {
   "cell_type": "code",
   "execution_count": 5,
   "id": "a8173f82",
   "metadata": {
    "scrolled": true
   },
   "outputs": [
    {
     "data": {
      "text/plain": [
       "True"
      ]
     },
     "execution_count": 5,
     "metadata": {},
     "output_type": "execute_result"
    }
   ],
   "source": [
    "8 == 4 *2\n",
    "# is equals"
   ]
  },
  {
   "cell_type": "markdown",
   "id": "cfb5a35f",
   "metadata": {},
   "source": [
    "# values have types"
   ]
  },
  {
   "cell_type": "code",
   "execution_count": 6,
   "id": "4ca271b3",
   "metadata": {},
   "outputs": [
    {
     "data": {
      "text/plain": [
       "float"
      ]
     },
     "execution_count": 6,
     "metadata": {},
     "output_type": "execute_result"
    }
   ],
   "source": [
    "type(15.6)\n",
    "# type is to figure out what you're tryna do with it"
   ]
  },
  {
   "cell_type": "code",
   "execution_count": 7,
   "id": "89e80376",
   "metadata": {},
   "outputs": [
    {
     "data": {
      "text/plain": [
       "int"
      ]
     },
     "execution_count": 7,
     "metadata": {},
     "output_type": "execute_result"
    }
   ],
   "source": [
    "type(15)"
   ]
  },
  {
   "cell_type": "code",
   "execution_count": 8,
   "id": "db74ca3d",
   "metadata": {},
   "outputs": [
    {
     "data": {
      "text/plain": [
       "bool"
      ]
     },
     "execution_count": 8,
     "metadata": {},
     "output_type": "execute_result"
    }
   ],
   "source": [
    "type(True)"
   ]
  },
  {
   "cell_type": "markdown",
   "id": "b0ed73f3",
   "metadata": {},
   "source": [
    "# variables in python"
   ]
  },
  {
   "cell_type": "code",
   "execution_count": 12,
   "id": "f5539f8b",
   "metadata": {},
   "outputs": [],
   "source": [
    "mortimer = 4 + 5 * 6 # this is just setting a value"
   ]
  },
  {
   "cell_type": "code",
   "execution_count": 13,
   "id": "2bae1b6d",
   "metadata": {},
   "outputs": [
    {
     "data": {
      "text/plain": [
       "36"
      ]
     },
     "execution_count": 13,
     "metadata": {},
     "output_type": "execute_result"
    }
   ],
   "source": [
    "mortimer + 2"
   ]
  },
  {
   "cell_type": "code",
   "execution_count": 14,
   "id": "3899ca04",
   "metadata": {},
   "outputs": [
    {
     "ename": "NameError",
     "evalue": "name 'glorp' is not defined",
     "output_type": "error",
     "traceback": [
      "\u001b[1;31m------------------------------------------------------------------------\u001b[0m",
      "\u001b[1;31mNameError\u001b[0m                              Traceback (most recent call last)",
      "Cell \u001b[1;32mIn[14], line 1\u001b[0m\n\u001b[1;32m----> 1\u001b[0m glorp \u001b[38;5;241m+\u001b[39m \u001b[38;5;241m8\u001b[39m\n",
      "\u001b[1;31mNameError\u001b[0m: name 'glorp' is not defined"
     ]
    }
   ],
   "source": [
    "glorp + 8"
   ]
  },
  {
   "cell_type": "code",
   "execution_count": 20,
   "id": "e0084a4b",
   "metadata": {},
   "outputs": [
    {
     "data": {
      "text/plain": [
       "int"
      ]
     },
     "execution_count": 20,
     "metadata": {},
     "output_type": "execute_result"
    }
   ],
   "source": [
    "type (mortimer) "
   ]
  },
  {
   "cell_type": "code",
   "execution_count": 21,
   "id": "42dbe2ce",
   "metadata": {},
   "outputs": [
    {
     "data": {
      "text/plain": [
       "float"
      ]
     },
     "execution_count": 21,
     "metadata": {},
     "output_type": "execute_result"
    }
   ],
   "source": [
    "type (mortimer/2)"
   ]
  },
  {
   "cell_type": "code",
   "execution_count": 16,
   "id": "2758a9d0",
   "metadata": {},
   "outputs": [
    {
     "data": {
      "text/plain": [
       "1"
      ]
     },
     "execution_count": 16,
     "metadata": {},
     "output_type": "execute_result"
    }
   ],
   "source": [
    "5 % 2"
   ]
  },
  {
   "cell_type": "markdown",
   "id": "1156fcd2",
   "metadata": {},
   "source": [
    "# strings!"
   ]
  },
  {
   "cell_type": "code",
   "execution_count": 14,
   "id": "cebefcd4",
   "metadata": {
    "scrolled": true
   },
   "outputs": [
    {
     "data": {
      "text/plain": [
       "'hello my name is weber and this is a string literal as they say'"
      ]
     },
     "execution_count": 14,
     "metadata": {},
     "output_type": "execute_result"
    }
   ],
   "source": [
    "\"hello my name is weber and this is a string literal as they say\""
   ]
  },
  {
   "cell_type": "code",
   "execution_count": 15,
   "id": "4bd914e6",
   "metadata": {},
   "outputs": [],
   "source": [
    "greeting = \"hello my name is weber and this is a string literal as they say\""
   ]
  },
  {
   "cell_type": "code",
   "execution_count": 16,
   "id": "d784b820",
   "metadata": {},
   "outputs": [
    {
     "data": {
      "text/plain": [
       "'hello my name is weber and this is a string literal as they say'"
      ]
     },
     "execution_count": 16,
     "metadata": {},
     "output_type": "execute_result"
    }
   ],
   "source": [
    "greeting"
   ]
  },
  {
   "cell_type": "code",
   "execution_count": 17,
   "id": "c72d9c65",
   "metadata": {},
   "outputs": [
    {
     "data": {
      "text/plain": [
       "str"
      ]
     },
     "execution_count": 17,
     "metadata": {},
     "output_type": "execute_result"
    }
   ],
   "source": [
    "type(greeting)"
   ]
  },
  {
   "cell_type": "code",
   "execution_count": 18,
   "id": "dec260ab",
   "metadata": {},
   "outputs": [
    {
     "data": {
      "text/plain": [
       "63"
      ]
     },
     "execution_count": 18,
     "metadata": {},
     "output_type": "execute_result"
    }
   ],
   "source": [
    "len(greeting)"
   ]
  },
  {
   "cell_type": "code",
   "execution_count": 19,
   "id": "a46b6bd8",
   "metadata": {},
   "outputs": [
    {
     "data": {
      "text/plain": [
       "True"
      ]
     },
     "execution_count": 19,
     "metadata": {},
     "output_type": "execute_result"
    }
   ],
   "source": [
    "x = \"name\"\n",
    "x in greeting"
   ]
  },
  {
   "cell_type": "code",
   "execution_count": 20,
   "id": "72d363bb",
   "metadata": {},
   "outputs": [],
   "source": [
    "z = 'hello'\n"
   ]
  },
  {
   "cell_type": "markdown",
   "id": "b5988989",
   "metadata": {},
   "source": [
    "# quoting and escape characters\n",
    "And then he said \"I think that's a cool idea\" and vanished\n",
    "can use single quote inside double quote and vice versa\n",
    "\"\\\" in front of apostrophe"
   ]
  },
  {
   "cell_type": "code",
   "execution_count": 21,
   "id": "8fe05d34",
   "metadata": {},
   "outputs": [],
   "source": [
    "z = 'And then he said, \"I think that\\'s a cool idea,\" and vanished'"
   ]
  },
  {
   "cell_type": "code",
   "execution_count": 22,
   "id": "1e31edcd",
   "metadata": {},
   "outputs": [
    {
     "data": {
      "text/plain": [
       "'And then he said, \"I think that\\'s a cool idea,\" and vanished'"
      ]
     },
     "execution_count": 22,
     "metadata": {},
     "output_type": "execute_result"
    }
   ],
   "source": [
    "z"
   ]
  },
  {
   "cell_type": "code",
   "execution_count": 23,
   "id": "a0652a9b",
   "metadata": {},
   "outputs": [
    {
     "name": "stdout",
     "output_type": "stream",
     "text": [
      "And then he said, \"I think that's a cool idea,\" and vanished\n"
     ]
    }
   ],
   "source": [
    "print(z)"
   ]
  },
  {
   "cell_type": "markdown",
   "id": "e4815ef0",
   "metadata": {},
   "source": [
    "print makes it look like it should without the backslash"
   ]
  },
  {
   "cell_type": "code",
   "execution_count": 25,
   "id": "f81ac792",
   "metadata": {},
   "outputs": [],
   "source": [
    "# \\\" - \\ is a break character to let things show up despite the syntax of pythob\n",
    "a = \"And then she said, \\\"Hey.\\\"\""
   ]
  },
  {
   "cell_type": "code",
   "execution_count": 26,
   "id": "ece8d468",
   "metadata": {},
   "outputs": [
    {
     "name": "stdout",
     "output_type": "stream",
     "text": [
      "And then she said, \"Hey.\"\n"
     ]
    }
   ],
   "source": [
    "print(a)"
   ]
  },
  {
   "cell_type": "code",
   "execution_count": 28,
   "id": "69f36ab3",
   "metadata": {},
   "outputs": [],
   "source": [
    "# \\n - line break\n",
    "b = \"One two three\\nfour five six\""
   ]
  },
  {
   "cell_type": "code",
   "execution_count": 29,
   "id": "a828fe80",
   "metadata": {},
   "outputs": [
    {
     "data": {
      "text/plain": [
       "'One two three\\nfour five six'"
      ]
     },
     "execution_count": 29,
     "metadata": {},
     "output_type": "execute_result"
    }
   ],
   "source": [
    "b"
   ]
  },
  {
   "cell_type": "code",
   "execution_count": 30,
   "id": "a6ad1f8b",
   "metadata": {},
   "outputs": [
    {
     "name": "stdout",
     "output_type": "stream",
     "text": [
      "One two three\n",
      "four five six\n"
     ]
    }
   ],
   "source": [
    "print(b)"
   ]
  },
  {
   "cell_type": "markdown",
   "id": "43af98a3",
   "metadata": {},
   "source": [
    "# string methods"
   ]
  },
  {
   "cell_type": "code",
   "execution_count": 31,
   "id": "38a9a34b",
   "metadata": {},
   "outputs": [
    {
     "data": {
      "text/plain": [
       "'hello my name is weber and this is a string literal as they say'"
      ]
     },
     "execution_count": 31,
     "metadata": {},
     "output_type": "execute_result"
    }
   ],
   "source": [
    "greeting"
   ]
  },
  {
   "cell_type": "code",
   "execution_count": 32,
   "id": "ae41f835",
   "metadata": {},
   "outputs": [
    {
     "data": {
      "text/plain": [
       "True"
      ]
     },
     "execution_count": 32,
     "metadata": {},
     "output_type": "execute_result"
    }
   ],
   "source": [
    "greeting.startswith(\"hell\")"
   ]
  },
  {
   "cell_type": "code",
   "execution_count": 33,
   "id": "732ca837",
   "metadata": {},
   "outputs": [
    {
     "data": {
      "text/plain": [
       "False"
      ]
     },
     "execution_count": 33,
     "metadata": {},
     "output_type": "execute_result"
    }
   ],
   "source": [
    "greeting.startswith(\"bleah\")"
   ]
  },
  {
   "cell_type": "code",
   "execution_count": 34,
   "id": "ea35375d",
   "metadata": {},
   "outputs": [
    {
     "data": {
      "text/plain": [
       "9"
      ]
     },
     "execution_count": 34,
     "metadata": {},
     "output_type": "execute_result"
    }
   ],
   "source": [
    "greeting.find(\"name\") # which character it starts at"
   ]
  },
  {
   "cell_type": "code",
   "execution_count": 35,
   "id": "68889b10",
   "metadata": {},
   "outputs": [],
   "source": [
    "# index, many other methods using string methods"
   ]
  },
  {
   "cell_type": "code",
   "execution_count": 36,
   "id": "2c21247f",
   "metadata": {},
   "outputs": [
    {
     "data": {
      "text/plain": [
       "False"
      ]
     },
     "execution_count": 36,
     "metadata": {},
     "output_type": "execute_result"
    }
   ],
   "source": [
    "6 == 5"
   ]
  },
  {
   "cell_type": "code",
   "execution_count": 37,
   "id": "aaa20a83",
   "metadata": {},
   "outputs": [
    {
     "data": {
      "text/plain": [
       "False"
      ]
     },
     "execution_count": 37,
     "metadata": {},
     "output_type": "execute_result"
    }
   ],
   "source": [
    "greeting == \"aasdasda\""
   ]
  },
  {
   "cell_type": "code",
   "execution_count": 38,
   "id": "8cccd3e8",
   "metadata": {},
   "outputs": [
    {
     "data": {
      "text/plain": [
       "True"
      ]
     },
     "execution_count": 38,
     "metadata": {},
     "output_type": "execute_result"
    }
   ],
   "source": [
    "\"blarg\" == \"blarg\""
   ]
  },
  {
   "cell_type": "code",
   "execution_count": 39,
   "id": "23d52411",
   "metadata": {},
   "outputs": [
    {
     "data": {
      "text/plain": [
       "True"
      ]
     },
     "execution_count": 39,
     "metadata": {},
     "output_type": "execute_result"
    }
   ],
   "source": [
    "\"b\" > \"a\""
   ]
  },
  {
   "cell_type": "markdown",
   "id": "6ad04054",
   "metadata": {},
   "source": [
    "# string transformations!"
   ]
  },
  {
   "cell_type": "code",
   "execution_count": 40,
   "id": "8b47e829",
   "metadata": {},
   "outputs": [
    {
     "data": {
      "text/plain": [
       "'HELLO MY NAME IS WEBER AND THIS IS A STRING LITERAL AS THEY SAY'"
      ]
     },
     "execution_count": 40,
     "metadata": {},
     "output_type": "execute_result"
    }
   ],
   "source": [
    "greeting.upper()"
   ]
  },
  {
   "cell_type": "code",
   "execution_count": 41,
   "id": "99f7c154",
   "metadata": {},
   "outputs": [
    {
     "data": {
      "text/plain": [
       "'argumentation! yelling!'"
      ]
     },
     "execution_count": 41,
     "metadata": {},
     "output_type": "execute_result"
    }
   ],
   "source": [
    "\"ARGUMENTATION! YELLING!\".lower()"
   ]
  },
  {
   "cell_type": "code",
   "execution_count": 42,
   "id": "4fab6f6b",
   "metadata": {},
   "outputs": [
    {
     "data": {
      "text/plain": [
       "'hello my name is weber and this is a string literal as they say'"
      ]
     },
     "execution_count": 42,
     "metadata": {},
     "output_type": "execute_result"
    }
   ],
   "source": [
    "greeting.lower()"
   ]
  },
  {
   "cell_type": "code",
   "execution_count": 43,
   "id": "67c66070",
   "metadata": {},
   "outputs": [],
   "source": [
    "# typically doesn't change underlying object / string, returns a copy of it with the transformations"
   ]
  },
  {
   "cell_type": "code",
   "execution_count": 45,
   "id": "cf01979e",
   "metadata": {},
   "outputs": [],
   "source": [
    "data = \"     hello there this is a test!      \\n\""
   ]
  },
  {
   "cell_type": "code",
   "execution_count": 46,
   "id": "a46549a5",
   "metadata": {},
   "outputs": [
    {
     "data": {
      "text/plain": [
       "'hello there this is a test!'"
      ]
     },
     "execution_count": 46,
     "metadata": {},
     "output_type": "execute_result"
    }
   ],
   "source": [
    "data.strip()"
   ]
  },
  {
   "cell_type": "code",
   "execution_count": 49,
   "id": "fc4c08b8",
   "metadata": {},
   "outputs": [
    {
     "data": {
      "text/plain": [
       "'goodbye my name is weber and this is a string literal as they say'"
      ]
     },
     "execution_count": 49,
     "metadata": {},
     "output_type": "execute_result"
    }
   ],
   "source": [
    "greeting.replace(\"hello\",\"goodbye\")"
   ]
  },
  {
   "cell_type": "code",
   "execution_count": 50,
   "id": "0ae823a6",
   "metadata": {},
   "outputs": [],
   "source": [
    "skydiving = greeting.replace(\"a\", \"aaaAAAAaaa\")"
   ]
  },
  {
   "cell_type": "code",
   "execution_count": 51,
   "id": "e542ca0b",
   "metadata": {},
   "outputs": [
    {
     "data": {
      "text/plain": [
       "'hello my naaaAAAAaaame is weber aaaAAAAaaand this is aaaAAAAaaa string literaaaAAAAaaal aaaAAAAaaas they saaaAAAAaaay'"
      ]
     },
     "execution_count": 51,
     "metadata": {},
     "output_type": "execute_result"
    }
   ],
   "source": [
    "skydiving"
   ]
  },
  {
   "cell_type": "markdown",
   "id": "7a7346e8",
   "metadata": {},
   "source": [
    "# reading\n"
   ]
  },
  {
   "cell_type": "code",
   "execution_count": 52,
   "id": "bfecda90",
   "metadata": {},
   "outputs": [
    {
     "ename": "FileNotFoundError",
     "evalue": "[Errno 2] No such file or directory: 'sea_rose.txt'",
     "output_type": "error",
     "traceback": [
      "\u001b[1;31m---------------------------------------------------------------------------\u001b[0m",
      "\u001b[1;31mFileNotFoundError\u001b[0m                         Traceback (most recent call last)",
      "Cell \u001b[1;32mIn[52], line 1\u001b[0m\n\u001b[1;32m----> 1\u001b[0m text \u001b[38;5;241m=\u001b[39m \u001b[38;5;28mopen\u001b[39m(\u001b[38;5;124m\"\u001b[39m\u001b[38;5;124msea_rose.txt\u001b[39m\u001b[38;5;124m\"\u001b[39m)\u001b[38;5;241m.\u001b[39mread()\n",
      "File \u001b[1;32m~\\anaconda3\\Lib\\site-packages\\IPython\\core\\interactiveshell.py:286\u001b[0m, in \u001b[0;36m_modified_open\u001b[1;34m(file, *args, **kwargs)\u001b[0m\n\u001b[0;32m    279\u001b[0m \u001b[38;5;28;01mif\u001b[39;00m file \u001b[38;5;129;01min\u001b[39;00m {\u001b[38;5;241m0\u001b[39m, \u001b[38;5;241m1\u001b[39m, \u001b[38;5;241m2\u001b[39m}:\n\u001b[0;32m    280\u001b[0m     \u001b[38;5;28;01mraise\u001b[39;00m \u001b[38;5;167;01mValueError\u001b[39;00m(\n\u001b[0;32m    281\u001b[0m         \u001b[38;5;124mf\u001b[39m\u001b[38;5;124m\"\u001b[39m\u001b[38;5;124mIPython won\u001b[39m\u001b[38;5;124m'\u001b[39m\u001b[38;5;124mt let you open fd=\u001b[39m\u001b[38;5;132;01m{\u001b[39;00mfile\u001b[38;5;132;01m}\u001b[39;00m\u001b[38;5;124m by default \u001b[39m\u001b[38;5;124m\"\u001b[39m\n\u001b[0;32m    282\u001b[0m         \u001b[38;5;124m\"\u001b[39m\u001b[38;5;124mas it is likely to crash IPython. If you know what you are doing, \u001b[39m\u001b[38;5;124m\"\u001b[39m\n\u001b[0;32m    283\u001b[0m         \u001b[38;5;124m\"\u001b[39m\u001b[38;5;124myou can use builtins\u001b[39m\u001b[38;5;124m'\u001b[39m\u001b[38;5;124m open.\u001b[39m\u001b[38;5;124m\"\u001b[39m\n\u001b[0;32m    284\u001b[0m     )\n\u001b[1;32m--> 286\u001b[0m \u001b[38;5;28;01mreturn\u001b[39;00m io_open(file, \u001b[38;5;241m*\u001b[39margs, \u001b[38;5;241m*\u001b[39m\u001b[38;5;241m*\u001b[39mkwargs)\n",
      "\u001b[1;31mFileNotFoundError\u001b[0m: [Errno 2] No such file or directory: 'sea_rose.txt'"
     ]
    }
   ],
   "source": [
    "text = open(\"sea_rose.txt\").read() # prob needs to be there"
   ]
  },
  {
   "cell_type": "code",
   "execution_count": 57,
   "id": "088928f1",
   "metadata": {},
   "outputs": [
    {
     "ename": "TypeError",
     "evalue": "replace expected at least 2 arguments, got 1",
     "output_type": "error",
     "traceback": [
      "\u001b[1;31m---------------------------------------------------------------------------\u001b[0m",
      "\u001b[1;31mTypeError\u001b[0m                                 Traceback (most recent call last)",
      "Cell \u001b[1;32mIn[57], line 1\u001b[0m\n\u001b[1;32m----> 1\u001b[0m \u001b[38;5;28mprint\u001b[39m(text\u001b[38;5;241m.\u001b[39mreplace(\u001b[38;5;124m\"\u001b[39m\u001b[38;5;124m,\u001b[39m\u001b[38;5;124m\"\u001b[39m))\n",
      "\u001b[1;31mTypeError\u001b[0m: replace expected at least 2 arguments, got 1"
     ]
    }
   ],
   "source": [
    "print(text.replace(\",\"))"
   ]
  },
  {
   "cell_type": "code",
   "execution_count": 58,
   "id": "48e2e630",
   "metadata": {},
   "outputs": [],
   "source": [
    "text = \"a colorful cubist chained in plato's cave, I found that ignorance is iridescent bliss\""
   ]
  },
  {
   "cell_type": "code",
   "execution_count": 59,
   "id": "3f650039",
   "metadata": {},
   "outputs": [
    {
     "name": "stdout",
     "output_type": "stream",
     "text": [
      "a colorful cubist chained in plato's cave, 🌼 found that ignorance is iridescent bliss\n"
     ]
    }
   ],
   "source": [
    "print(text.replace(\"I\", \"🌼\"))"
   ]
  },
  {
   "cell_type": "code",
   "execution_count": 60,
   "id": "08968eed",
   "metadata": {},
   "outputs": [
    {
     "data": {
      "text/plain": [
       "True"
      ]
     },
     "execution_count": 60,
     "metadata": {},
     "output_type": "execute_result"
    }
   ],
   "source": [
    "\"cubist\" in text\n"
   ]
  },
  {
   "cell_type": "markdown",
   "id": "5704e780",
   "metadata": {},
   "source": [
    "# list!"
   ]
  },
  {
   "cell_type": "markdown",
   "id": "0d43cb9d",
   "metadata": {},
   "source": [
    "python list -> javascript array\n",
    "\n",
    "file -> string -> list -> filtering / transformation -> string -> screen/file\n",
    "\n",
    "this is the main workflow for editing poetry"
   ]
  },
  {
   "cell_type": "code",
   "execution_count": 62,
   "id": "197c4beb",
   "metadata": {},
   "outputs": [
    {
     "data": {
      "text/plain": [
       "[5, 10, 15, 20, 25]"
      ]
     },
     "execution_count": 62,
     "metadata": {},
     "output_type": "execute_result"
    }
   ],
   "source": [
    "[5, 10,15,20,25]"
   ]
  },
  {
   "cell_type": "code",
   "execution_count": 63,
   "id": "62854e56",
   "metadata": {},
   "outputs": [],
   "source": [
    "my_numbers = [5,10,15,20,25]"
   ]
  },
  {
   "cell_type": "code",
   "execution_count": 64,
   "id": "9ddad13b",
   "metadata": {},
   "outputs": [
    {
     "data": {
      "text/plain": [
       "1"
      ]
     },
     "execution_count": 64,
     "metadata": {},
     "output_type": "execute_result"
    }
   ],
   "source": [
    "len([5])"
   ]
  },
  {
   "cell_type": "code",
   "execution_count": 65,
   "id": "09b139ce",
   "metadata": {},
   "outputs": [
    {
     "data": {
      "text/plain": [
       "0"
      ]
     },
     "execution_count": 65,
     "metadata": {},
     "output_type": "execute_result"
    }
   ],
   "source": [
    "len([])"
   ]
  },
  {
   "cell_type": "code",
   "execution_count": 66,
   "id": "e5b2a1df",
   "metadata": {},
   "outputs": [
    {
     "data": {
      "text/plain": [
       "[5, 10, 15, 20, 25]"
      ]
     },
     "execution_count": 66,
     "metadata": {},
     "output_type": "execute_result"
    }
   ],
   "source": [
    "my_numbers"
   ]
  },
  {
   "cell_type": "code",
   "execution_count": 67,
   "id": "36a68d16",
   "metadata": {},
   "outputs": [
    {
     "data": {
      "text/plain": [
       "20"
      ]
     },
     "execution_count": 67,
     "metadata": {},
     "output_type": "execute_result"
    }
   ],
   "source": [
    "my_numbers[3]"
   ]
  },
  {
   "cell_type": "code",
   "execution_count": 68,
   "id": "5e2c64ed",
   "metadata": {},
   "outputs": [
    {
     "data": {
      "text/plain": [
       "25"
      ]
     },
     "execution_count": 68,
     "metadata": {},
     "output_type": "execute_result"
    }
   ],
   "source": [
    "my_numbers[len(my_numbers)-1]"
   ]
  },
  {
   "cell_type": "code",
   "execution_count": 69,
   "id": "e1dfcd69",
   "metadata": {},
   "outputs": [
    {
     "data": {
      "text/plain": [
       "3"
      ]
     },
     "execution_count": 69,
     "metadata": {},
     "output_type": "execute_result"
    }
   ],
   "source": [
    "len(my_numbers) -2"
   ]
  },
  {
   "cell_type": "markdown",
   "id": "99b71945",
   "metadata": {},
   "source": [
    "# negative indices and slices"
   ]
  },
  {
   "cell_type": "code",
   "execution_count": 70,
   "id": "a1bd7f96",
   "metadata": {},
   "outputs": [
    {
     "data": {
      "text/plain": [
       "[5, 10, 15, 20, 25]"
      ]
     },
     "execution_count": 70,
     "metadata": {},
     "output_type": "execute_result"
    }
   ],
   "source": [
    "my_numbers"
   ]
  },
  {
   "cell_type": "code",
   "execution_count": 71,
   "id": "b1c9fd12",
   "metadata": {},
   "outputs": [
    {
     "data": {
      "text/plain": [
       "15"
      ]
     },
     "execution_count": 71,
     "metadata": {},
     "output_type": "execute_result"
    }
   ],
   "source": [
    "my_numbers[-3]"
   ]
  },
  {
   "cell_type": "code",
   "execution_count": 72,
   "id": "c45cc0d0",
   "metadata": {},
   "outputs": [
    {
     "data": {
      "text/plain": [
       "[10, 15]"
      ]
     },
     "execution_count": 72,
     "metadata": {},
     "output_type": "execute_result"
    }
   ],
   "source": [
    "my_numbers[1:3]"
   ]
  },
  {
   "cell_type": "code",
   "execution_count": 73,
   "id": "5613de55",
   "metadata": {},
   "outputs": [
    {
     "data": {
      "text/plain": [
       "int"
      ]
     },
     "execution_count": 73,
     "metadata": {},
     "output_type": "execute_result"
    }
   ],
   "source": [
    "type(my_numbers[0])"
   ]
  },
  {
   "cell_type": "code",
   "execution_count": 74,
   "id": "8348ab5a",
   "metadata": {},
   "outputs": [
    {
     "data": {
      "text/plain": [
       "list"
      ]
     },
     "execution_count": 74,
     "metadata": {},
     "output_type": "execute_result"
    }
   ],
   "source": [
    "type(my_numbers[1:3])"
   ]
  },
  {
   "cell_type": "code",
   "execution_count": 75,
   "id": "76649125",
   "metadata": {},
   "outputs": [
    {
     "data": {
      "text/plain": [
       "[5, 10, 15]"
      ]
     },
     "execution_count": 75,
     "metadata": {},
     "output_type": "execute_result"
    }
   ],
   "source": [
    "my_numbers[:3]"
   ]
  },
  {
   "cell_type": "code",
   "execution_count": 76,
   "id": "718037be",
   "metadata": {},
   "outputs": [
    {
     "data": {
      "text/plain": [
       "[25, 20, 15, 10, 5]"
      ]
     },
     "execution_count": 76,
     "metadata": {},
     "output_type": "execute_result"
    }
   ],
   "source": [
    "my_numbers[::-1]"
   ]
  },
  {
   "cell_type": "code",
   "execution_count": 77,
   "id": "faad43c4",
   "metadata": {},
   "outputs": [
    {
     "data": {
      "text/plain": [
       "[]"
      ]
     },
     "execution_count": 77,
     "metadata": {},
     "output_type": "execute_result"
    }
   ],
   "source": [
    "my_numbers[4:-4]"
   ]
  },
  {
   "cell_type": "code",
   "execution_count": 78,
   "id": "9525daae",
   "metadata": {},
   "outputs": [
    {
     "data": {
      "text/plain": [
       "'y'"
      ]
     },
     "execution_count": 78,
     "metadata": {},
     "output_type": "execute_result"
    }
   ],
   "source": [
    "greeting[-1]"
   ]
  },
  {
   "cell_type": "code",
   "execution_count": 79,
   "id": "5262fb23",
   "metadata": {},
   "outputs": [
    {
     "data": {
      "text/plain": [
       "'a'"
      ]
     },
     "execution_count": 79,
     "metadata": {},
     "output_type": "execute_result"
    }
   ],
   "source": [
    "greeting[-2]"
   ]
  },
  {
   "cell_type": "code",
   "execution_count": 80,
   "id": "1bd6e7de",
   "metadata": {},
   "outputs": [
    {
     "data": {
      "text/plain": [
       "' my name i'"
      ]
     },
     "execution_count": 80,
     "metadata": {},
     "output_type": "execute_result"
    }
   ],
   "source": [
    "greeting[5:15]"
   ]
  },
  {
   "cell_type": "markdown",
   "id": "5a6fc675",
   "metadata": {},
   "source": [
    "# split and join\n",
    "\n",
    "* split: string --> list\n",
    "* join: list-> string"
   ]
  },
  {
   "cell_type": "code",
   "execution_count": 81,
   "id": "6a2b8fc3",
   "metadata": {},
   "outputs": [
    {
     "data": {
      "text/plain": [
       "'hello my name is weber and this is a string literal as they say'"
      ]
     },
     "execution_count": 81,
     "metadata": {},
     "output_type": "execute_result"
    }
   ],
   "source": [
    "greeting"
   ]
  },
  {
   "cell_type": "code",
   "execution_count": 82,
   "id": "3cb9d542",
   "metadata": {},
   "outputs": [
    {
     "data": {
      "text/plain": [
       "['hello',\n",
       " 'my',\n",
       " 'name',\n",
       " 'is',\n",
       " 'weber',\n",
       " 'and',\n",
       " 'this',\n",
       " 'is',\n",
       " 'a',\n",
       " 'string',\n",
       " 'literal',\n",
       " 'as',\n",
       " 'they',\n",
       " 'say']"
      ]
     },
     "execution_count": 82,
     "metadata": {},
     "output_type": "execute_result"
    }
   ],
   "source": [
    "greeting.split()"
   ]
  },
  {
   "cell_type": "code",
   "execution_count": 84,
   "id": "d32b496d",
   "metadata": {},
   "outputs": [],
   "source": [
    "poem = text.split(\"\\n\")"
   ]
  },
  {
   "cell_type": "code",
   "execution_count": 85,
   "id": "07d87582",
   "metadata": {},
   "outputs": [
    {
     "data": {
      "text/plain": [
       "[\"a colorful cubist chained in plato's cave, I found that ignorance is iridescent bliss\",\n",
       " \"a colorful cubist chained in plato's cave, I found that ignorance is iridescent bliss\"]"
      ]
     },
     "execution_count": 85,
     "metadata": {},
     "output_type": "execute_result"
    }
   ],
   "source": [
    "poem[:3] + poem[-3:] # up to index 3, -3 from end to end"
   ]
  },
  {
   "cell_type": "code",
   "execution_count": 86,
   "id": "8b241bd1",
   "metadata": {},
   "outputs": [],
   "source": [
    "words = greeting.split()"
   ]
  },
  {
   "cell_type": "code",
   "execution_count": 87,
   "id": "8cb0772c",
   "metadata": {},
   "outputs": [
    {
     "data": {
      "text/plain": [
       "['hello',\n",
       " 'my',\n",
       " 'name',\n",
       " 'is',\n",
       " 'weber',\n",
       " 'and',\n",
       " 'this',\n",
       " 'is',\n",
       " 'a',\n",
       " 'string',\n",
       " 'literal',\n",
       " 'as',\n",
       " 'they',\n",
       " 'say']"
      ]
     },
     "execution_count": 87,
     "metadata": {},
     "output_type": "execute_result"
    }
   ],
   "source": [
    "words"
   ]
  },
  {
   "cell_type": "code",
   "execution_count": 88,
   "id": "5647faaa",
   "metadata": {},
   "outputs": [
    {
     "data": {
      "text/plain": [
       "'hello my name is weber and this is a string literal as they say'"
      ]
     },
     "execution_count": 88,
     "metadata": {},
     "output_type": "execute_result"
    }
   ],
   "source": [
    "\" \".join(words) # this is the glue"
   ]
  },
  {
   "cell_type": "markdown",
   "id": "eda44de9",
   "metadata": {},
   "source": [
    "# randomness"
   ]
  },
  {
   "cell_type": "code",
   "execution_count": 89,
   "id": "3c498f9d",
   "metadata": {},
   "outputs": [],
   "source": [
    "import random"
   ]
  },
  {
   "cell_type": "code",
   "execution_count": 92,
   "id": "458dc67e",
   "metadata": {},
   "outputs": [
    {
     "data": {
      "text/plain": [
       "'is'"
      ]
     },
     "execution_count": 92,
     "metadata": {},
     "output_type": "execute_result"
    }
   ],
   "source": [
    "random.choice(words) # choice gives one"
   ]
  },
  {
   "cell_type": "code",
   "execution_count": 95,
   "id": "8cead677",
   "metadata": {},
   "outputs": [
    {
     "name": "stdout",
     "output_type": "stream",
     "text": [
      "weber\n",
      "is\n",
      "name\n"
     ]
    }
   ],
   "source": [
    "print(\"\\n\".join(random.sample(words,3))) # sample gives however much you put for second one"
   ]
  },
  {
   "cell_type": "markdown",
   "id": "0a767a6a",
   "metadata": {},
   "source": [
    "# list comprehensions\n",
    "[expression for type in list if condition]"
   ]
  },
  {
   "cell_type": "code",
   "execution_count": 96,
   "id": "0eb4c430",
   "metadata": {},
   "outputs": [
    {
     "data": {
      "text/plain": [
       "['hello',\n",
       " 'my',\n",
       " 'name',\n",
       " 'is',\n",
       " 'weber',\n",
       " 'and',\n",
       " 'this',\n",
       " 'is',\n",
       " 'a',\n",
       " 'string',\n",
       " 'literal',\n",
       " 'as',\n",
       " 'they',\n",
       " 'say']"
      ]
     },
     "execution_count": 96,
     "metadata": {},
     "output_type": "execute_result"
    }
   ],
   "source": [
    "[item for item in words]"
   ]
  },
  {
   "cell_type": "code",
   "execution_count": 98,
   "id": "30bfc2d7",
   "metadata": {},
   "outputs": [
    {
     "data": {
      "text/plain": [
       "['HELLO',\n",
       " 'MY',\n",
       " 'NAME',\n",
       " 'IS',\n",
       " 'WEBER',\n",
       " 'AND',\n",
       " 'THIS',\n",
       " 'IS',\n",
       " 'A',\n",
       " 'STRING',\n",
       " 'LITERAL',\n",
       " 'AS',\n",
       " 'THEY',\n",
       " 'SAY']"
      ]
     },
     "execution_count": 98,
     "metadata": {},
     "output_type": "execute_result"
    }
   ],
   "source": [
    "[item.upper() for item in words]"
   ]
  },
  {
   "cell_type": "code",
   "execution_count": 99,
   "id": "20c2e59c",
   "metadata": {},
   "outputs": [
    {
     "data": {
      "text/plain": [
       "['hel',\n",
       " 'my',\n",
       " 'nam',\n",
       " 'is',\n",
       " 'web',\n",
       " 'and',\n",
       " 'thi',\n",
       " 'is',\n",
       " 'a',\n",
       " 'str',\n",
       " 'lit',\n",
       " 'as',\n",
       " 'the',\n",
       " 'say']"
      ]
     },
     "execution_count": 99,
     "metadata": {},
     "output_type": "execute_result"
    }
   ],
   "source": [
    "[item[:3] for item in words]"
   ]
  },
  {
   "cell_type": "code",
   "execution_count": 101,
   "id": "79134958",
   "metadata": {},
   "outputs": [
    {
     "data": {
      "text/plain": [
       "['hel', 'nam', 'web', 'thi', 'str', 'lit', 'the']"
      ]
     },
     "execution_count": 101,
     "metadata": {},
     "output_type": "execute_result"
    }
   ],
   "source": [
    "[item[:3] for item in words if len(item) > 3]"
   ]
  },
  {
   "cell_type": "code",
   "execution_count": 102,
   "id": "8f248595",
   "metadata": {},
   "outputs": [
    {
     "data": {
      "text/plain": [
       "'ab'"
      ]
     },
     "execution_count": 102,
     "metadata": {},
     "output_type": "execute_result"
    }
   ],
   "source": [
    "\"a\" + \"b\""
   ]
  },
  {
   "cell_type": "markdown",
   "id": "1c4007ab",
   "metadata": {},
   "source": [
    "# CLASS 4 2/15/24\n",
    "\n",
    "List comprehension & for loops"
   ]
  },
  {
   "cell_type": "markdown",
   "id": "585ec66b",
   "metadata": {},
   "source": [
    "* input (texT) -> lines (units) -> list -> process -> output (lines)\n",
    "* input (list) -> processing -> output (list)\n",
    "* processing: transforming each item in the list; filtering (only include a subset of the lines in the output)"
   ]
  },
  {
   "cell_type": "code",
   "execution_count": 3,
   "id": "71eaf1e2",
   "metadata": {},
   "outputs": [
    {
     "data": {
      "text/plain": [
       "[5, 10, 15, 20, 25]"
      ]
     },
     "execution_count": 3,
     "metadata": {},
     "output_type": "execute_result"
    }
   ],
   "source": [
    "numbers = [5,10,15,20,25]\n",
    "numbers"
   ]
  },
  {
   "cell_type": "markdown",
   "id": "6149f792",
   "metadata": {},
   "source": [
    "[transform_expr for item in list_to_process if filter_expr]"
   ]
  },
  {
   "cell_type": "code",
   "execution_count": null,
   "id": "6029acff",
   "metadata": {},
   "outputs": [],
   "source": []
  }
 ],
 "metadata": {
  "kernelspec": {
   "display_name": "Python 3 (ipykernel)",
   "language": "python",
   "name": "python3"
  },
  "language_info": {
   "codemirror_mode": {
    "name": "ipython",
    "version": 3
   },
   "file_extension": ".py",
   "mimetype": "text/x-python",
   "name": "python",
   "nbconvert_exporter": "python",
   "pygments_lexer": "ipython3",
   "version": "3.11.5"
  }
 },
 "nbformat": 4,
 "nbformat_minor": 5
}
