{
 "cells": [
  {
   "cell_type": "code",
   "execution_count": null,
   "id": "246538f7",
   "metadata": {},
   "outputs": [],
   "source": [
    "Recognize speech\n",
    "Wreck a nice beach\n",
    "\n",
    "It was the best of times, it was the ___ of times.\n",
    "17 4005 4 9234\n",
    "\n",
    "12"
   ]
  },
  {
   "cell_type": "code",
   "execution_count": 1,
   "id": "5593ef34",
   "metadata": {},
   "outputs": [
    {
     "name": "stdout",
     "output_type": "stream",
     "text": [
      "352 804 415 39 89 640 866 667 408 613\n"
     ]
    }
   ],
   "source": [
    "import random\n",
    "print(' '.join([str(random.randrange(1000)) for item in range(10)]))"
   ]
  },
  {
   "cell_type": "code",
   "execution_count": 7,
   "id": "45fd862e",
   "metadata": {},
   "outputs": [
    {
     "ename": "NameError",
     "evalue": "name 'nlp' is not defined",
     "output_type": "error",
     "traceback": [
      "\u001b[1;31m---------------------------------------------------------------------------\u001b[0m",
      "\u001b[1;31mNameError\u001b[0m                                 Traceback (most recent call last)",
      "Cell \u001b[1;32mIn[7], line 1\u001b[0m\n\u001b[1;32m----> 1\u001b[0m doc \u001b[38;5;241m=\u001b[39m nlp(\u001b[38;5;28mopen\u001b[39m(\u001b[38;5;124m\"\u001b[39m\u001b[38;5;124m./frankenstein.txt\u001b[39m\u001b[38;5;124m\"\u001b[39m, encoding\u001b[38;5;241m=\u001b[39m\u001b[38;5;124m'\u001b[39m\u001b[38;5;124mutf8\u001b[39m\u001b[38;5;124m'\u001b[39m)\u001b[38;5;241m.\u001b[39mread())\n",
      "\u001b[1;31mNameError\u001b[0m: name 'nlp' is not defined"
     ]
    }
   ],
   "source": [
    "doc = nlp(open(\"./frankenstein.txt\", encoding='utf8').read()) #./ + [tab] lets you see everything in your file"
   ]
  },
  {
   "cell_type": "code",
   "execution_count": 2,
   "id": "d2e9da66",
   "metadata": {},
   "outputs": [
    {
     "ename": "NameError",
     "evalue": "name 'text' is not defined",
     "output_type": "error",
     "traceback": [
      "\u001b[1;31m---------------------------------------------------------------------------\u001b[0m",
      "\u001b[1;31mNameError\u001b[0m                                 Traceback (most recent call last)",
      "Cell \u001b[1;32mIn[2], line 1\u001b[0m\n\u001b[1;32m----> 1\u001b[0m words \u001b[38;5;241m=\u001b[39m text\u001b[38;5;241m.\u001b[39msplit()\n",
      "\u001b[1;31mNameError\u001b[0m: name 'text' is not defined"
     ]
    }
   ],
   "source": [
    "words = text.split()"
   ]
  },
  {
   "cell_type": "code",
   "execution_count": 8,
   "id": "296b9181",
   "metadata": {},
   "outputs": [],
   "source": [
    "import sys"
   ]
  },
  {
   "cell_type": "code",
   "execution_count": 12,
   "id": "4a45ae67",
   "metadata": {},
   "outputs": [
    {
     "name": "stdout",
     "output_type": "stream",
     "text": [
      "Requirement already satisfied: markovify in c:\\users\\weber\\anaconda3\\lib\\site-packages (0.9.4)\n",
      "Requirement already satisfied: unidecode in c:\\users\\weber\\anaconda3\\lib\\site-packages (from markovify) (1.2.0)\n"
     ]
    }
   ],
   "source": [
    "!{sys.executable} -m pip install markovify\n"
   ]
  },
  {
   "cell_type": "code",
   "execution_count": 13,
   "id": "37a6a05b",
   "metadata": {},
   "outputs": [],
   "source": [
    "import markovify"
   ]
  },
  {
   "cell_type": "code",
   "execution_count": 17,
   "id": "6d384891",
   "metadata": {},
   "outputs": [],
   "source": [
    "generator = markovify.Text(open(\"frankenstein.txt\", encoding=\"utf-8\").read())\n"
   ]
  },
  {
   "cell_type": "code",
   "execution_count": 18,
   "id": "c8009101",
   "metadata": {},
   "outputs": [
    {
     "data": {
      "text/plain": [
       "'The young woman joined him, and then with what a wretched hamlet on the point of death: my ravings, as I was, or what I knew that I might hereafter think it right to prevent artifice; and by these wonderful regions, seems still to trust myself to the serious consideration of this element was useful to my wife, and I saw, by the sophisms of the existence of the current, saved her, and smiled at the old man returned to the blooming cheek of life; I saw and heard the sound of voices, as the feelings of affection and mutual misfortune.'"
      ]
     },
     "execution_count": 18,
     "metadata": {},
     "output_type": "execute_result"
    }
   ],
   "source": [
    "generator.make_sentence()"
   ]
  },
  {
   "cell_type": "code",
   "execution_count": 19,
   "id": "8e2b3c27",
   "metadata": {},
   "outputs": [
    {
     "data": {
      "text/plain": [
       "'If the study to which I preserved in my misery.'"
      ]
     },
     "execution_count": 19,
     "metadata": {},
     "output_type": "execute_result"
    }
   ],
   "source": [
    "generator.make_short_sentence(50)"
   ]
  },
  {
   "cell_type": "code",
   "execution_count": 20,
   "id": "517ac3b5",
   "metadata": {},
   "outputs": [
    {
     "data": {
      "text/plain": [
       "'Surely in that manner.'"
      ]
     },
     "execution_count": 20,
     "metadata": {},
     "output_type": "execute_result"
    }
   ],
   "source": [
    "generator.make_short_sentence(40, tries=100) # tries to generate sentence a certian # of times"
   ]
  },
  {
   "cell_type": "code",
   "execution_count": 22,
   "id": "717a4563",
   "metadata": {},
   "outputs": [
    {
     "data": {
      "text/plain": [
       "'The latter name made me acquainted.'"
      ]
     },
     "execution_count": 22,
     "metadata": {},
     "output_type": "execute_result"
    }
   ],
   "source": [
    "generator.make_short_sentence(40, test_output=False)\n"
   ]
  }
 ],
 "metadata": {
  "kernelspec": {
   "display_name": "Python 3 (ipykernel)",
   "language": "python",
   "name": "python3"
  },
  "language_info": {
   "codemirror_mode": {
    "name": "ipython",
    "version": 3
   },
   "file_extension": ".py",
   "mimetype": "text/x-python",
   "name": "python",
   "nbconvert_exporter": "python",
   "pygments_lexer": "ipython3",
   "version": "3.11.5"
  }
 },
 "nbformat": 4,
 "nbformat_minor": 5
}
