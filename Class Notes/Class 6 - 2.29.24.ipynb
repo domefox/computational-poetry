{
 "cells": [
  {
   "cell_type": "code",
   "execution_count": 2,
   "id": "feb2d077",
   "metadata": {},
   "outputs": [
    {
     "name": "stdout",
     "output_type": "stream",
     "text": [
      "Collecting package metadata (current_repodata.json): ...working... done\n",
      "Solving environment: ...working... done\n",
      "\n",
      "# All requested packages already installed.\n",
      "\n"
     ]
    },
    {
     "name": "stderr",
     "output_type": "stream",
     "text": [
      "\n",
      "\n",
      "==> WARNING: A newer version of conda exists. <==\n",
      "  current version: 23.7.4\n",
      "  latest version: 24.1.2\n",
      "\n",
      "Please update conda by running\n",
      "\n",
      "    $ conda update -n base -c defaults conda\n",
      "\n",
      "Or to minimize the number of packages updated during conda update use\n",
      "\n",
      "     conda install conda=24.1.2\n",
      "\n",
      "\n"
     ]
    }
   ],
   "source": [
    "import sys\n",
    "!conda install -c conda-forge -y --prefix {sys.prefix} spacy"
   ]
  },
  {
   "cell_type": "code",
   "execution_count": 3,
   "id": "4072d971",
   "metadata": {},
   "outputs": [
    {
     "name": "stdout",
     "output_type": "stream",
     "text": [
      "Collecting en-core-web-md==3.7.1\n",
      "  Downloading https://github.com/explosion/spacy-models/releases/download/en_core_web_md-3.7.1/en_core_web_md-3.7.1-py3-none-any.whl (42.8 MB)\n",
      "     ---------------------------------------- 0.0/42.8 MB ? eta -:--:--\n",
      "     --------------------------------------- 0.0/42.8 MB 660.6 kB/s eta 0:01:05\n",
      "     ---------------------------------------- 0.3/42.8 MB 2.9 MB/s eta 0:00:15\n",
      "      --------------------------------------- 0.7/42.8 MB 4.6 MB/s eta 0:00:10\n",
      "      --------------------------------------- 1.0/42.8 MB 5.5 MB/s eta 0:00:08\n",
      "     - -------------------------------------- 1.4/42.8 MB 6.4 MB/s eta 0:00:07\n",
      "     - -------------------------------------- 1.7/42.8 MB 6.1 MB/s eta 0:00:07\n",
      "     - -------------------------------------- 2.1/42.8 MB 6.3 MB/s eta 0:00:07\n",
      "     -- ------------------------------------- 2.6/42.8 MB 6.8 MB/s eta 0:00:06\n",
      "     -- ------------------------------------- 2.8/42.8 MB 7.2 MB/s eta 0:00:06\n",
      "     -- ------------------------------------- 2.8/42.8 MB 7.2 MB/s eta 0:00:06\n",
      "     -- ------------------------------------- 3.2/42.8 MB 6.3 MB/s eta 0:00:07\n",
      "     --- ------------------------------------ 3.5/42.8 MB 6.4 MB/s eta 0:00:07\n",
      "     --- ------------------------------------ 3.8/42.8 MB 6.4 MB/s eta 0:00:07\n",
      "     --- ------------------------------------ 4.2/42.8 MB 6.6 MB/s eta 0:00:06\n",
      "     ---- ----------------------------------- 4.8/42.8 MB 6.9 MB/s eta 0:00:06\n",
      "     ---- ----------------------------------- 5.0/42.8 MB 6.8 MB/s eta 0:00:06\n",
      "     ----- ---------------------------------- 5.5/42.8 MB 7.1 MB/s eta 0:00:06\n",
      "     ----- ---------------------------------- 5.9/42.8 MB 7.1 MB/s eta 0:00:06\n",
      "     ----- ---------------------------------- 6.2/42.8 MB 7.1 MB/s eta 0:00:06\n",
      "     ------ --------------------------------- 6.7/42.8 MB 7.2 MB/s eta 0:00:06\n",
      "     ------ --------------------------------- 7.1/42.8 MB 7.3 MB/s eta 0:00:05\n",
      "     ------ --------------------------------- 7.5/42.8 MB 7.3 MB/s eta 0:00:05\n",
      "     ------- -------------------------------- 7.8/42.8 MB 7.3 MB/s eta 0:00:05\n",
      "     ------- -------------------------------- 8.2/42.8 MB 7.4 MB/s eta 0:00:05\n",
      "     -------- ------------------------------- 8.6/42.8 MB 7.4 MB/s eta 0:00:05\n",
      "     -------- ------------------------------- 9.0/42.8 MB 7.5 MB/s eta 0:00:05\n",
      "     -------- ------------------------------- 9.4/42.8 MB 7.5 MB/s eta 0:00:05\n",
      "     --------- ------------------------------ 9.8/42.8 MB 7.6 MB/s eta 0:00:05\n",
      "     --------- ------------------------------ 10.1/42.8 MB 7.5 MB/s eta 0:00:05\n",
      "     --------- ------------------------------ 10.6/42.8 MB 7.9 MB/s eta 0:00:05\n",
      "     ---------- ----------------------------- 11.0/42.8 MB 8.0 MB/s eta 0:00:04\n",
      "     ---------- ----------------------------- 11.4/42.8 MB 8.0 MB/s eta 0:00:04\n",
      "     ----------- ---------------------------- 11.8/42.8 MB 8.1 MB/s eta 0:00:04\n",
      "     ----------- ---------------------------- 12.2/42.8 MB 8.0 MB/s eta 0:00:04\n",
      "     ----------- ---------------------------- 12.5/42.8 MB 8.1 MB/s eta 0:00:04\n",
      "     ------------ --------------------------- 13.0/42.8 MB 8.0 MB/s eta 0:00:04\n",
      "     ------------ --------------------------- 13.3/42.8 MB 8.5 MB/s eta 0:00:04\n",
      "     ------------ --------------------------- 13.7/42.8 MB 8.4 MB/s eta 0:00:04\n",
      "     ------------- -------------------------- 14.1/42.8 MB 8.5 MB/s eta 0:00:04\n",
      "     ------------- -------------------------- 14.5/42.8 MB 8.5 MB/s eta 0:00:04\n",
      "     ------------- -------------------------- 14.8/42.8 MB 8.4 MB/s eta 0:00:04\n",
      "     -------------- ------------------------- 15.3/42.8 MB 8.5 MB/s eta 0:00:04\n",
      "     -------------- ------------------------- 15.7/42.8 MB 8.4 MB/s eta 0:00:04\n",
      "     --------------- ------------------------ 16.1/42.8 MB 8.4 MB/s eta 0:00:04\n",
      "     --------------- ------------------------ 16.5/42.8 MB 8.5 MB/s eta 0:00:04\n",
      "     --------------- ------------------------ 16.8/42.8 MB 8.3 MB/s eta 0:00:04\n",
      "     ---------------- ----------------------- 17.2/42.8 MB 8.3 MB/s eta 0:00:04\n",
      "     ---------------- ----------------------- 17.5/42.8 MB 8.4 MB/s eta 0:00:04\n",
      "     ---------------- ----------------------- 17.8/42.8 MB 8.2 MB/s eta 0:00:04\n",
      "     ---------------- ----------------------- 18.1/42.8 MB 8.2 MB/s eta 0:00:04\n",
      "     ----------------- ---------------------- 18.4/42.8 MB 8.1 MB/s eta 0:00:04\n",
      "     ----------------- ---------------------- 18.7/42.8 MB 8.0 MB/s eta 0:00:04\n",
      "     ----------------- ---------------------- 19.1/42.8 MB 8.0 MB/s eta 0:00:03\n",
      "     ------------------ --------------------- 19.5/42.8 MB 8.0 MB/s eta 0:00:03\n",
      "     ------------------ --------------------- 19.9/42.8 MB 8.1 MB/s eta 0:00:03\n",
      "     ------------------ --------------------- 20.3/42.8 MB 8.0 MB/s eta 0:00:03\n",
      "     ------------------- -------------------- 20.6/42.8 MB 8.0 MB/s eta 0:00:03\n",
      "     ------------------- -------------------- 21.1/42.8 MB 8.0 MB/s eta 0:00:03\n",
      "     ------------------- -------------------- 21.4/42.8 MB 7.9 MB/s eta 0:00:03\n",
      "     -------------------- ------------------- 21.7/42.8 MB 7.9 MB/s eta 0:00:03\n",
      "     -------------------- ------------------- 22.1/42.8 MB 7.9 MB/s eta 0:00:03\n",
      "     --------------------- ------------------ 22.5/42.8 MB 7.8 MB/s eta 0:00:03\n",
      "     --------------------- ------------------ 22.8/42.8 MB 7.8 MB/s eta 0:00:03\n",
      "     --------------------- ------------------ 23.2/42.8 MB 7.8 MB/s eta 0:00:03\n",
      "     ---------------------- ----------------- 23.6/42.8 MB 7.9 MB/s eta 0:00:03\n",
      "     ---------------------- ----------------- 23.9/42.8 MB 7.9 MB/s eta 0:00:03\n",
      "     ---------------------- ----------------- 24.3/42.8 MB 7.9 MB/s eta 0:00:03\n",
      "     ----------------------- ---------------- 24.8/42.8 MB 7.9 MB/s eta 0:00:03\n",
      "     ----------------------- ---------------- 25.1/42.8 MB 7.8 MB/s eta 0:00:03\n",
      "     ----------------------- ---------------- 25.6/42.8 MB 7.8 MB/s eta 0:00:03\n",
      "     ------------------------ --------------- 26.0/42.8 MB 7.8 MB/s eta 0:00:03\n",
      "     ------------------------ --------------- 26.3/42.8 MB 7.8 MB/s eta 0:00:03\n",
      "     ------------------------ --------------- 26.7/42.8 MB 7.8 MB/s eta 0:00:03\n",
      "     ------------------------- -------------- 27.1/42.8 MB 7.9 MB/s eta 0:00:02\n",
      "     ------------------------- -------------- 27.5/42.8 MB 8.0 MB/s eta 0:00:02\n",
      "     -------------------------- ------------- 28.1/42.8 MB 8.1 MB/s eta 0:00:02\n",
      "     -------------------------- ------------- 28.6/42.8 MB 8.3 MB/s eta 0:00:02\n",
      "     --------------------------- ------------ 28.9/42.8 MB 8.4 MB/s eta 0:00:02\n",
      "     --------------------------- ------------ 29.4/42.8 MB 8.5 MB/s eta 0:00:02\n",
      "     --------------------------- ------------ 29.9/42.8 MB 8.6 MB/s eta 0:00:02\n",
      "     ---------------------------- ----------- 30.1/42.8 MB 8.4 MB/s eta 0:00:02\n",
      "     ---------------------------- ----------- 30.6/42.8 MB 8.5 MB/s eta 0:00:02\n",
      "     ----------------------------- ---------- 31.0/42.8 MB 8.6 MB/s eta 0:00:02\n",
      "     ----------------------------- ---------- 31.5/42.8 MB 8.6 MB/s eta 0:00:02\n",
      "     ----------------------------- ---------- 31.9/42.8 MB 8.6 MB/s eta 0:00:02\n",
      "     ------------------------------ --------- 32.2/42.8 MB 8.6 MB/s eta 0:00:02\n",
      "     ------------------------------ --------- 32.7/42.8 MB 8.8 MB/s eta 0:00:02\n",
      "     ------------------------------ --------- 33.1/42.8 MB 8.8 MB/s eta 0:00:02\n",
      "     ------------------------------- -------- 33.4/42.8 MB 8.8 MB/s eta 0:00:02\n",
      "     ------------------------------- -------- 33.9/42.8 MB 8.7 MB/s eta 0:00:02\n",
      "     ------------------------------- -------- 34.1/42.8 MB 8.7 MB/s eta 0:00:01\n",
      "     -------------------------------- ------- 34.5/42.8 MB 8.7 MB/s eta 0:00:01\n",
      "     -------------------------------- ------- 35.0/42.8 MB 8.7 MB/s eta 0:00:01\n",
      "     --------------------------------- ------ 35.5/42.8 MB 9.0 MB/s eta 0:00:01\n",
      "     --------------------------------- ------ 35.8/42.8 MB 8.8 MB/s eta 0:00:01\n",
      "     --------------------------------- ------ 36.2/42.8 MB 8.8 MB/s eta 0:00:01\n",
      "     ---------------------------------- ----- 36.6/42.8 MB 9.0 MB/s eta 0:00:01\n",
      "     ---------------------------------- ----- 37.0/42.8 MB 9.0 MB/s eta 0:00:01\n",
      "     ---------------------------------- ----- 37.4/42.8 MB 8.8 MB/s eta 0:00:01\n",
      "     ----------------------------------- ---- 37.7/42.8 MB 8.8 MB/s eta 0:00:01\n",
      "     ----------------------------------- ---- 38.1/42.8 MB 8.7 MB/s eta 0:00:01\n",
      "     ----------------------------------- ---- 38.5/42.8 MB 8.6 MB/s eta 0:00:01\n",
      "     ------------------------------------ --- 38.9/42.8 MB 8.6 MB/s eta 0:00:01\n",
      "     ------------------------------------ --- 39.2/42.8 MB 8.6 MB/s eta 0:00:01\n",
      "     ------------------------------------ --- 39.5/42.8 MB 8.4 MB/s eta 0:00:01\n",
      "     ------------------------------------- -- 39.8/42.8 MB 8.3 MB/s eta 0:00:01\n",
      "     ------------------------------------- -- 40.3/42.8 MB 8.3 MB/s eta 0:00:01\n",
      "     -------------------------------------- - 40.8/42.8 MB 8.4 MB/s eta 0:00:01\n",
      "     -------------------------------------- - 41.1/42.8 MB 8.4 MB/s eta 0:00:01\n",
      "     -------------------------------------- - 41.4/42.8 MB 8.2 MB/s eta 0:00:01\n",
      "     -------------------------------------- - 41.7/42.8 MB 8.2 MB/s eta 0:00:01\n",
      "     ---------------------------------------  42.1/42.8 MB 8.2 MB/s eta 0:00:01\n",
      "     ---------------------------------------  42.5/42.8 MB 8.2 MB/s eta 0:00:01\n",
      "     ---------------------------------------  42.8/42.8 MB 8.2 MB/s eta 0:00:01\n",
      "     ---------------------------------------  42.8/42.8 MB 8.2 MB/s eta 0:00:01\n",
      "     ---------------------------------------- 42.8/42.8 MB 7.6 MB/s eta 0:00:00\n",
      "Requirement already satisfied: spacy<3.8.0,>=3.7.2 in c:\\users\\weber\\anaconda3\\lib\\site-packages (from en-core-web-md==3.7.1) (3.7.2)\n",
      "Requirement already satisfied: spacy-legacy<3.1.0,>=3.0.11 in c:\\users\\weber\\anaconda3\\lib\\site-packages (from spacy<3.8.0,>=3.7.2->en-core-web-md==3.7.1) (3.0.12)\n",
      "Requirement already satisfied: spacy-loggers<2.0.0,>=1.0.0 in c:\\users\\weber\\anaconda3\\lib\\site-packages (from spacy<3.8.0,>=3.7.2->en-core-web-md==3.7.1) (1.0.5)\n",
      "Requirement already satisfied: murmurhash<1.1.0,>=0.28.0 in c:\\users\\weber\\anaconda3\\lib\\site-packages (from spacy<3.8.0,>=3.7.2->en-core-web-md==3.7.1) (1.0.10)\n",
      "Requirement already satisfied: cymem<2.1.0,>=2.0.2 in c:\\users\\weber\\anaconda3\\lib\\site-packages (from spacy<3.8.0,>=3.7.2->en-core-web-md==3.7.1) (2.0.8)\n",
      "Requirement already satisfied: preshed<3.1.0,>=3.0.2 in c:\\users\\weber\\anaconda3\\lib\\site-packages (from spacy<3.8.0,>=3.7.2->en-core-web-md==3.7.1) (3.0.9)\n",
      "Requirement already satisfied: thinc<8.3.0,>=8.1.8 in c:\\users\\weber\\anaconda3\\lib\\site-packages (from spacy<3.8.0,>=3.7.2->en-core-web-md==3.7.1) (8.2.2)\n",
      "Requirement already satisfied: wasabi<1.2.0,>=0.9.1 in c:\\users\\weber\\anaconda3\\lib\\site-packages (from spacy<3.8.0,>=3.7.2->en-core-web-md==3.7.1) (1.1.2)\n",
      "Requirement already satisfied: srsly<3.0.0,>=2.4.3 in c:\\users\\weber\\anaconda3\\lib\\site-packages (from spacy<3.8.0,>=3.7.2->en-core-web-md==3.7.1) (2.4.8)\n",
      "Requirement already satisfied: catalogue<2.1.0,>=2.0.6 in c:\\users\\weber\\anaconda3\\lib\\site-packages (from spacy<3.8.0,>=3.7.2->en-core-web-md==3.7.1) (2.0.10)\n",
      "Requirement already satisfied: weasel<0.4.0,>=0.1.0 in c:\\users\\weber\\anaconda3\\lib\\site-packages (from spacy<3.8.0,>=3.7.2->en-core-web-md==3.7.1) (0.3.4)\n",
      "Requirement already satisfied: typer<0.10.0,>=0.3.0 in c:\\users\\weber\\anaconda3\\lib\\site-packages (from spacy<3.8.0,>=3.7.2->en-core-web-md==3.7.1) (0.9.0)\n",
      "Requirement already satisfied: smart-open<7.0.0,>=5.2.1 in c:\\users\\weber\\anaconda3\\lib\\site-packages (from spacy<3.8.0,>=3.7.2->en-core-web-md==3.7.1) (5.2.1)\n",
      "Requirement already satisfied: tqdm<5.0.0,>=4.38.0 in c:\\users\\weber\\anaconda3\\lib\\site-packages (from spacy<3.8.0,>=3.7.2->en-core-web-md==3.7.1) (4.65.0)\n",
      "Requirement already satisfied: requests<3.0.0,>=2.13.0 in c:\\users\\weber\\anaconda3\\lib\\site-packages (from spacy<3.8.0,>=3.7.2->en-core-web-md==3.7.1) (2.31.0)\n",
      "Requirement already satisfied: pydantic!=1.8,!=1.8.1,<3.0.0,>=1.7.4 in c:\\users\\weber\\anaconda3\\lib\\site-packages (from spacy<3.8.0,>=3.7.2->en-core-web-md==3.7.1) (1.10.8)\n",
      "Requirement already satisfied: jinja2 in c:\\users\\weber\\anaconda3\\lib\\site-packages (from spacy<3.8.0,>=3.7.2->en-core-web-md==3.7.1) (3.1.2)\n",
      "Requirement already satisfied: setuptools in c:\\users\\weber\\anaconda3\\lib\\site-packages (from spacy<3.8.0,>=3.7.2->en-core-web-md==3.7.1) (68.0.0)\n",
      "Requirement already satisfied: packaging>=20.0 in c:\\users\\weber\\anaconda3\\lib\\site-packages (from spacy<3.8.0,>=3.7.2->en-core-web-md==3.7.1) (23.1)\n",
      "Requirement already satisfied: langcodes<4.0.0,>=3.2.0 in c:\\users\\weber\\anaconda3\\lib\\site-packages (from spacy<3.8.0,>=3.7.2->en-core-web-md==3.7.1) (3.3.0)\n",
      "Requirement already satisfied: numpy>=1.19.0 in c:\\users\\weber\\anaconda3\\lib\\site-packages (from spacy<3.8.0,>=3.7.2->en-core-web-md==3.7.1) (1.24.3)\n",
      "Requirement already satisfied: typing-extensions>=4.2.0 in c:\\users\\weber\\anaconda3\\lib\\site-packages (from pydantic!=1.8,!=1.8.1,<3.0.0,>=1.7.4->spacy<3.8.0,>=3.7.2->en-core-web-md==3.7.1) (4.7.1)\n",
      "Requirement already satisfied: charset-normalizer<4,>=2 in c:\\users\\weber\\anaconda3\\lib\\site-packages (from requests<3.0.0,>=2.13.0->spacy<3.8.0,>=3.7.2->en-core-web-md==3.7.1) (2.0.4)\n",
      "Requirement already satisfied: idna<4,>=2.5 in c:\\users\\weber\\anaconda3\\lib\\site-packages (from requests<3.0.0,>=2.13.0->spacy<3.8.0,>=3.7.2->en-core-web-md==3.7.1) (3.4)\n",
      "Requirement already satisfied: urllib3<3,>=1.21.1 in c:\\users\\weber\\anaconda3\\lib\\site-packages (from requests<3.0.0,>=2.13.0->spacy<3.8.0,>=3.7.2->en-core-web-md==3.7.1) (1.26.16)\n",
      "Requirement already satisfied: certifi>=2017.4.17 in c:\\users\\weber\\anaconda3\\lib\\site-packages (from requests<3.0.0,>=2.13.0->spacy<3.8.0,>=3.7.2->en-core-web-md==3.7.1) (2024.2.2)\n",
      "Requirement already satisfied: blis<0.8.0,>=0.7.8 in c:\\users\\weber\\anaconda3\\lib\\site-packages (from thinc<8.3.0,>=8.1.8->spacy<3.8.0,>=3.7.2->en-core-web-md==3.7.1) (0.7.10)\n",
      "Requirement already satisfied: confection<1.0.0,>=0.0.1 in c:\\users\\weber\\anaconda3\\lib\\site-packages (from thinc<8.3.0,>=8.1.8->spacy<3.8.0,>=3.7.2->en-core-web-md==3.7.1) (0.1.4)\n",
      "Requirement already satisfied: colorama in c:\\users\\weber\\anaconda3\\lib\\site-packages (from tqdm<5.0.0,>=4.38.0->spacy<3.8.0,>=3.7.2->en-core-web-md==3.7.1) (0.4.6)\n",
      "Requirement already satisfied: click<9.0.0,>=7.1.1 in c:\\users\\weber\\anaconda3\\lib\\site-packages (from typer<0.10.0,>=0.3.0->spacy<3.8.0,>=3.7.2->en-core-web-md==3.7.1) (8.0.4)\n",
      "Requirement already satisfied: cloudpathlib<0.17.0,>=0.7.0 in c:\\users\\weber\\anaconda3\\lib\\site-packages (from weasel<0.4.0,>=0.1.0->spacy<3.8.0,>=3.7.2->en-core-web-md==3.7.1) (0.16.0)\n",
      "Requirement already satisfied: MarkupSafe>=2.0 in c:\\users\\weber\\anaconda3\\lib\\site-packages (from jinja2->spacy<3.8.0,>=3.7.2->en-core-web-md==3.7.1) (2.1.1)\n",
      "\u001b[38;5;2m[+] Download and installation successful\u001b[0m\n",
      "You can now load the package via spacy.load('en_core_web_md')\n"
     ]
    }
   ],
   "source": [
    "import sys\n",
    "!{sys.executable} -m spacy download en_core_web_md"
   ]
  },
  {
   "cell_type": "code",
   "execution_count": 4,
   "id": "60629cf7",
   "metadata": {},
   "outputs": [],
   "source": [
    "import spacy\n"
   ]
  },
  {
   "cell_type": "code",
   "execution_count": 5,
   "id": "a62c78b7",
   "metadata": {},
   "outputs": [],
   "source": [
    "nlp=spacy.load('en_core_web_md')"
   ]
  },
  {
   "cell_type": "code",
   "execution_count": 6,
   "id": "38f759fb",
   "metadata": {},
   "outputs": [],
   "source": [
    "doc = nlp(open(\"./frankenstein.txt\", encoding='utf8').read()) #./ + [tab] lets you see everything in your file"
   ]
  },
  {
   "cell_type": "code",
   "execution_count": 7,
   "id": "ea637d91",
   "metadata": {},
   "outputs": [],
   "source": [
    "sentences = list(doc.sents) \n",
    "words = [item for item in list(doc) if item.is_alpha]\n",
    "noun_chunks = list(doc.noun_chunks) # nouns\n",
    "entities = list(doc.ents) # proper nouns"
   ]
  },
  {
   "cell_type": "code",
   "execution_count": 8,
   "id": "e8f41b6a",
   "metadata": {},
   "outputs": [],
   "source": [
    "import random"
   ]
  },
  {
   "cell_type": "code",
   "execution_count": 9,
   "id": "31889e14",
   "metadata": {},
   "outputs": [
    {
     "data": {
      "text/plain": [
       "[work, States, cottage, to, I, ye, looks, admirable, reputation, I]"
      ]
     },
     "execution_count": 9,
     "metadata": {},
     "output_type": "execute_result"
    }
   ],
   "source": [
    "random.sample(words, 10)"
   ]
  },
  {
   "cell_type": "code",
   "execution_count": 10,
   "id": "07a4c46e",
   "metadata": {},
   "outputs": [
    {
     "data": {
      "text/plain": [
       "[him,\n",
       " its excess,\n",
       " me,\n",
       " extreme debility,\n",
       " her voice,\n",
       " you,\n",
       " the public domain,\n",
       " fear,\n",
       " I,\n",
       " which]"
      ]
     },
     "execution_count": 10,
     "metadata": {},
     "output_type": "execute_result"
    }
   ],
   "source": [
    "random.sample(noun_chunks, 10)"
   ]
  },
  {
   "cell_type": "code",
   "execution_count": 11,
   "id": "c7bb0c74",
   "metadata": {},
   "outputs": [
    {
     "data": {
      "text/plain": [
       "[Foundation,\n",
       " one,\n",
       " Six years,\n",
       " night,\n",
       " Greenland,\n",
       " 17—.,\n",
       " Jura,\n",
       " Geneva,\n",
       " dozen,\n",
       " Agatha_]"
      ]
     },
     "execution_count": 11,
     "metadata": {},
     "output_type": "execute_result"
    }
   ],
   "source": [
    "random.sample(entities, 10)"
   ]
  },
  {
   "cell_type": "code",
   "execution_count": 12,
   "id": "32d8c2be",
   "metadata": {},
   "outputs": [
    {
     "data": {
      "text/plain": [
       "spacy.tokens.token.Token"
      ]
     },
     "execution_count": 12,
     "metadata": {},
     "output_type": "execute_result"
    }
   ],
   "source": [
    "type(words[100])"
   ]
  },
  {
   "cell_type": "code",
   "execution_count": 13,
   "id": "e0fb80fd",
   "metadata": {},
   "outputs": [
    {
     "name": "stdout",
     "output_type": "stream",
     "text": [
      "Kirwin 380\n",
      "Agatha 380\n",
      "August 5th 391\n",
      "the first fourteen years 391\n",
      "Grecians 381\n",
      "first 396\n",
      "Elizabeth 380\n",
      "the United States 384\n",
      "considerateness 383\n",
      "the fatal night 392\n"
     ]
    }
   ],
   "source": [
    "for i in range(10):\n",
    "    word = random.choice(entities)\n",
    "    print(word.text, word.label) # label is the type"
   ]
  },
  {
   "cell_type": "code",
   "execution_count": 14,
   "id": "87e47c47",
   "metadata": {},
   "outputs": [
    {
     "data": {
      "text/plain": [
       "('the', 'DT')"
      ]
     },
     "execution_count": 14,
     "metadata": {},
     "output_type": "execute_result"
    }
   ],
   "source": [
    "words[1000].text, words[1000].tag_"
   ]
  },
  {
   "cell_type": "markdown",
   "id": "89a3bb85",
   "metadata": {},
   "source": [
    "# parts of speech\n",
    "\n",
    "penn tree banks part of speech\n",
    "https://www.ling.upenn.edu/courses/Fall_2003/ling001/penn_treebank_pos.html\n"
   ]
  },
  {
   "cell_type": "code",
   "execution_count": 15,
   "id": "b8a9139c",
   "metadata": {},
   "outputs": [],
   "source": [
    "nouns = [item for item in words if item.pos_=='NOUN']\n",
    "ings = [item for item in words if item.tag_=='VBG'] # uses penns particle of speech"
   ]
  },
  {
   "cell_type": "code",
   "execution_count": 16,
   "id": "ef8101e9",
   "metadata": {},
   "outputs": [
    {
     "data": {
      "text/plain": [
       "[laughter,\n",
       " duty,\n",
       " confirmation,\n",
       " world,\n",
       " victim,\n",
       " dæmon,\n",
       " water,\n",
       " ideas,\n",
       " heart,\n",
       " world]"
      ]
     },
     "execution_count": 16,
     "metadata": {},
     "output_type": "execute_result"
    }
   ],
   "source": [
    "random.sample(nouns, 10)"
   ]
  },
  {
   "cell_type": "code",
   "execution_count": 17,
   "id": "0699ee7a",
   "metadata": {},
   "outputs": [
    {
     "data": {
      "text/plain": [
       "['Reuss',\n",
       " 'a Roman Catholic',\n",
       " 'Drance',\n",
       " 'Adam',\n",
       " 'Numa',\n",
       " 'William',\n",
       " 'mummy',\n",
       " 'Henry\\n',\n",
       " 'Michael S. Hart',\n",
       " 'Louis Manoir',\n",
       " 'Daniel Nugent',\n",
       " 'Manon',\n",
       " 'M. Moritz',\n",
       " 'Thomas',\n",
       " 'O Night',\n",
       " 'Mont\\nBlânc',\n",
       " 'Madame Frankenstein',\n",
       " 'Plutarch',\n",
       " 'LETTER I.',\n",
       " 'Angelica',\n",
       " 'Agatha',\n",
       " 'Agatha_',\n",
       " 'Pandæmonium',\n",
       " 'Despondency',\n",
       " 'Volney',\n",
       " 'Moritz',\n",
       " 'Mont Blânc',\n",
       " 'glory;—I',\n",
       " 'Entreating',\n",
       " 'AGREE',\n",
       " 'Justine',\n",
       " 'Dante',\n",
       " 'Shakespeare',\n",
       " 'M.\\nWaldman',\n",
       " 'Krempe',\n",
       " 'ROBERT WALTON',\n",
       " 'Paracelsus',\n",
       " 'Henry\\nsoothed',\n",
       " 'Montanvert',\n",
       " 'Manoir',\n",
       " 'Darwin',\n",
       " 'Amadis',\n",
       " 'M.\\nKrempe',\n",
       " 'wan',\n",
       " 'Project Gutenberg',\n",
       " 'Tavernier',\n",
       " 'M.\\nFrankenstein',\n",
       " 'developes',\n",
       " 'CALEB WILLIAMS',\n",
       " 'Elizabeth Lavenza',\n",
       " 'R. WALTON.',\n",
       " 'Cæsar',\n",
       " 'Agrippa',\n",
       " 'Ernest',\n",
       " 'hoarser',\n",
       " 'Werter',\n",
       " 'Harding',\n",
       " 'Clerval',\n",
       " 'Arve',\n",
       " 'Pliny',\n",
       " 'Esq',\n",
       " 'Robin Hood',\n",
       " 'bedewed',\n",
       " 'De Lacey',\n",
       " 'Mingled',\n",
       " 'Mahomet',\n",
       " '——',\n",
       " 'Uri',\n",
       " 'Sweet',\n",
       " 'Milton',\n",
       " 'Lyons',\n",
       " 'Salêve',\n",
       " 'Frankenstein',\n",
       " 'Charles I.\\n',\n",
       " 'Justine Moritz',\n",
       " 'Victor',\n",
       " 'inclemency',\n",
       " 'Adieu',\n",
       " 'I.',\n",
       " 'Kirwin',\n",
       " 'Henry',\n",
       " 'Caroline',\n",
       " 'Mamma',\n",
       " 'St.\\nGeorge',\n",
       " 'Farewell',\n",
       " 'Ariosto',\n",
       " 'Cornelius\\nAgrippa',\n",
       " 'De Lacy',\n",
       " 'Margaret',\n",
       " 'Elizabeth',\n",
       " 'Daniel',\n",
       " 'Albertus\\nMagnus',\n",
       " 'John Melbourne',\n",
       " 'Cato',\n",
       " 'SAVILLE',\n",
       " 'Henry Clerval',\n",
       " 'Buffon',\n",
       " 'Felix',\n",
       " '1.F.6',\n",
       " 'M. Duvillard',\n",
       " 'R. W.\\n\\n\\n\\n\\nLETTER IV',\n",
       " 'M. Waldman',\n",
       " 'Cousin',\n",
       " 'Louisa Biron',\n",
       " 'Albertus Magnus',\n",
       " 'Mansfield',\n",
       " 'Tay',\n",
       " 'M. Clerval',\n",
       " 'Cornelius Agrippa',\n",
       " 'Mary Wollstonecraft Shelley',\n",
       " 'Walton',\n",
       " 'Henry\\nClerval',\n",
       " 'Homer',\n",
       " 'M. Krempe']"
      ]
     },
     "execution_count": 17,
     "metadata": {},
     "output_type": "execute_result"
    }
   ],
   "source": [
    "list(set([item.text for item in entities if item.label_ == 'PERSON'])) # people"
   ]
  },
  {
   "cell_type": "code",
   "execution_count": 18,
   "id": "c8b67266",
   "metadata": {},
   "outputs": [
    {
     "data": {
      "text/plain": [
       "[Alps,\n",
       " the North Pacific Ocean,\n",
       " Paradise,\n",
       " the North Sea,\n",
       " Africa,\n",
       " Jura,\n",
       " Andes,\n",
       " the\n",
       " brook,\n",
       " the\n",
       " moon,\n",
       " Asia,\n",
       " Mont\n",
       " Cenis,\n",
       " Leghorn,\n",
       " Leghorn,\n",
       " Leghorn,\n",
       " Paradise,\n",
       " South America,\n",
       " Europe,\n",
       " Rhine,\n",
       " Rhine,\n",
       " Cumberland,\n",
       " Rhine,\n",
       " Orkneys,\n",
       " Europe,\n",
       " Atlantic,\n",
       " Orkney,\n",
       " Havre,\n",
       " Havre,\n",
       " Alps,\n",
       " Alps,\n",
       " Mediterranean,\n",
       " the Black Sea,\n",
       " Mediterranean,\n",
       " Asia,\n",
       " Seneca]"
      ]
     },
     "execution_count": 18,
     "metadata": {},
     "output_type": "execute_result"
    }
   ],
   "source": [
    "[item for item in entities if item.label_ == 'LOC'] # for location"
   ]
  },
  {
   "cell_type": "code",
   "execution_count": 19,
   "id": "39d8e333",
   "metadata": {},
   "outputs": [],
   "source": [
    "advs = [item.text for item in words if item.tag_ == 'RB']"
   ]
  },
  {
   "cell_type": "code",
   "execution_count": 20,
   "id": "7c650c08",
   "metadata": {},
   "outputs": [],
   "source": [
    "from collections import Counter"
   ]
  },
  {
   "cell_type": "code",
   "execution_count": null,
   "id": "7c954b32",
   "metadata": {},
   "outputs": [],
   "source": []
  }
 ],
 "metadata": {
  "kernelspec": {
   "display_name": "Python 3 (ipykernel)",
   "language": "python",
   "name": "python3"
  },
  "language_info": {
   "codemirror_mode": {
    "name": "ipython",
    "version": 3
   },
   "file_extension": ".py",
   "mimetype": "text/x-python",
   "name": "python",
   "nbconvert_exporter": "python",
   "pygments_lexer": "ipython3",
   "version": "3.11.5"
  }
 },
 "nbformat": 4,
 "nbformat_minor": 5
}
