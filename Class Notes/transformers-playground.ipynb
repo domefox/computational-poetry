{
 "cells": [
  {
   "cell_type": "markdown",
   "id": "53d44a9e",
   "metadata": {},
   "source": [
    "# Playing with transformers\n",
    "\n",
    "By [Allison Parrish](http://www.decontextualize.com/)\n",
    "\n",
    "(This is a rough draft!)\n",
    "\n",
    "[Transformers](https://huggingface.co/transformers/) is a Python library released by [Hugging Face](https://huggingface.co/) to make it easy to use pre-trained transformer language models. This notebook takes you through the basics of how to generate text with this library, and demonstrates a few simple techniques you can use to assert finer-grained control over the text generation procedure, like logit warping and fine-tuning.\n",
    "\n",
    "## Warning\n",
    "\n",
    "Before you begin, I recommend reading [On the Dangers of Stochastic Parrots: Can Language Models Be Too Big?](https://dl.acm.org/doi/10.1145/3442188.3445922) by Bender et al. The paper outlines the difficulties and potential for harm in large pre-trained language models, and suggests some techniques for training and making use of these models responsibly. For my part, I have the following recommendations:\n",
    "\n",
    "* Don't use pre-trained language models in an automated context. By \"automated context\" I mean things like web apps, Twitter bots, etc. You just can't guarantee that the output of one of these models won't be harmful. (I might make an exception to this rule if your automated service has *very* robust moderation, but even then, it's iffy.)\n",
    "* Always read through all of your language model outputs before publishing them.\n",
    "* Don't use language models to trick people.\n",
    "\n",
    "## What is a \"transformer\" though\n",
    "\n",
    "\"Transformer\" is a name applied to neural network architectures that make use of a mechanism called [\"attention\"](https://jalammar.github.io/visualizing-neural-machine-translation-mechanics-of-seq2seq-models-with-attention/) and can be trained in parallel (rather than sequentially, as is the case with other neural network architectures that are frequently used to model sequences, like recurrent neural networks). The [introduction of this architecture](https://arxiv.org/abs/1706.03762) initiated a period of tremendous growth in language model capabilities. (Examples of Transformer models include [GPT-2](https://github.com/openai/gpt-2) and [Google T5](https://ai.googleblog.com/2020/02/exploring-transfer-learning-with-t5.html).)\n",
    "\n",
    "This growth is mostly predicated on the fact that the transformer architecture makes it more practical to train language models on larger and larger datasets. As of this writing, state-of-the-art transformer models are often trained on datasets many hundreds of gigabytes in size, and consequently take a tremendous amount of energy (and money, and time) to train. In many cases, it's not practical to train a transformer model from scratch on your own that has the same capabilities. Instead, researchers and artists make use of models that other organizations have trained.\n",
    "\n",
    "## Hugging Face Transformers\n",
    "\n",
    "That's where the Hugging Face Transformers library comes in. It's an easy interface for downloading pre-trained transformer models and making use of them with a consistent API. (For example, we can use the same code to generate text with GPT-2 and [XLNet](https://huggingface.co/transformers/model_doc/xlnet.html)). To install Transformers, you'll first need to install [PyTorch](https://pytorch.org/). If you're running this notebook with Anaconda, you can just run the code in the following cell:"
   ]
  },
  {
   "cell_type": "code",
   "execution_count": 1,
   "id": "2d6c019c",
   "metadata": {
    "scrolled": true
   },
   "outputs": [
    {
     "name": "stdout",
     "output_type": "stream",
     "text": [
      "Collecting package metadata (current_repodata.json): ...working... done"
     ]
    },
    {
     "name": "stderr",
     "output_type": "stream",
     "text": [
      "\n",
      "\n",
      "==> WARNING: A newer version of conda exists. <==\n",
      "  current version: 23.7.4\n",
      "  latest version: 24.3.0\n",
      "\n",
      "Please update conda by running\n",
      "\n",
      "    $ conda update -n base -c defaults conda\n",
      "\n",
      "Or to minimize the number of packages updated during conda update use\n",
      "\n",
      "     conda install conda=24.3.0\n",
      "\n",
      "\n"
     ]
    },
    {
     "name": "stdout",
     "output_type": "stream",
     "text": [
      "\n",
      "Solving environment: ...working... done\n",
      "\n",
      "## Package Plan ##\n",
      "\n",
      "  environment location: C:\\Users\\Weber\\anaconda3\n",
      "\n",
      "  added / updated specs:\n",
      "    - pytorch\n",
      "\n",
      "\n",
      "The following packages will be downloaded:\n",
      "\n",
      "    package                    |            build\n",
      "    ---------------------------|-----------------\n",
      "    ca-certificates-2024.3.11  |       haa95532_0         128 KB\n",
      "    certifi-2024.2.2           |  py311haa95532_0         162 KB\n",
      "    libuv-1.44.2               |       h2bbff1b_0         288 KB\n",
      "    pytorch-2.2.2              |     py3.11_cpu_0       171.8 MB  pytorch\n",
      "    pytorch-mutex-1.0          |              cpu           3 KB  pytorch\n",
      "    ------------------------------------------------------------\n",
      "                                           Total:       172.3 MB\n",
      "\n",
      "The following NEW packages will be INSTALLED:\n",
      "\n",
      "  libuv              pkgs/main/win-64::libuv-1.44.2-h2bbff1b_0 \n",
      "  pytorch            pytorch/win-64::pytorch-2.2.2-py3.11_cpu_0 \n",
      "  pytorch-mutex      pytorch/noarch::pytorch-mutex-1.0-cpu \n",
      "\n",
      "The following packages will be UPDATED:\n",
      "\n",
      "  ca-certificates    conda-forge::ca-certificates-2024.2.2~ --> pkgs/main::ca-certificates-2024.3.11-haa95532_0 \n",
      "\n",
      "The following packages will be SUPERSEDED by a higher-priority channel:\n",
      "\n",
      "  certifi            conda-forge/noarch::certifi-2024.2.2-~ --> pkgs/main/win-64::certifi-2024.2.2-py311haa95532_0 \n",
      "\n",
      "\n",
      "\n",
      "Downloading and Extracting Packages\n",
      "\n",
      "pytorch-mutex-1.0    | 3 KB      |            |   0% \n",
      "\n",
      "ca-certificates-2024 | 128 KB    |            |   0% \u001b[A\n",
      "\n",
      "\n",
      "libuv-1.44.2         | 288 KB    |            |   0% \u001b[A\u001b[A\n",
      "\n",
      "\n",
      "\n",
      "certifi-2024.2.2     | 162 KB    |            |   0% \u001b[A\u001b[A\u001b[A\n",
      "\n",
      "\n",
      "\n",
      "\n",
      "pytorch-2.2.2        | 171.8 MB  |            |   0% \u001b[A\u001b[A\u001b[A\u001b[A\n",
      "\n",
      "ca-certificates-2024 | 128 KB    | #2         |  12% \u001b[A\n",
      "\n",
      "\n",
      "libuv-1.44.2         | 288 KB    | 5          |   6% \u001b[A\u001b[A\n",
      "\n",
      "\n",
      "\n",
      "certifi-2024.2.2     | 162 KB    | 9          |  10% \u001b[A\u001b[A\u001b[A\n",
      "pytorch-mutex-1.0    | 3 KB      | ########## | 100% \n",
      "\n",
      "\n",
      "\n",
      "\n",
      "pytorch-2.2.2        | 171.8 MB  |            |   0% \u001b[A\u001b[A\u001b[A\u001b[A\n",
      "\n",
      "\n",
      "libuv-1.44.2         | 288 KB    | ####4      |  44% \u001b[A\u001b[A\n",
      "\n",
      "\n",
      "\n",
      "\n",
      "pytorch-2.2.2        | 171.8 MB  |            |   0% \u001b[A\u001b[A\u001b[A\u001b[A\n",
      "pytorch-mutex-1.0    | 3 KB      | ########## | 100% \n",
      "\n",
      "ca-certificates-2024 | 128 KB    | ########## | 100% \u001b[A\n",
      "\n",
      "ca-certificates-2024 | 128 KB    | ########## | 100% \u001b[A\n",
      "\n",
      "\n",
      "\n",
      "\n",
      "pytorch-2.2.2        | 171.8 MB  |            |   0% \u001b[A\u001b[A\u001b[A\u001b[A\n",
      "\n",
      "\n",
      "\n",
      "certifi-2024.2.2     | 162 KB    | ########## | 100% \u001b[A\u001b[A\u001b[A\n",
      "\n",
      "\n",
      "\n",
      "certifi-2024.2.2     | 162 KB    | ########## | 100% \u001b[A\u001b[A\u001b[A\n",
      "\n",
      "\n",
      "libuv-1.44.2         | 288 KB    | ########## | 100% \u001b[A\u001b[A\n",
      "\n",
      "\n",
      "libuv-1.44.2         | 288 KB    | ########## | 100% \u001b[A\u001b[A\n",
      "\n",
      "\n",
      "\n",
      "\n",
      "pytorch-2.2.2        | 171.8 MB  |            |   1% \u001b[A\u001b[A\u001b[A\u001b[A\n",
      "\n",
      "\n",
      "\n",
      "\n",
      "pytorch-2.2.2        | 171.8 MB  |            |   1% \u001b[A\u001b[A\u001b[A\u001b[A\n",
      "\n",
      "\n",
      "\n",
      "\n",
      "pytorch-2.2.2        | 171.8 MB  | 1          |   1% \u001b[A\u001b[A\u001b[A\u001b[A\n",
      "\n",
      "\n",
      "\n",
      "\n",
      "pytorch-2.2.2        | 171.8 MB  | 1          |   1% \u001b[A\u001b[A\u001b[A\u001b[A\n",
      "\n",
      "\n",
      "\n",
      "\n",
      "pytorch-2.2.2        | 171.8 MB  | 1          |   2% \u001b[A\u001b[A\u001b[A\u001b[A\n",
      "\n",
      "\n",
      "\n",
      "\n",
      "pytorch-2.2.2        | 171.8 MB  | 1          |   2% \u001b[A\u001b[A\u001b[A\u001b[A\n",
      "\n",
      "\n",
      "\n",
      "\n",
      "pytorch-2.2.2        | 171.8 MB  | 2          |   2% \u001b[A\u001b[A\u001b[A\u001b[A\n",
      "\n",
      "\n",
      "\n",
      "\n",
      "pytorch-2.2.2        | 171.8 MB  | 2          |   3% \u001b[A\u001b[A\u001b[A\u001b[A\n",
      "\n",
      "\n",
      "\n",
      "\n",
      "pytorch-2.2.2        | 171.8 MB  | 2          |   3% \u001b[A\u001b[A\u001b[A\u001b[A\n",
      "\n",
      "\n",
      "\n",
      "\n",
      "pytorch-2.2.2        | 171.8 MB  | 3          |   3% \u001b[A\u001b[A\u001b[A\u001b[A\n",
      "\n",
      "\n",
      "\n",
      "\n",
      "pytorch-2.2.2        | 171.8 MB  | 3          |   3% \u001b[A\u001b[A\u001b[A\u001b[A\n",
      "\n",
      "\n",
      "\n",
      "\n",
      "pytorch-2.2.2        | 171.8 MB  | 3          |   4% \u001b[A\u001b[A\u001b[A\u001b[A\n",
      "\n",
      "\n",
      "\n",
      "\n",
      "pytorch-2.2.2        | 171.8 MB  | 3          |   4% \u001b[A\u001b[A\u001b[A\u001b[A\n",
      "\n",
      "\n",
      "\n",
      "\n",
      "pytorch-2.2.2        | 171.8 MB  | 4          |   4% \u001b[A\u001b[A\u001b[A\u001b[A\n",
      "\n",
      "\n",
      "\n",
      "\n",
      "pytorch-2.2.2        | 171.8 MB  | 4          |   4% \u001b[A\u001b[A\u001b[A\u001b[A\n",
      "\n",
      "\n",
      "\n",
      "\n",
      "pytorch-2.2.2        | 171.8 MB  | 4          |   5% \u001b[A\u001b[A\u001b[A\u001b[A\n",
      "\n",
      "\n",
      "\n",
      "\n",
      "pytorch-2.2.2        | 171.8 MB  | 4          |   5% \u001b[A\u001b[A\u001b[A\u001b[A\n",
      "\n",
      "\n",
      "\n",
      "\n",
      "pytorch-2.2.2        | 171.8 MB  | 5          |   5% \u001b[A\u001b[A\u001b[A\u001b[A\n",
      "\n",
      "\n",
      "\n",
      "\n",
      "pytorch-2.2.2        | 171.8 MB  | 5          |   6% \u001b[A\u001b[A\u001b[A\u001b[A\n",
      "\n",
      "\n",
      "\n",
      "\n",
      "pytorch-2.2.2        | 171.8 MB  | 5          |   6% \u001b[A\u001b[A\u001b[A\u001b[A\n",
      "\n",
      "\n",
      "\n",
      "\n",
      "pytorch-2.2.2        | 171.8 MB  | 6          |   6% \u001b[A\u001b[A\u001b[A\u001b[A\n",
      "\n",
      "\n",
      "\n",
      "\n",
      "pytorch-2.2.2        | 171.8 MB  | 6          |   6% \u001b[A\u001b[A\u001b[A\u001b[A\n",
      "\n",
      "\n",
      "\n",
      "\n",
      "pytorch-2.2.2        | 171.8 MB  | 6          |   7% \u001b[A\u001b[A\u001b[A\u001b[A\n",
      "\n",
      "\n",
      "\n",
      "\n",
      "pytorch-2.2.2        | 171.8 MB  | 6          |   7% \u001b[A\u001b[A\u001b[A\u001b[A\n",
      "\n",
      "\n",
      "\n",
      "\n",
      "pytorch-2.2.2        | 171.8 MB  | 7          |   7% \u001b[A\u001b[A\u001b[A\u001b[A\n",
      "\n",
      "\n",
      "\n",
      "\n",
      "pytorch-2.2.2        | 171.8 MB  | 7          |   7% \u001b[A\u001b[A\u001b[A\u001b[A\n",
      "\n",
      "\n",
      "\n",
      "\n",
      "pytorch-2.2.2        | 171.8 MB  | 7          |   8% \u001b[A\u001b[A\u001b[A\u001b[A\n",
      "\n",
      "\n",
      "\n",
      "\n",
      "pytorch-2.2.2        | 171.8 MB  | 8          |   8% \u001b[A\u001b[A\u001b[A\u001b[A\n",
      "\n",
      "\n",
      "\n",
      "\n",
      "pytorch-2.2.2        | 171.8 MB  | 8          |   8% \u001b[A\u001b[A\u001b[A\u001b[A\n",
      "\n",
      "\n",
      "\n",
      "\n",
      "pytorch-2.2.2        | 171.8 MB  | 8          |   9% \u001b[A\u001b[A\u001b[A\u001b[A\n",
      "\n",
      "\n",
      "\n",
      "\n",
      "pytorch-2.2.2        | 171.8 MB  | 8          |   9% \u001b[A\u001b[A\u001b[A\u001b[A\n",
      "\n",
      "\n",
      "\n",
      "\n",
      "pytorch-2.2.2        | 171.8 MB  | 9          |   9% \u001b[A\u001b[A\u001b[A\u001b[A\n",
      "\n",
      "\n",
      "\n",
      "\n",
      "pytorch-2.2.2        | 171.8 MB  | 9          |   9% \u001b[A\u001b[A\u001b[A\u001b[A\n",
      "\n",
      "\n",
      "\n",
      "\n",
      "pytorch-2.2.2        | 171.8 MB  | 9          |   9% \u001b[A\u001b[A\u001b[A\u001b[A\n",
      "\n",
      "\n",
      "\n",
      "\n",
      "pytorch-2.2.2        | 171.8 MB  | 9          |  10% \u001b[A\u001b[A\u001b[A\u001b[A\n",
      "\n",
      "\n",
      "\n",
      "\n",
      "pytorch-2.2.2        | 171.8 MB  | 9          |  10% \u001b[A\u001b[A\u001b[A\u001b[A\n",
      "\n",
      "\n",
      "\n",
      "\n",
      "pytorch-2.2.2        | 171.8 MB  | #          |  10% \u001b[A\u001b[A\u001b[A\u001b[A\n",
      "\n",
      "\n",
      "\n",
      "\n",
      "pytorch-2.2.2        | 171.8 MB  | #          |  10% \u001b[A\u001b[A\u001b[A\u001b[A\n",
      "\n",
      "\n",
      "\n",
      "\n",
      "pytorch-2.2.2        | 171.8 MB  | #          |  11% \u001b[A\u001b[A\u001b[A\u001b[A\n",
      "\n",
      "\n",
      "\n",
      "\n",
      "pytorch-2.2.2        | 171.8 MB  | #1         |  11% \u001b[A\u001b[A\u001b[A\u001b[A\n",
      "\n",
      "\n",
      "\n",
      "\n",
      "pytorch-2.2.2        | 171.8 MB  | #1         |  11% \u001b[A\u001b[A\u001b[A\u001b[A\n",
      "\n",
      "\n",
      "\n",
      "\n",
      "pytorch-2.2.2        | 171.8 MB  | #1         |  11% \u001b[A\u001b[A\u001b[A\u001b[A\n",
      "\n",
      "\n",
      "\n",
      "\n",
      "pytorch-2.2.2        | 171.8 MB  | #1         |  12% \u001b[A\u001b[A\u001b[A\u001b[A\n",
      "\n",
      "\n",
      "\n",
      "\n",
      "pytorch-2.2.2        | 171.8 MB  | #2         |  12% \u001b[A\u001b[A\u001b[A\u001b[A\n",
      "\n",
      "\n",
      "\n",
      "\n",
      "pytorch-2.2.2        | 171.8 MB  | #2         |  12% \u001b[A\u001b[A\u001b[A\u001b[A\n",
      "\n",
      "\n",
      "\n",
      "\n",
      "pytorch-2.2.2        | 171.8 MB  | #2         |  13% \u001b[A\u001b[A\u001b[A\u001b[A\n",
      "\n",
      "\n",
      "\n",
      "\n",
      "pytorch-2.2.2        | 171.8 MB  | #2         |  13% \u001b[A\u001b[A\u001b[A\u001b[A\n",
      "\n",
      "\n",
      "\n",
      "\n",
      "pytorch-2.2.2        | 171.8 MB  | #3         |  13% \u001b[A\u001b[A\u001b[A\u001b[A\n",
      "\n",
      "\n",
      "\n",
      "\n",
      "pytorch-2.2.2        | 171.8 MB  | #3         |  13% \u001b[A\u001b[A\u001b[A\u001b[A\n",
      "\n",
      "\n",
      "\n",
      "\n",
      "pytorch-2.2.2        | 171.8 MB  | #3         |  14% \u001b[A\u001b[A\u001b[A\u001b[A\n",
      "\n",
      "\n",
      "\n",
      "\n",
      "pytorch-2.2.2        | 171.8 MB  | #3         |  14% \u001b[A\u001b[A\u001b[A\u001b[A\n",
      "\n",
      "\n",
      "\n",
      "\n",
      "pytorch-2.2.2        | 171.8 MB  | #4         |  14% \u001b[A\u001b[A\u001b[A\u001b[A\n",
      "\n",
      "\n",
      "\n",
      "\n",
      "pytorch-2.2.2        | 171.8 MB  | #4         |  14% \u001b[A\u001b[A\u001b[A\u001b[A\n",
      "\n",
      "\n",
      "\n",
      "\n",
      "pytorch-2.2.2        | 171.8 MB  | #4         |  15% \u001b[A\u001b[A\u001b[A\u001b[A\n",
      "\n",
      "\n",
      "\n",
      "\n",
      "pytorch-2.2.2        | 171.8 MB  | #4         |  15% \u001b[A\u001b[A\u001b[A\u001b[A\n",
      "\n",
      "\n",
      "\n",
      "\n",
      "pytorch-2.2.2        | 171.8 MB  | #5         |  15% \u001b[A\u001b[A\u001b[A\u001b[A\n",
      "\n",
      "\n",
      "\n",
      "\n",
      "pytorch-2.2.2        | 171.8 MB  | #5         |  15% \u001b[A\u001b[A\u001b[A\u001b[A\n",
      "\n",
      "\n",
      "\n",
      "\n",
      "pytorch-2.2.2        | 171.8 MB  | #5         |  16% \u001b[A\u001b[A\u001b[A\u001b[A\n",
      "\n",
      "\n",
      "\n",
      "\n",
      "pytorch-2.2.2        | 171.8 MB  | #5         |  16% \u001b[A\u001b[A\u001b[A\u001b[A\n",
      "\n",
      "\n",
      "\n",
      "\n",
      "pytorch-2.2.2        | 171.8 MB  | #6         |  16% \u001b[A\u001b[A\u001b[A\u001b[A\n",
      "\n",
      "\n",
      "\n",
      "\n",
      "pytorch-2.2.2        | 171.8 MB  | #6         |  17% \u001b[A\u001b[A\u001b[A\u001b[A\n",
      "\n",
      "\n",
      "\n",
      "\n",
      "pytorch-2.2.2        | 171.8 MB  | #6         |  17% \u001b[A\u001b[A\u001b[A\u001b[A\n",
      "\n",
      "\n",
      "\n",
      "\n",
      "pytorch-2.2.2        | 171.8 MB  | #7         |  17% \u001b[A\u001b[A\u001b[A\u001b[A\n",
      "\n",
      "\n",
      "\n",
      "\n",
      "pytorch-2.2.2        | 171.8 MB  | #7         |  17% \u001b[A\u001b[A\u001b[A\u001b[A\n",
      "\n",
      "\n",
      "\n",
      "\n",
      "pytorch-2.2.2        | 171.8 MB  | #7         |  18% \u001b[A\u001b[A\u001b[A\u001b[A\n",
      "\n",
      "\n",
      "\n",
      "\n",
      "pytorch-2.2.2        | 171.8 MB  | #7         |  18% \u001b[A\u001b[A\u001b[A\u001b[A\n",
      "\n",
      "\n",
      "\n",
      "\n",
      "pytorch-2.2.2        | 171.8 MB  | #8         |  18% \u001b[A\u001b[A\u001b[A\u001b[A\n",
      "\n",
      "\n",
      "\n",
      "\n",
      "pytorch-2.2.2        | 171.8 MB  | #8         |  18% \u001b[A\u001b[A\u001b[A\u001b[A\n",
      "\n",
      "\n",
      "\n",
      "\n",
      "pytorch-2.2.2        | 171.8 MB  | #8         |  19% \u001b[A\u001b[A\u001b[A\u001b[A\n",
      "\n",
      "\n",
      "\n",
      "\n",
      "pytorch-2.2.2        | 171.8 MB  | #8         |  19% \u001b[A\u001b[A\u001b[A\u001b[A\n",
      "\n",
      "\n",
      "\n",
      "\n",
      "pytorch-2.2.2        | 171.8 MB  | #9         |  19% \u001b[A\u001b[A\u001b[A\u001b[A\n",
      "\n",
      "\n",
      "\n",
      "\n",
      "pytorch-2.2.2        | 171.8 MB  | #9         |  19% \u001b[A\u001b[A\u001b[A\u001b[A\n",
      "\n",
      "\n",
      "\n",
      "\n",
      "pytorch-2.2.2        | 171.8 MB  | #9         |  19% \u001b[A\u001b[A\u001b[A\u001b[A\n",
      "\n",
      "\n",
      "\n",
      "\n",
      "pytorch-2.2.2        | 171.8 MB  | #9         |  20% \u001b[A\u001b[A\u001b[A\u001b[A\n",
      "\n",
      "\n",
      "\n",
      "\n",
      "pytorch-2.2.2        | 171.8 MB  | #9         |  20% \u001b[A\u001b[A\u001b[A\u001b[A\n",
      "\n",
      "\n",
      "\n",
      "\n",
      "pytorch-2.2.2        | 171.8 MB  | ##         |  20% \u001b[A\u001b[A\u001b[A\u001b[A\n",
      "\n",
      "\n",
      "\n",
      "\n",
      "pytorch-2.2.2        | 171.8 MB  | ##         |  20% \u001b[A\u001b[A\u001b[A\u001b[A\n",
      "\n",
      "\n",
      "\n",
      "\n",
      "pytorch-2.2.2        | 171.8 MB  | ##         |  20% \u001b[A\u001b[A\u001b[A\u001b[A\n",
      "\n",
      "\n",
      "\n",
      "\n",
      "pytorch-2.2.2        | 171.8 MB  | ##         |  21% \u001b[A\u001b[A\u001b[A\u001b[A\n",
      "\n",
      "\n",
      "\n",
      "\n",
      "pytorch-2.2.2        | 171.8 MB  | ##         |  21% \u001b[A\u001b[A\u001b[A\u001b[A\n",
      "\n",
      "\n",
      "\n",
      "\n",
      "pytorch-2.2.2        | 171.8 MB  | ##1        |  21% \u001b[A\u001b[A\u001b[A\u001b[A\n",
      "\n",
      "\n",
      "\n",
      "\n",
      "pytorch-2.2.2        | 171.8 MB  | ##1        |  21% \u001b[A\u001b[A\u001b[A\u001b[A\n",
      "\n",
      "\n",
      "\n",
      "\n",
      "pytorch-2.2.2        | 171.8 MB  | ##1        |  21% \u001b[A\u001b[A\u001b[A\u001b[A\n",
      "\n",
      "\n",
      "\n",
      "\n",
      "pytorch-2.2.2        | 171.8 MB  | ##1        |  22% \u001b[A\u001b[A\u001b[A\u001b[A\n",
      "\n",
      "\n",
      "\n",
      "\n",
      "pytorch-2.2.2        | 171.8 MB  | ##1        |  22% \u001b[A\u001b[A\u001b[A\u001b[A\n",
      "\n",
      "\n",
      "\n",
      "\n",
      "pytorch-2.2.2        | 171.8 MB  | ##2        |  22% \u001b[A\u001b[A\u001b[A\u001b[A\n",
      "\n",
      "\n",
      "\n",
      "\n",
      "pytorch-2.2.2        | 171.8 MB  | ##2        |  23% \u001b[A\u001b[A\u001b[A\u001b[A\n",
      "\n",
      "\n",
      "\n",
      "\n",
      "pytorch-2.2.2        | 171.8 MB  | ##2        |  23% \u001b[A\u001b[A\u001b[A\u001b[A\n",
      "\n",
      "\n",
      "\n",
      "\n",
      "pytorch-2.2.2        | 171.8 MB  | ##3        |  23% \u001b[A\u001b[A\u001b[A\u001b[A\n",
      "\n",
      "\n",
      "\n",
      "\n",
      "pytorch-2.2.2        | 171.8 MB  | ##3        |  24% \u001b[A\u001b[A\u001b[A\u001b[A\n",
      "\n",
      "\n",
      "\n",
      "\n",
      "pytorch-2.2.2        | 171.8 MB  | ##3        |  24% \u001b[A\u001b[A\u001b[A\u001b[A\n",
      "\n",
      "\n",
      "\n",
      "\n",
      "pytorch-2.2.2        | 171.8 MB  | ##4        |  24% \u001b[A\u001b[A\u001b[A\u001b[A\n",
      "\n",
      "\n",
      "\n",
      "\n",
      "pytorch-2.2.2        | 171.8 MB  | ##4        |  25% \u001b[A\u001b[A\u001b[A\u001b[A\n",
      "\n",
      "\n",
      "\n",
      "\n",
      "pytorch-2.2.2        | 171.8 MB  | ##4        |  25% \u001b[A\u001b[A\u001b[A\u001b[A\n",
      "\n",
      "\n",
      "\n",
      "\n",
      "pytorch-2.2.2        | 171.8 MB  | ##5        |  25% \u001b[A\u001b[A\u001b[A\u001b[A\n",
      "\n",
      "\n",
      "\n",
      "\n",
      "pytorch-2.2.2        | 171.8 MB  | ##5        |  25% \u001b[A\u001b[A\u001b[A\u001b[A\n",
      "\n",
      "\n",
      "\n",
      "\n",
      "pytorch-2.2.2        | 171.8 MB  | ##5        |  26% \u001b[A\u001b[A\u001b[A\u001b[A\n",
      "\n",
      "\n",
      "\n",
      "\n",
      "pytorch-2.2.2        | 171.8 MB  | ##5        |  26% \u001b[A\u001b[A\u001b[A\u001b[A\n",
      "\n",
      "\n",
      "\n",
      "\n",
      "pytorch-2.2.2        | 171.8 MB  | ##6        |  26% \u001b[A\u001b[A\u001b[A\u001b[A\n",
      "\n",
      "\n",
      "\n",
      "\n",
      "pytorch-2.2.2        | 171.8 MB  | ##6        |  27% \u001b[A\u001b[A\u001b[A\u001b[A\n",
      "\n",
      "\n",
      "\n",
      "\n",
      "pytorch-2.2.2        | 171.8 MB  | ##6        |  27% \u001b[A\u001b[A\u001b[A\u001b[A\n",
      "\n",
      "\n",
      "\n",
      "\n",
      "pytorch-2.2.2        | 171.8 MB  | ##7        |  27% \u001b[A\u001b[A\u001b[A\u001b[A\n",
      "\n",
      "\n",
      "\n",
      "\n",
      "pytorch-2.2.2        | 171.8 MB  | ##7        |  28% \u001b[A\u001b[A\u001b[A\u001b[A\n",
      "\n",
      "\n",
      "\n",
      "\n",
      "pytorch-2.2.2        | 171.8 MB  | ##7        |  28% \u001b[A\u001b[A\u001b[A\u001b[A\n",
      "\n",
      "\n",
      "\n",
      "\n",
      "pytorch-2.2.2        | 171.8 MB  | ##8        |  28% \u001b[A\u001b[A\u001b[A\u001b[A\n",
      "\n",
      "\n",
      "\n",
      "\n",
      "pytorch-2.2.2        | 171.8 MB  | ##8        |  28% \u001b[A\u001b[A\u001b[A\u001b[A\n",
      "\n",
      "\n",
      "\n",
      "\n",
      "pytorch-2.2.2        | 171.8 MB  | ##8        |  29% \u001b[A\u001b[A\u001b[A\u001b[A\n",
      "\n",
      "\n",
      "\n",
      "\n",
      "pytorch-2.2.2        | 171.8 MB  | ##8        |  29% \u001b[A\u001b[A\u001b[A\u001b[A\n",
      "\n",
      "\n",
      "\n",
      "\n",
      "pytorch-2.2.2        | 171.8 MB  | ##9        |  29% \u001b[A\u001b[A\u001b[A\u001b[A\n",
      "\n",
      "\n",
      "\n",
      "\n",
      "pytorch-2.2.2        | 171.8 MB  | ##9        |  30% \u001b[A\u001b[A\u001b[A\u001b[A\n",
      "\n",
      "\n",
      "\n",
      "\n",
      "pytorch-2.2.2        | 171.8 MB  | ##9        |  30% \u001b[A\u001b[A\u001b[A\u001b[A\n",
      "\n",
      "\n",
      "\n",
      "\n",
      "pytorch-2.2.2        | 171.8 MB  | ###        |  30% \u001b[A\u001b[A\u001b[A\u001b[A\n",
      "\n",
      "\n",
      "\n",
      "\n",
      "pytorch-2.2.2        | 171.8 MB  | ###        |  30% \u001b[A\u001b[A\u001b[A\u001b[A\n",
      "\n",
      "\n",
      "\n",
      "\n",
      "pytorch-2.2.2        | 171.8 MB  | ###        |  31% \u001b[A\u001b[A\u001b[A\u001b[A\n",
      "\n",
      "\n",
      "\n",
      "\n",
      "pytorch-2.2.2        | 171.8 MB  | ###        |  31% \u001b[A\u001b[A\u001b[A\u001b[A\n",
      "\n",
      "\n",
      "\n",
      "\n",
      "pytorch-2.2.2        | 171.8 MB  | ###1       |  31% \u001b[A\u001b[A\u001b[A\u001b[A\n",
      "\n",
      "\n",
      "\n",
      "\n",
      "pytorch-2.2.2        | 171.8 MB  | ###1       |  32% \u001b[A\u001b[A\u001b[A\u001b[A\n",
      "\n",
      "\n",
      "\n",
      "\n",
      "pytorch-2.2.2        | 171.8 MB  | ###1       |  32% \u001b[A\u001b[A\u001b[A\u001b[A\n",
      "\n",
      "\n",
      "\n",
      "\n",
      "pytorch-2.2.2        | 171.8 MB  | ###2       |  32% \u001b[A\u001b[A\u001b[A\u001b[A\n",
      "\n",
      "\n",
      "\n",
      "\n",
      "pytorch-2.2.2        | 171.8 MB  | ###2       |  33% \u001b[A\u001b[A\u001b[A\u001b[A\n",
      "\n",
      "\n",
      "\n",
      "\n",
      "pytorch-2.2.2        | 171.8 MB  | ###3       |  33% \u001b[A\u001b[A\u001b[A\u001b[A\n",
      "\n",
      "\n",
      "\n",
      "\n",
      "pytorch-2.2.2        | 171.8 MB  | ###3       |  33% \u001b[A\u001b[A\u001b[A\u001b[A\n",
      "\n",
      "\n",
      "\n",
      "\n",
      "pytorch-2.2.2        | 171.8 MB  | ###3       |  34% \u001b[A\u001b[A\u001b[A\u001b[A\n",
      "\n",
      "\n",
      "\n",
      "\n",
      "pytorch-2.2.2        | 171.8 MB  | ###4       |  34% \u001b[A\u001b[A\u001b[A\u001b[A\n",
      "\n",
      "\n",
      "\n",
      "\n",
      "pytorch-2.2.2        | 171.8 MB  | ###4       |  35% \u001b[A\u001b[A\u001b[A\u001b[A\n",
      "\n",
      "\n",
      "\n",
      "\n",
      "pytorch-2.2.2        | 171.8 MB  | ###5       |  35% \u001b[A\u001b[A\u001b[A\u001b[A\n",
      "\n",
      "\n",
      "\n",
      "\n",
      "pytorch-2.2.2        | 171.8 MB  | ###5       |  35% \u001b[A\u001b[A\u001b[A\u001b[A\n",
      "\n",
      "\n",
      "\n",
      "\n",
      "pytorch-2.2.2        | 171.8 MB  | ###5       |  36% \u001b[A\u001b[A\u001b[A\u001b[A\n",
      "\n",
      "\n",
      "\n",
      "\n",
      "pytorch-2.2.2        | 171.8 MB  | ###6       |  36% \u001b[A\u001b[A\u001b[A\u001b[A\n",
      "\n",
      "\n",
      "\n",
      "\n",
      "pytorch-2.2.2        | 171.8 MB  | ###6       |  37% \u001b[A\u001b[A\u001b[A\u001b[A\n",
      "\n",
      "\n",
      "\n",
      "\n",
      "pytorch-2.2.2        | 171.8 MB  | ###6       |  37% \u001b[A\u001b[A\u001b[A\u001b[A\n",
      "\n",
      "\n",
      "\n",
      "\n",
      "pytorch-2.2.2        | 171.8 MB  | ###7       |  37% \u001b[A\u001b[A\u001b[A\u001b[A\n",
      "\n",
      "\n",
      "\n",
      "\n",
      "pytorch-2.2.2        | 171.8 MB  | ###7       |  38% \u001b[A\u001b[A\u001b[A\u001b[A\n",
      "\n",
      "\n",
      "\n",
      "\n",
      "pytorch-2.2.2        | 171.8 MB  | ###8       |  38% \u001b[A\u001b[A\u001b[A\u001b[A\n",
      "\n",
      "\n",
      "\n",
      "\n",
      "pytorch-2.2.2        | 171.8 MB  | ###8       |  38% \u001b[A\u001b[A\u001b[A\u001b[A\n",
      "\n",
      "\n",
      "\n",
      "\n",
      "pytorch-2.2.2        | 171.8 MB  | ###8       |  39% \u001b[A\u001b[A\u001b[A\u001b[A\n",
      "\n",
      "\n",
      "\n",
      "\n",
      "pytorch-2.2.2        | 171.8 MB  | ###8       |  39% \u001b[A\u001b[A\u001b[A\u001b[A\n",
      "\n",
      "\n",
      "\n",
      "\n",
      "pytorch-2.2.2        | 171.8 MB  | ###9       |  39% \u001b[A\u001b[A\u001b[A\u001b[A\n",
      "\n",
      "\n",
      "\n",
      "\n",
      "pytorch-2.2.2        | 171.8 MB  | ###9       |  40% \u001b[A\u001b[A\u001b[A\u001b[A\n",
      "\n",
      "\n",
      "\n",
      "\n",
      "pytorch-2.2.2        | 171.8 MB  | ###9       |  40% \u001b[A\u001b[A\u001b[A\u001b[A\n",
      "\n",
      "\n",
      "\n",
      "\n",
      "pytorch-2.2.2        | 171.8 MB  | ####       |  40% \u001b[A\u001b[A\u001b[A\u001b[A\n",
      "\n",
      "\n",
      "\n",
      "\n",
      "pytorch-2.2.2        | 171.8 MB  | ####       |  41% \u001b[A\u001b[A\u001b[A\u001b[A\n",
      "\n",
      "\n",
      "\n",
      "\n",
      "pytorch-2.2.2        | 171.8 MB  | ####       |  41% \u001b[A\u001b[A\u001b[A\u001b[A\n",
      "\n",
      "\n",
      "\n",
      "\n",
      "pytorch-2.2.2        | 171.8 MB  | ####1      |  41% \u001b[A\u001b[A\u001b[A\u001b[A\n",
      "\n",
      "\n",
      "\n",
      "\n",
      "pytorch-2.2.2        | 171.8 MB  | ####1      |  41% \u001b[A\u001b[A\u001b[A\u001b[A\n",
      "\n",
      "\n",
      "\n",
      "\n",
      "pytorch-2.2.2        | 171.8 MB  | ####1      |  42% \u001b[A\u001b[A\u001b[A\u001b[A\n",
      "\n",
      "\n",
      "\n",
      "\n",
      "pytorch-2.2.2        | 171.8 MB  | ####1      |  42% \u001b[A\u001b[A\u001b[A\u001b[A\n",
      "\n",
      "\n",
      "\n",
      "\n",
      "pytorch-2.2.2        | 171.8 MB  | ####2      |  42% \u001b[A\u001b[A\u001b[A\u001b[A\n",
      "\n",
      "\n",
      "\n",
      "\n",
      "pytorch-2.2.2        | 171.8 MB  | ####2      |  42% \u001b[A\u001b[A\u001b[A\u001b[A\n",
      "\n",
      "\n",
      "\n",
      "\n",
      "pytorch-2.2.2        | 171.8 MB  | ####2      |  43% \u001b[A\u001b[A\u001b[A\u001b[A\n",
      "\n",
      "\n",
      "\n",
      "\n",
      "pytorch-2.2.2        | 171.8 MB  | ####2      |  43% \u001b[A\u001b[A\u001b[A\u001b[A\n",
      "\n",
      "\n",
      "\n",
      "\n",
      "pytorch-2.2.2        | 171.8 MB  | ####2      |  43% \u001b[A\u001b[A\u001b[A\u001b[A\n",
      "\n",
      "\n",
      "\n",
      "\n",
      "pytorch-2.2.2        | 171.8 MB  | ####3      |  43% \u001b[A\u001b[A\u001b[A\u001b[A\n",
      "\n",
      "\n",
      "\n",
      "\n",
      "pytorch-2.2.2        | 171.8 MB  | ####3      |  43% \u001b[A\u001b[A\u001b[A\u001b[A\n",
      "\n",
      "\n",
      "\n",
      "\n",
      "pytorch-2.2.2        | 171.8 MB  | ####3      |  44% \u001b[A\u001b[A\u001b[A\u001b[A\n",
      "\n",
      "\n",
      "\n",
      "\n",
      "pytorch-2.2.2        | 171.8 MB  | ####3      |  44% \u001b[A\u001b[A\u001b[A\u001b[A\n",
      "\n",
      "\n",
      "\n",
      "\n",
      "pytorch-2.2.2        | 171.8 MB  | ####4      |  44% \u001b[A\u001b[A\u001b[A\u001b[A\n",
      "\n",
      "\n",
      "\n",
      "\n",
      "pytorch-2.2.2        | 171.8 MB  | ####4      |  44% \u001b[A\u001b[A\u001b[A\u001b[A\n",
      "\n",
      "\n",
      "\n",
      "\n",
      "pytorch-2.2.2        | 171.8 MB  | ####4      |  45% \u001b[A\u001b[A\u001b[A\u001b[A\n",
      "\n",
      "\n",
      "\n",
      "\n",
      "pytorch-2.2.2        | 171.8 MB  | ####4      |  45% \u001b[A\u001b[A\u001b[A\u001b[A\n",
      "\n",
      "\n",
      "\n",
      "\n",
      "pytorch-2.2.2        | 171.8 MB  | ####5      |  45% \u001b[A\u001b[A\u001b[A\u001b[A\n",
      "\n",
      "\n",
      "\n",
      "\n",
      "pytorch-2.2.2        | 171.8 MB  | ####5      |  45% \u001b[A\u001b[A\u001b[A\u001b[A\n",
      "\n",
      "\n",
      "\n",
      "\n",
      "pytorch-2.2.2        | 171.8 MB  | ####5      |  46% \u001b[A\u001b[A\u001b[A\u001b[A\n",
      "\n",
      "\n",
      "\n",
      "\n",
      "pytorch-2.2.2        | 171.8 MB  | ####6      |  46% \u001b[A\u001b[A\u001b[A\u001b[A\n",
      "\n",
      "\n",
      "\n",
      "\n",
      "pytorch-2.2.2        | 171.8 MB  | ####6      |  46% \u001b[A\u001b[A\u001b[A\u001b[A\n",
      "\n",
      "\n",
      "\n",
      "\n",
      "pytorch-2.2.2        | 171.8 MB  | ####6      |  47% \u001b[A\u001b[A\u001b[A\u001b[A\n",
      "\n",
      "\n",
      "\n",
      "\n",
      "pytorch-2.2.2        | 171.8 MB  | ####6      |  47% \u001b[A\u001b[A\u001b[A\u001b[A\n",
      "\n",
      "\n",
      "\n",
      "\n",
      "pytorch-2.2.2        | 171.8 MB  | ####7      |  47% \u001b[A\u001b[A\u001b[A\u001b[A\n",
      "\n",
      "\n",
      "\n",
      "\n",
      "pytorch-2.2.2        | 171.8 MB  | ####7      |  48% \u001b[A\u001b[A\u001b[A\u001b[A\n",
      "\n",
      "\n",
      "\n",
      "\n",
      "pytorch-2.2.2        | 171.8 MB  | ####7      |  48% \u001b[A\u001b[A\u001b[A\u001b[A\n",
      "\n",
      "\n",
      "\n",
      "\n",
      "pytorch-2.2.2        | 171.8 MB  | ####8      |  48% \u001b[A\u001b[A\u001b[A\u001b[A\n",
      "\n",
      "\n",
      "\n",
      "\n",
      "pytorch-2.2.2        | 171.8 MB  | ####8      |  48% \u001b[A\u001b[A\u001b[A\u001b[A\n",
      "\n",
      "\n",
      "\n",
      "\n",
      "pytorch-2.2.2        | 171.8 MB  | ####8      |  49% \u001b[A\u001b[A\u001b[A\u001b[A\n",
      "\n",
      "\n",
      "\n",
      "\n",
      "pytorch-2.2.2        | 171.8 MB  | ####9      |  49% \u001b[A\u001b[A\u001b[A\u001b[A\n",
      "\n",
      "\n",
      "\n",
      "\n",
      "pytorch-2.2.2        | 171.8 MB  | ####9      |  49% \u001b[A\u001b[A\u001b[A\u001b[A\n",
      "\n",
      "\n",
      "\n",
      "\n",
      "pytorch-2.2.2        | 171.8 MB  | ####9      |  50% \u001b[A\u001b[A\u001b[A\u001b[A\n",
      "\n",
      "\n",
      "\n",
      "\n",
      "pytorch-2.2.2        | 171.8 MB  | ####9      |  50% \u001b[A\u001b[A\u001b[A\u001b[A\n",
      "\n",
      "\n",
      "\n",
      "\n",
      "pytorch-2.2.2        | 171.8 MB  | #####      |  50% \u001b[A\u001b[A\u001b[A\u001b[A\n",
      "\n",
      "\n",
      "\n",
      "\n",
      "pytorch-2.2.2        | 171.8 MB  | #####      |  50% \u001b[A\u001b[A\u001b[A\u001b[A\n",
      "\n",
      "\n",
      "\n",
      "\n",
      "pytorch-2.2.2        | 171.8 MB  | #####      |  51% \u001b[A\u001b[A\u001b[A\u001b[A\n",
      "\n",
      "\n",
      "\n",
      "\n",
      "pytorch-2.2.2        | 171.8 MB  | #####      |  51% \u001b[A\u001b[A\u001b[A\u001b[A\n",
      "\n",
      "\n",
      "\n",
      "\n",
      "pytorch-2.2.2        | 171.8 MB  | #####1     |  51% \u001b[A\u001b[A\u001b[A\u001b[A\n",
      "\n",
      "\n",
      "\n",
      "\n",
      "pytorch-2.2.2        | 171.8 MB  | #####1     |  51% \u001b[A\u001b[A\u001b[A\u001b[A\n",
      "\n",
      "\n",
      "\n",
      "\n",
      "pytorch-2.2.2        | 171.8 MB  | #####1     |  52% \u001b[A\u001b[A\u001b[A\u001b[A\n",
      "\n",
      "\n",
      "\n",
      "\n",
      "pytorch-2.2.2        | 171.8 MB  | #####2     |  52% \u001b[A\u001b[A\u001b[A\u001b[A\n",
      "\n",
      "\n",
      "\n",
      "\n",
      "pytorch-2.2.2        | 171.8 MB  | #####2     |  52% \u001b[A\u001b[A\u001b[A\u001b[A\n",
      "\n",
      "\n",
      "\n",
      "\n",
      "pytorch-2.2.2        | 171.8 MB  | #####2     |  53% \u001b[A\u001b[A\u001b[A\u001b[A\n",
      "\n",
      "\n",
      "\n",
      "\n",
      "pytorch-2.2.2        | 171.8 MB  | #####3     |  53% \u001b[A\u001b[A\u001b[A\u001b[A\n",
      "\n",
      "\n",
      "\n",
      "\n",
      "pytorch-2.2.2        | 171.8 MB  | #####3     |  53% \u001b[A\u001b[A\u001b[A\u001b[A\n",
      "\n",
      "\n",
      "\n",
      "\n",
      "pytorch-2.2.2        | 171.8 MB  | #####3     |  54% \u001b[A\u001b[A\u001b[A\u001b[A\n",
      "\n",
      "\n",
      "\n",
      "\n",
      "pytorch-2.2.2        | 171.8 MB  | #####4     |  54% \u001b[A\u001b[A\u001b[A\u001b[A\n",
      "\n",
      "\n",
      "\n",
      "\n",
      "pytorch-2.2.2        | 171.8 MB  | #####4     |  55% \u001b[A\u001b[A\u001b[A\u001b[A\n",
      "\n",
      "\n",
      "\n",
      "\n",
      "pytorch-2.2.2        | 171.8 MB  | #####4     |  55% \u001b[A\u001b[A\u001b[A\u001b[A\n",
      "\n",
      "\n",
      "\n",
      "\n",
      "pytorch-2.2.2        | 171.8 MB  | #####5     |  55% \u001b[A\u001b[A\u001b[A\u001b[A\n",
      "\n",
      "\n",
      "\n",
      "\n",
      "pytorch-2.2.2        | 171.8 MB  | #####5     |  56% \u001b[A\u001b[A\u001b[A\u001b[A\n",
      "\n",
      "\n",
      "\n",
      "\n",
      "pytorch-2.2.2        | 171.8 MB  | #####5     |  56% \u001b[A\u001b[A\u001b[A\u001b[A\n",
      "\n",
      "\n",
      "\n",
      "\n",
      "pytorch-2.2.2        | 171.8 MB  | #####6     |  56% \u001b[A\u001b[A\u001b[A\u001b[A\n",
      "\n",
      "\n",
      "\n",
      "\n",
      "pytorch-2.2.2        | 171.8 MB  | #####6     |  57% \u001b[A\u001b[A\u001b[A\u001b[A\n",
      "\n",
      "\n",
      "\n",
      "\n",
      "pytorch-2.2.2        | 171.8 MB  | #####7     |  57% \u001b[A\u001b[A\u001b[A\u001b[A\n",
      "\n",
      "\n",
      "\n",
      "\n",
      "pytorch-2.2.2        | 171.8 MB  | #####7     |  57% \u001b[A\u001b[A\u001b[A\u001b[A\n",
      "\n",
      "\n",
      "\n",
      "\n",
      "pytorch-2.2.2        | 171.8 MB  | #####7     |  58% \u001b[A\u001b[A\u001b[A\u001b[A\n",
      "\n",
      "\n",
      "\n",
      "\n",
      "pytorch-2.2.2        | 171.8 MB  | #####8     |  58% \u001b[A\u001b[A\u001b[A\u001b[A\n",
      "\n",
      "\n",
      "\n",
      "\n",
      "pytorch-2.2.2        | 171.8 MB  | #####8     |  59% \u001b[A\u001b[A\u001b[A\u001b[A\n",
      "\n",
      "\n",
      "\n",
      "\n",
      "pytorch-2.2.2        | 171.8 MB  | #####8     |  59% \u001b[A\u001b[A\u001b[A\u001b[A\n",
      "\n",
      "\n",
      "\n",
      "\n",
      "pytorch-2.2.2        | 171.8 MB  | #####9     |  59% \u001b[A\u001b[A\u001b[A\u001b[A\n",
      "\n",
      "\n",
      "\n",
      "\n",
      "pytorch-2.2.2        | 171.8 MB  | #####9     |  60% \u001b[A\u001b[A\u001b[A\u001b[A\n",
      "\n",
      "\n",
      "\n",
      "\n",
      "pytorch-2.2.2        | 171.8 MB  | ######     |  60% \u001b[A\u001b[A\u001b[A\u001b[A\n",
      "\n",
      "\n",
      "\n",
      "\n",
      "pytorch-2.2.2        | 171.8 MB  | ######     |  61% \u001b[A\u001b[A\u001b[A\u001b[A\n",
      "\n",
      "\n",
      "\n",
      "\n",
      "pytorch-2.2.2        | 171.8 MB  | ######     |  61% \u001b[A\u001b[A\u001b[A\u001b[A\n",
      "\n",
      "\n",
      "\n",
      "\n",
      "pytorch-2.2.2        | 171.8 MB  | ######1    |  61% \u001b[A\u001b[A\u001b[A\u001b[A\n",
      "\n",
      "\n",
      "\n",
      "\n",
      "pytorch-2.2.2        | 171.8 MB  | ######1    |  62% \u001b[A\u001b[A\u001b[A\u001b[A\n",
      "\n",
      "\n",
      "\n",
      "\n",
      "pytorch-2.2.2        | 171.8 MB  | ######2    |  62% \u001b[A\u001b[A\u001b[A\u001b[A\n",
      "\n",
      "\n",
      "\n",
      "\n",
      "pytorch-2.2.2        | 171.8 MB  | ######2    |  63% \u001b[A\u001b[A\u001b[A\u001b[A\n",
      "\n",
      "\n",
      "\n",
      "\n",
      "pytorch-2.2.2        | 171.8 MB  | ######2    |  63% \u001b[A\u001b[A\u001b[A\u001b[A\n",
      "\n",
      "\n",
      "\n",
      "\n",
      "pytorch-2.2.2        | 171.8 MB  | ######3    |  63% \u001b[A\u001b[A\u001b[A\u001b[A\n",
      "\n",
      "\n",
      "\n",
      "\n",
      "pytorch-2.2.2        | 171.8 MB  | ######3    |  63% \u001b[A\u001b[A\u001b[A\u001b[A\n",
      "\n",
      "\n",
      "\n",
      "\n",
      "pytorch-2.2.2        | 171.8 MB  | ######3    |  64% \u001b[A\u001b[A\u001b[A\u001b[A\n",
      "\n",
      "\n",
      "\n",
      "\n",
      "pytorch-2.2.2        | 171.8 MB  | ######4    |  64% \u001b[A\u001b[A\u001b[A\u001b[A\n",
      "\n",
      "\n",
      "\n",
      "\n",
      "pytorch-2.2.2        | 171.8 MB  | ######4    |  64% \u001b[A\u001b[A\u001b[A\u001b[A\n",
      "\n",
      "\n",
      "\n",
      "\n",
      "pytorch-2.2.2        | 171.8 MB  | ######4    |  65% \u001b[A\u001b[A\u001b[A\u001b[A\n",
      "\n",
      "\n",
      "\n",
      "\n",
      "pytorch-2.2.2        | 171.8 MB  | ######4    |  65% \u001b[A\u001b[A\u001b[A\u001b[A\n",
      "\n",
      "\n",
      "\n",
      "\n",
      "pytorch-2.2.2        | 171.8 MB  | ######5    |  65% \u001b[A\u001b[A\u001b[A\u001b[A\n",
      "\n",
      "\n",
      "\n",
      "\n",
      "pytorch-2.2.2        | 171.8 MB  | ######5    |  66% \u001b[A\u001b[A\u001b[A\u001b[A\n",
      "\n",
      "\n",
      "\n",
      "\n",
      "pytorch-2.2.2        | 171.8 MB  | ######5    |  66% \u001b[A\u001b[A\u001b[A\u001b[A\n",
      "\n",
      "\n",
      "\n",
      "\n",
      "pytorch-2.2.2        | 171.8 MB  | ######6    |  66% \u001b[A\u001b[A\u001b[A\u001b[A\n",
      "\n",
      "\n",
      "\n",
      "\n",
      "pytorch-2.2.2        | 171.8 MB  | ######6    |  66% \u001b[A\u001b[A\u001b[A\u001b[A\n",
      "\n",
      "\n",
      "\n",
      "\n",
      "pytorch-2.2.2        | 171.8 MB  | ######6    |  67% \u001b[A\u001b[A\u001b[A\u001b[A\n",
      "\n",
      "\n",
      "\n",
      "\n",
      "pytorch-2.2.2        | 171.8 MB  | ######7    |  67% \u001b[A\u001b[A\u001b[A\u001b[A\n",
      "\n",
      "\n",
      "\n",
      "\n",
      "pytorch-2.2.2        | 171.8 MB  | ######7    |  67% \u001b[A\u001b[A\u001b[A\u001b[A\n",
      "\n",
      "\n",
      "\n",
      "\n",
      "pytorch-2.2.2        | 171.8 MB  | ######7    |  68% \u001b[A\u001b[A\u001b[A\u001b[A\n",
      "\n",
      "\n",
      "\n",
      "\n",
      "pytorch-2.2.2        | 171.8 MB  | ######8    |  68% \u001b[A\u001b[A\u001b[A\u001b[A\n",
      "\n",
      "\n",
      "\n",
      "\n",
      "pytorch-2.2.2        | 171.8 MB  | ######8    |  68% \u001b[A\u001b[A\u001b[A\u001b[A\n",
      "\n",
      "\n",
      "\n",
      "\n",
      "pytorch-2.2.2        | 171.8 MB  | ######8    |  69% \u001b[A\u001b[A\u001b[A\u001b[A\n",
      "\n",
      "\n",
      "\n",
      "\n",
      "pytorch-2.2.2        | 171.8 MB  | ######8    |  69% \u001b[A\u001b[A\u001b[A\u001b[A\n",
      "\n",
      "\n",
      "\n",
      "\n",
      "pytorch-2.2.2        | 171.8 MB  | ######9    |  69% \u001b[A\u001b[A\u001b[A\u001b[A\n",
      "\n",
      "\n",
      "\n",
      "\n",
      "pytorch-2.2.2        | 171.8 MB  | ######9    |  69% \u001b[A\u001b[A\u001b[A\u001b[A\n",
      "\n",
      "\n",
      "\n",
      "\n",
      "pytorch-2.2.2        | 171.8 MB  | ######9    |  70% \u001b[A\u001b[A\u001b[A\u001b[A\n",
      "\n",
      "\n",
      "\n",
      "\n",
      "pytorch-2.2.2        | 171.8 MB  | ######9    |  70% \u001b[A\u001b[A\u001b[A\u001b[A\n",
      "\n",
      "\n",
      "\n",
      "\n",
      "pytorch-2.2.2        | 171.8 MB  | ######9    |  70% \u001b[A\u001b[A\u001b[A\u001b[A\n",
      "\n",
      "\n",
      "\n",
      "\n",
      "pytorch-2.2.2        | 171.8 MB  | #######    |  70% \u001b[A\u001b[A\u001b[A\u001b[A\n",
      "\n",
      "\n",
      "\n",
      "\n",
      "pytorch-2.2.2        | 171.8 MB  | #######    |  70% \u001b[A\u001b[A\u001b[A\u001b[A\n",
      "\n",
      "\n",
      "\n",
      "\n",
      "pytorch-2.2.2        | 171.8 MB  | #######    |  70% \u001b[A\u001b[A\u001b[A\u001b[A\n",
      "\n",
      "\n",
      "\n",
      "\n",
      "pytorch-2.2.2        | 171.8 MB  | #######    |  71% \u001b[A\u001b[A\u001b[A\u001b[A\n",
      "\n",
      "\n",
      "\n",
      "\n",
      "pytorch-2.2.2        | 171.8 MB  | #######    |  71% \u001b[A\u001b[A\u001b[A\u001b[A\n",
      "\n",
      "\n",
      "\n",
      "\n",
      "pytorch-2.2.2        | 171.8 MB  | #######1   |  71% \u001b[A\u001b[A\u001b[A\u001b[A\n",
      "\n",
      "\n",
      "\n",
      "\n",
      "pytorch-2.2.2        | 171.8 MB  | #######1   |  71% \u001b[A\u001b[A\u001b[A\u001b[A\n",
      "\n",
      "\n",
      "\n",
      "\n",
      "pytorch-2.2.2        | 171.8 MB  | #######1   |  72% \u001b[A\u001b[A\u001b[A\u001b[A\n",
      "\n",
      "\n",
      "\n",
      "\n",
      "pytorch-2.2.2        | 171.8 MB  | #######1   |  72% \u001b[A\u001b[A\u001b[A\u001b[A\n",
      "\n",
      "\n",
      "\n",
      "\n",
      "pytorch-2.2.2        | 171.8 MB  | #######1   |  72% \u001b[A\u001b[A\u001b[A\u001b[A\n",
      "\n",
      "\n",
      "\n",
      "\n",
      "pytorch-2.2.2        | 171.8 MB  | #######2   |  72% \u001b[A\u001b[A\u001b[A\u001b[A\n",
      "\n",
      "\n",
      "\n",
      "\n",
      "pytorch-2.2.2        | 171.8 MB  | #######2   |  72% \u001b[A\u001b[A\u001b[A\u001b[A\n",
      "\n",
      "\n",
      "\n",
      "\n",
      "pytorch-2.2.2        | 171.8 MB  | #######2   |  73% \u001b[A\u001b[A\u001b[A\u001b[A\n",
      "\n",
      "\n",
      "\n",
      "\n",
      "pytorch-2.2.2        | 171.8 MB  | #######2   |  73% \u001b[A\u001b[A\u001b[A\u001b[A\n",
      "\n",
      "\n",
      "\n",
      "\n",
      "pytorch-2.2.2        | 171.8 MB  | #######3   |  73% \u001b[A\u001b[A\u001b[A\u001b[A\n",
      "\n",
      "\n",
      "\n",
      "\n",
      "pytorch-2.2.2        | 171.8 MB  | #######3   |  73% \u001b[A\u001b[A\u001b[A\u001b[A\n",
      "\n",
      "\n",
      "\n",
      "\n",
      "pytorch-2.2.2        | 171.8 MB  | #######3   |  74% \u001b[A\u001b[A\u001b[A\u001b[A\n",
      "\n",
      "\n",
      "\n",
      "\n",
      "pytorch-2.2.2        | 171.8 MB  | #######3   |  74% \u001b[A\u001b[A\u001b[A\u001b[A\n",
      "\n",
      "\n",
      "\n",
      "\n",
      "pytorch-2.2.2        | 171.8 MB  | #######4   |  74% \u001b[A\u001b[A\u001b[A\u001b[A\n",
      "\n",
      "\n",
      "\n",
      "\n",
      "pytorch-2.2.2        | 171.8 MB  | #######4   |  74% \u001b[A\u001b[A\u001b[A\u001b[A\n",
      "\n",
      "\n",
      "\n",
      "\n",
      "pytorch-2.2.2        | 171.8 MB  | #######4   |  75% \u001b[A\u001b[A\u001b[A\u001b[A\n",
      "\n",
      "\n",
      "\n",
      "\n",
      "pytorch-2.2.2        | 171.8 MB  | #######5   |  75% \u001b[A\u001b[A\u001b[A\u001b[A\n",
      "\n",
      "\n",
      "\n",
      "\n",
      "pytorch-2.2.2        | 171.8 MB  | #######5   |  75% \u001b[A\u001b[A\u001b[A\u001b[A\n",
      "\n",
      "\n",
      "\n",
      "\n",
      "pytorch-2.2.2        | 171.8 MB  | #######5   |  76% \u001b[A\u001b[A\u001b[A\u001b[A\n",
      "\n",
      "\n",
      "\n",
      "\n",
      "pytorch-2.2.2        | 171.8 MB  | #######5   |  76% \u001b[A\u001b[A\u001b[A\u001b[A\n",
      "\n",
      "\n",
      "\n",
      "\n",
      "pytorch-2.2.2        | 171.8 MB  | #######6   |  76% \u001b[A\u001b[A\u001b[A\u001b[A\n",
      "\n",
      "\n",
      "\n",
      "\n",
      "pytorch-2.2.2        | 171.8 MB  | #######6   |  77% \u001b[A\u001b[A\u001b[A\u001b[A\n",
      "\n",
      "\n",
      "\n",
      "\n",
      "pytorch-2.2.2        | 171.8 MB  | #######6   |  77% \u001b[A\u001b[A\u001b[A\u001b[A\n",
      "\n",
      "\n",
      "\n",
      "\n",
      "pytorch-2.2.2        | 171.8 MB  | #######7   |  77% \u001b[A\u001b[A\u001b[A\u001b[A\n",
      "\n",
      "\n",
      "\n",
      "\n",
      "pytorch-2.2.2        | 171.8 MB  | #######7   |  78% \u001b[A\u001b[A\u001b[A\u001b[A\n",
      "\n",
      "\n",
      "\n",
      "\n",
      "pytorch-2.2.2        | 171.8 MB  | #######7   |  78% \u001b[A\u001b[A\u001b[A\u001b[A\n",
      "\n",
      "\n",
      "\n",
      "\n",
      "pytorch-2.2.2        | 171.8 MB  | #######8   |  78% \u001b[A\u001b[A\u001b[A\u001b[A\n",
      "\n",
      "\n",
      "\n",
      "\n",
      "pytorch-2.2.2        | 171.8 MB  | #######8   |  79% \u001b[A\u001b[A\u001b[A\u001b[A\n",
      "\n",
      "\n",
      "\n",
      "\n",
      "pytorch-2.2.2        | 171.8 MB  | #######8   |  79% \u001b[A\u001b[A\u001b[A\u001b[A\n",
      "\n",
      "\n",
      "\n",
      "\n",
      "pytorch-2.2.2        | 171.8 MB  | #######9   |  79% \u001b[A\u001b[A\u001b[A\u001b[A\n",
      "\n",
      "\n",
      "\n",
      "\n",
      "pytorch-2.2.2        | 171.8 MB  | #######9   |  80% \u001b[A\u001b[A\u001b[A\u001b[A\n",
      "\n",
      "\n",
      "\n",
      "\n",
      "pytorch-2.2.2        | 171.8 MB  | #######9   |  80% \u001b[A\u001b[A\u001b[A\u001b[A\n",
      "\n",
      "\n",
      "\n",
      "\n",
      "pytorch-2.2.2        | 171.8 MB  | ########   |  80% \u001b[A\u001b[A\u001b[A\u001b[A\n",
      "\n",
      "\n",
      "\n",
      "\n",
      "pytorch-2.2.2        | 171.8 MB  | ########   |  81% \u001b[A\u001b[A\u001b[A\u001b[A\n",
      "\n",
      "\n",
      "\n",
      "\n",
      "pytorch-2.2.2        | 171.8 MB  | ########   |  81% \u001b[A\u001b[A\u001b[A\u001b[A\n",
      "\n",
      "\n",
      "\n",
      "\n",
      "pytorch-2.2.2        | 171.8 MB  | ########1  |  81% \u001b[A\u001b[A\u001b[A\u001b[A\n",
      "\n",
      "\n",
      "\n",
      "\n",
      "pytorch-2.2.2        | 171.8 MB  | ########1  |  81% \u001b[A\u001b[A\u001b[A\u001b[A\n",
      "\n",
      "\n",
      "\n",
      "\n",
      "pytorch-2.2.2        | 171.8 MB  | ########1  |  82% \u001b[A\u001b[A\u001b[A\u001b[A\n",
      "\n",
      "\n",
      "\n",
      "\n",
      "pytorch-2.2.2        | 171.8 MB  | ########1  |  82% \u001b[A\u001b[A\u001b[A\u001b[A\n",
      "\n",
      "\n",
      "\n",
      "\n",
      "pytorch-2.2.2        | 171.8 MB  | ########2  |  82% \u001b[A\u001b[A\u001b[A\u001b[A\n",
      "\n",
      "\n",
      "\n",
      "\n",
      "pytorch-2.2.2        | 171.8 MB  | ########2  |  82% \u001b[A\u001b[A\u001b[A\u001b[A\n",
      "\n",
      "\n",
      "\n",
      "\n",
      "pytorch-2.2.2        | 171.8 MB  | ########2  |  83% \u001b[A\u001b[A\u001b[A\u001b[A\n",
      "\n",
      "\n",
      "\n",
      "\n",
      "pytorch-2.2.2        | 171.8 MB  | ########2  |  83% \u001b[A\u001b[A\u001b[A\u001b[A\n",
      "\n",
      "\n",
      "\n",
      "\n",
      "pytorch-2.2.2        | 171.8 MB  | ########3  |  83% \u001b[A\u001b[A\u001b[A\u001b[A\n",
      "\n",
      "\n",
      "\n",
      "\n",
      "pytorch-2.2.2        | 171.8 MB  | ########3  |  83% \u001b[A\u001b[A\u001b[A\u001b[A\n",
      "\n",
      "\n",
      "\n",
      "\n",
      "pytorch-2.2.2        | 171.8 MB  | ########3  |  84% \u001b[A\u001b[A\u001b[A\u001b[A\n",
      "\n",
      "\n",
      "\n",
      "\n",
      "pytorch-2.2.2        | 171.8 MB  | ########3  |  84% \u001b[A\u001b[A\u001b[A\u001b[A\n",
      "\n",
      "\n",
      "\n",
      "\n",
      "pytorch-2.2.2        | 171.8 MB  | ########3  |  84% \u001b[A\u001b[A\u001b[A\u001b[A\n",
      "\n",
      "\n",
      "\n",
      "\n",
      "pytorch-2.2.2        | 171.8 MB  | ########4  |  84% \u001b[A\u001b[A\u001b[A\u001b[A\n",
      "\n",
      "\n",
      "\n",
      "\n",
      "pytorch-2.2.2        | 171.8 MB  | ########4  |  84% \u001b[A\u001b[A\u001b[A\u001b[A\n",
      "\n",
      "\n",
      "\n",
      "\n",
      "pytorch-2.2.2        | 171.8 MB  | ########4  |  85% \u001b[A\u001b[A\u001b[A\u001b[A\n",
      "\n",
      "\n",
      "\n",
      "\n",
      "pytorch-2.2.2        | 171.8 MB  | ########4  |  85% \u001b[A\u001b[A\u001b[A\u001b[A\n",
      "\n",
      "\n",
      "\n",
      "\n",
      "pytorch-2.2.2        | 171.8 MB  | ########5  |  85% \u001b[A\u001b[A\u001b[A\u001b[A\n",
      "\n",
      "\n",
      "\n",
      "\n",
      "pytorch-2.2.2        | 171.8 MB  | ########5  |  85% \u001b[A\u001b[A\u001b[A\u001b[A\n",
      "\n",
      "\n",
      "\n",
      "\n",
      "pytorch-2.2.2        | 171.8 MB  | ########5  |  86% \u001b[A\u001b[A\u001b[A\u001b[A\n",
      "\n",
      "\n",
      "\n",
      "\n",
      "pytorch-2.2.2        | 171.8 MB  | ########5  |  86% \u001b[A\u001b[A\u001b[A\u001b[A\n",
      "\n",
      "\n",
      "\n",
      "\n",
      "pytorch-2.2.2        | 171.8 MB  | ########6  |  86% \u001b[A\u001b[A\u001b[A\u001b[A\n",
      "\n",
      "\n",
      "\n",
      "\n",
      "pytorch-2.2.2        | 171.8 MB  | ########6  |  86% \u001b[A\u001b[A\u001b[A\u001b[A\n",
      "\n",
      "\n",
      "\n",
      "\n",
      "pytorch-2.2.2        | 171.8 MB  | ########6  |  87% \u001b[A\u001b[A\u001b[A\u001b[A\n",
      "\n",
      "\n",
      "\n",
      "\n",
      "pytorch-2.2.2        | 171.8 MB  | ########7  |  87% \u001b[A\u001b[A\u001b[A\u001b[A\n",
      "\n",
      "\n",
      "\n",
      "\n",
      "pytorch-2.2.2        | 171.8 MB  | ########7  |  87% \u001b[A\u001b[A\u001b[A\u001b[A\n",
      "\n",
      "\n",
      "\n",
      "\n",
      "pytorch-2.2.2        | 171.8 MB  | ########7  |  88% \u001b[A\u001b[A\u001b[A\u001b[A\n",
      "\n",
      "\n",
      "\n",
      "\n",
      "pytorch-2.2.2        | 171.8 MB  | ########8  |  88% \u001b[A\u001b[A\u001b[A\u001b[A\n",
      "\n",
      "\n",
      "\n",
      "\n",
      "pytorch-2.2.2        | 171.8 MB  | ########8  |  88% \u001b[A\u001b[A\u001b[A\u001b[A\n",
      "\n",
      "\n",
      "\n",
      "\n",
      "pytorch-2.2.2        | 171.8 MB  | ########8  |  89% \u001b[A\u001b[A\u001b[A\u001b[A\n",
      "\n",
      "\n",
      "\n",
      "\n",
      "pytorch-2.2.2        | 171.8 MB  | ########8  |  89% \u001b[A\u001b[A\u001b[A\u001b[A\n",
      "\n",
      "\n",
      "\n",
      "\n",
      "pytorch-2.2.2        | 171.8 MB  | ########9  |  89% \u001b[A\u001b[A\u001b[A\u001b[A\n",
      "\n",
      "\n",
      "\n",
      "\n",
      "pytorch-2.2.2        | 171.8 MB  | ########9  |  90% \u001b[A\u001b[A\u001b[A\u001b[A\n",
      "\n",
      "\n",
      "\n",
      "\n",
      "pytorch-2.2.2        | 171.8 MB  | #########  |  90% \u001b[A\u001b[A\u001b[A\u001b[A\n",
      "\n",
      "\n",
      "\n",
      "\n",
      "pytorch-2.2.2        | 171.8 MB  | #########  |  90% \u001b[A\u001b[A\u001b[A\u001b[A\n",
      "\n",
      "\n",
      "\n",
      "\n",
      "pytorch-2.2.2        | 171.8 MB  | #########  |  91% \u001b[A\u001b[A\u001b[A\u001b[A\n",
      "\n",
      "\n",
      "\n",
      "\n",
      "pytorch-2.2.2        | 171.8 MB  | #########  |  91% \u001b[A\u001b[A\u001b[A\u001b[A\n",
      "\n",
      "\n",
      "\n",
      "\n",
      "pytorch-2.2.2        | 171.8 MB  | #########1 |  91% \u001b[A\u001b[A\u001b[A\u001b[A\n",
      "\n",
      "\n",
      "\n",
      "\n",
      "pytorch-2.2.2        | 171.8 MB  | #########1 |  92% \u001b[A\u001b[A\u001b[A\u001b[A\n",
      "\n",
      "\n",
      "\n",
      "\n",
      "pytorch-2.2.2        | 171.8 MB  | #########2 |  92% \u001b[A\u001b[A\u001b[A\u001b[A\n",
      "\n",
      "\n",
      "\n",
      "\n",
      "pytorch-2.2.2        | 171.8 MB  | #########2 |  92% \u001b[A\u001b[A\u001b[A\u001b[A\n",
      "\n",
      "\n",
      "\n",
      "\n",
      "pytorch-2.2.2        | 171.8 MB  | #########2 |  93% \u001b[A\u001b[A\u001b[A\u001b[A\n",
      "\n",
      "\n",
      "\n",
      "\n",
      "pytorch-2.2.2        | 171.8 MB  | #########3 |  93% \u001b[A\u001b[A\u001b[A\u001b[A\n",
      "\n",
      "\n",
      "\n",
      "\n",
      "pytorch-2.2.2        | 171.8 MB  | #########3 |  94% \u001b[A\u001b[A\u001b[A\u001b[A\n",
      "\n",
      "\n",
      "\n",
      "\n",
      "pytorch-2.2.2        | 171.8 MB  | #########4 |  94% \u001b[A\u001b[A\u001b[A\u001b[A\n",
      "\n",
      "\n",
      "\n",
      "\n",
      "pytorch-2.2.2        | 171.8 MB  | #########4 |  95% \u001b[A\u001b[A\u001b[A\u001b[A\n",
      "\n",
      "\n",
      "\n",
      "\n",
      "pytorch-2.2.2        | 171.8 MB  | #########4 |  95% \u001b[A\u001b[A\u001b[A\u001b[A\n",
      "\n",
      "\n",
      "\n",
      "\n",
      "pytorch-2.2.2        | 171.8 MB  | #########5 |  95% \u001b[A\u001b[A\u001b[A\u001b[A\n",
      "\n",
      "\n",
      "\n",
      "\n",
      "pytorch-2.2.2        | 171.8 MB  | #########5 |  96% \u001b[A\u001b[A\u001b[A\u001b[A\n",
      "\n",
      "\n",
      "\n",
      "\n",
      "pytorch-2.2.2        | 171.8 MB  | #########6 |  96% \u001b[A\u001b[A\u001b[A\u001b[A\n",
      "\n",
      "\n",
      "\n",
      "\n",
      "pytorch-2.2.2        | 171.8 MB  | #########6 |  96% \u001b[A\u001b[A\u001b[A\u001b[A\n",
      "\n",
      "\n",
      "\n",
      "\n",
      "pytorch-2.2.2        | 171.8 MB  | #########6 |  97% \u001b[A\u001b[A\u001b[A\u001b[A\n",
      "\n",
      "\n",
      "\n",
      "\n",
      "pytorch-2.2.2        | 171.8 MB  | #########6 |  97% \u001b[A\u001b[A\u001b[A\u001b[A\n",
      "\n",
      "\n",
      "\n",
      "\n",
      "pytorch-2.2.2        | 171.8 MB  | #########7 |  97% \u001b[A\u001b[A\u001b[A\u001b[A\n",
      "\n",
      "\n",
      "\n",
      "\n",
      "pytorch-2.2.2        | 171.8 MB  | #########7 |  98% \u001b[A\u001b[A\u001b[A\u001b[A\n",
      "\n",
      "\n",
      "\n",
      "\n",
      "pytorch-2.2.2        | 171.8 MB  | #########7 |  98% \u001b[A\u001b[A\u001b[A\u001b[A\n",
      "\n",
      "\n",
      "\n",
      "\n",
      "pytorch-2.2.2        | 171.8 MB  | #########8 |  98% \u001b[A\u001b[A\u001b[A\u001b[A\n",
      "\n",
      "\n",
      "\n",
      "\n",
      "pytorch-2.2.2        | 171.8 MB  | #########8 |  99% \u001b[A\u001b[A\u001b[A\u001b[A\n",
      "\n",
      "\n",
      "\n",
      "\n",
      "pytorch-2.2.2        | 171.8 MB  | #########8 |  99% \u001b[A\u001b[A\u001b[A\u001b[A\n",
      "\n",
      "\n",
      "\n",
      "\n",
      "pytorch-2.2.2        | 171.8 MB  | #########9 |  99% \u001b[A\u001b[A\u001b[A\u001b[A\n",
      "\n",
      "\n",
      "\n",
      "\n",
      "pytorch-2.2.2        | 171.8 MB  | #########9 | 100% \u001b[A\u001b[A\u001b[A\u001b[A\n",
      "\n",
      "\n",
      "\n",
      "\n",
      "pytorch-2.2.2        | 171.8 MB  | #########9 | 100% \u001b[A\u001b[A\u001b[A\u001b[A\n",
      "\n",
      "\n",
      "\n",
      "\n",
      "pytorch-2.2.2        | 171.8 MB  | ########## | 100% \u001b[A\u001b[A\u001b[A\u001b[A\n",
      "                                                     \n",
      "\n",
      "\n",
      "                                                     \u001b[A\n",
      "\n",
      "\n",
      "                                                     \u001b[A\u001b[A\n",
      "\n",
      "\n",
      "\n",
      "                                                     \u001b[A\u001b[A\u001b[A\n",
      "\n",
      "\n",
      "\n",
      "\n",
      "                                                     \u001b[A\u001b[A\u001b[A\u001b[A\n",
      "\n",
      "Preparing transaction: ...working... done\n",
      "Verifying transaction: ...working... done\n",
      "Executing transaction: ...working... done\n"
     ]
    }
   ],
   "source": [
    "import sys\n",
    "!conda install --prefix {sys.prefix} -y -c pytorch pytorch"
   ]
  },
  {
   "cell_type": "markdown",
   "id": "51857ed5",
   "metadata": {},
   "source": [
    "(Note: You can also use Transformers with Tensorflow, but in practice I've found that PyTorch support in Transformers is better.)\n",
    "\n",
    "Now you can install Transformers by running the following cell:"
   ]
  },
  {
   "cell_type": "code",
   "execution_count": null,
   "id": "b5b3ecda",
   "metadata": {},
   "outputs": [],
   "source": [
    "import sys\n",
    "!{sys.executable} -m pip install transformers"
   ]
  },
  {
   "cell_type": "markdown",
   "id": "d779a381",
   "metadata": {},
   "source": [
    "## Quick start: load a model and generate text"
   ]
  },
  {
   "cell_type": "markdown",
   "id": "ea69e8fd",
   "metadata": {},
   "source": [
    "I'm going to show you how to load a pre-trained model from the [Hugging Face Models directory](https://huggingface.co/models). First, you need to import the relevant parts of the Transformers library. I'm using the `Auto` classes, which automatically load the correct code based on the model that you choose. The `AutoModelForCausalLM` (that's \"causal\" not \"casual\") is the class you use for text generation tasks (where you want to generate the next word in a sequence)."
   ]
  },
  {
   "cell_type": "code",
   "execution_count": 3,
   "id": "c327cc58",
   "metadata": {},
   "outputs": [
    {
     "name": "stderr",
     "output_type": "stream",
     "text": [
      "C:\\Users\\Weber\\anaconda3\\Lib\\site-packages\\transformers\\utils\\generic.py:260: UserWarning: torch.utils._pytree._register_pytree_node is deprecated. Please use torch.utils._pytree.register_pytree_node instead.\n",
      "  torch.utils._pytree._register_pytree_node(\n"
     ]
    }
   ],
   "source": [
    "from transformers import pipeline, AutoModelForCausalLM, AutoTokenizer"
   ]
  },
  {
   "cell_type": "markdown",
   "id": "be708150",
   "metadata": {},
   "source": [
    "In this notebook, I'm going to use [distilgpt2](https://huggingface.co/distilgpt2), a \"distilled\" version of OpenAI's GPT-2 model. The primary benefit of this model is that it is small and fast—it generates text in a speedy fashion even on my old 2013 MacBook Air. You need to load both the model and its associated tokenizer. (We'll talk about the tokenizer in more detail below.) To load, use the `.from_pretrained()` method of the appropriate `Auto` class, like so:"
   ]
  },
  {
   "cell_type": "code",
   "execution_count": 4,
   "id": "8cd686cf",
   "metadata": {},
   "outputs": [],
   "source": [
    "tokenizer = AutoTokenizer.from_pretrained('distilgpt2')\n",
    "model = AutoModelForCausalLM.from_pretrained('distilgpt2')"
   ]
  },
  {
   "cell_type": "markdown",
   "id": "91bd8087",
   "metadata": {},
   "source": [
    "This might take a little while! The Transformers library downloads the model when you call the `.from_pretrained()` method, and some of the models are very large. (DistilGPT2, at 300MB, is on the small side.) The library will cache these files for later, so you won't need to download them again on the same machine.\n",
    "\n",
    "Once you have the tokenizer and the model, you can create a Transformers *pipeline*. A pipeline groups together and abstracts away the intermediate steps of a machine learning procedure. The Transformers library has [many types of pipeline](https://huggingface.co/transformers/main_classes/pipelines.html), but we're going to create a text generation pipeline, using the model and tokenizer that we just loaded. Here's what it looks like:"
   ]
  },
  {
   "cell_type": "code",
   "execution_count": 5,
   "id": "68e0808e",
   "metadata": {},
   "outputs": [],
   "source": [
    "generator = pipeline('text-generation', model=model, tokenizer=tokenizer)"
   ]
  },
  {
   "cell_type": "markdown",
   "id": "d838707a",
   "metadata": {},
   "source": [
    "Having created this pipeline, we can use it to generate text by calling the pipeline object as though it were a function. The parameter that you pass in is the \"prompt\"—i.e., the text whose completion you want to predict."
   ]
  },
  {
   "cell_type": "code",
   "execution_count": 6,
   "id": "ead3d4a1",
   "metadata": {},
   "outputs": [
    {
     "name": "stderr",
     "output_type": "stream",
     "text": [
      "Setting `pad_token_id` to `eos_token_id`:50256 for open-end generation.\n"
     ]
    },
    {
     "data": {
      "text/plain": [
       "[{'generated_text': \"Two roads diverged in a yellow wood, and three other cyclists attempted to enter the house.\\n\\n\\n\\nA woman with visible injuries was injured in a car crash near King's Park on Saturday.\\n\\nThe woman, who is described by\"}]"
      ]
     },
     "execution_count": 6,
     "metadata": {},
     "output_type": "execute_result"
    }
   ],
   "source": [
    "generator(\"Two roads diverged in a yellow wood, and\")"
   ]
  },
  {
   "cell_type": "markdown",
   "id": "2852f414",
   "metadata": {},
   "source": [
    "This call returns a list of dictionaries, where each dictionary has a key `generated_text` whose value is the text that was generated. If you just want the generated string, you can do this:"
   ]
  },
  {
   "cell_type": "code",
   "execution_count": 7,
   "id": "16f15e4a",
   "metadata": {},
   "outputs": [
    {
     "name": "stderr",
     "output_type": "stream",
     "text": [
      "Setting `pad_token_id` to `eos_token_id`:50256 for open-end generation.\n"
     ]
    },
    {
     "data": {
      "text/plain": [
       "'Two roads diverged in a yellow wood, and as if they were looking for a better place with dirt roads. It was the most recent collision on which a single vehicle got off the road—a very dangerous one for many at the time.\\n'"
      ]
     },
     "execution_count": 7,
     "metadata": {},
     "output_type": "execute_result"
    }
   ],
   "source": [
    "generator(\"Two roads diverged in a yellow wood, and\")[0]['generated_text']"
   ]
  },
  {
   "cell_type": "markdown",
   "id": "2cd63531",
   "metadata": {},
   "source": [
    "There are other parameters that you can pass to the text generation pipeline—basically, you can pass in any of the parameters that you could pass to a causal language model's [.generate() method](https://huggingface.co/transformers/main_classes/model.html#transformers.generation_tf_utils.TFGenerationMixin.generate). We'll go over those parameters in a second, but before we do so, I think it'll be helpful to take a step back and examine what exactly is happening in the generation process."
   ]
  },
  {
   "cell_type": "markdown",
   "id": "0dade853",
   "metadata": {},
   "source": [
    "## Tokenization\n",
    "\n",
    "Machine learning models don't work on text directly; instead, they operate on numbers that correspond to parts of a text. Breaking a text up into enumerable parts is called *tokenization*. In this class, we've already explored several easy and common forms of tokenization, e.g., breaking a text up into characters, or breaking a text up into words. Most machine learning models now use a form of *sub-word* tokenization, in which a text is broken up into units that don't neatly correspond to either individual characters or whole words. The tokenization procedure itself is derived from statistical properties of the corpus—so tokenizers are, in a sense, \"trained\" in the same way that a machine learning model is. (This is why you have to load the tokenizer, the same way you load a model.)\n",
    "\n",
    "A tokenizer has a *vocabulary*, which is the set of all possible unique tokens that the tokenizer recognizes. You can examine the vocabulary by calling the tokenizer's `.get_vocab()` method:"
   ]
  },
  {
   "cell_type": "code",
   "execution_count": 8,
   "id": "97b04c3d",
   "metadata": {},
   "outputs": [],
   "source": [
    "vocab = tokenizer.get_vocab() # store vocab details in string"
   ]
  },
  {
   "cell_type": "markdown",
   "id": "25e1b432",
   "metadata": {},
   "source": [
    "Use `len()` to see how many items are in the vocabulary:"
   ]
  },
  {
   "cell_type": "code",
   "execution_count": 9,
   "id": "91c47f0b",
   "metadata": {},
   "outputs": [
    {
     "data": {
      "text/plain": [
       "50257"
      ]
     },
     "execution_count": 9,
     "metadata": {},
     "output_type": "execute_result"
    }
   ],
   "source": [
    "len(vocab) # analyze length of string"
   ]
  },
  {
   "cell_type": "markdown",
   "id": "379643e5",
   "metadata": {},
   "source": [
    "The vocabulary is returned as a dictionary that maps tokens to their IDs. Let's just take a peek into what that looks like. I'm going to randomly sample a few items from the dictionary, like so:"
   ]
  },
  {
   "cell_type": "code",
   "execution_count": 11,
   "id": "05ca6ef7",
   "metadata": {},
   "outputs": [
    {
     "data": {
      "text/plain": [
       "[('nces', 3179),\n",
       " ('ĠMAX', 25882),\n",
       " ('joined', 46416),\n",
       " ('Cash', 35361),\n",
       " ('Only', 10049),\n",
       " ('ĠPork', 44062),\n",
       " ('Brad', 30805),\n",
       " ('Ġtub', 12202),\n",
       " ('ĠLF', 47629),\n",
       " ('ĠVentures', 41673)]"
      ]
     },
     "execution_count": 11,
     "metadata": {},
     "output_type": "execute_result"
    }
   ],
   "source": [
    "import random\n",
    "random.sample(list(vocab.items()), 10) # list out random items and their tokens"
   ]
  },
  {
   "cell_type": "markdown",
   "id": "08fd6338",
   "metadata": {},
   "source": [
    "The results look pretty weird, and there a bunch of things to explain. First off, let's discuss the mysterious `Ġ` character. Subword tokenizers generally don't start off with information about where word boundaries occur; instead, they \"learn\" word boundaries as part of the process of \"training\" the tokenizer. The `Ġ` character is a special character that represents a space. Second, we can see that in many cases, the subword tokenizer does actually end up with tokens in its vocabulary that represent entire words. However, in other cases, we end up with what look like word *parts*. This is by design! Because some tokens represent word parts, the tokenizer can potentially encode *any* word—even words that were not present in the original corpus—by tokenizing that word as a sequence of parts.\n",
    "\n",
    "To demonstrate, let's actually encode a string with the tokenizer using its `.encode()` method. Just pass in a string, and you'll get back a list of IDs:"
   ]
  },
  {
   "cell_type": "code",
   "execution_count": 15,
   "id": "c5812cc0",
   "metadata": {},
   "outputs": [
    {
     "data": {
      "text/plain": [
       "[3856,\n",
       " 2946,\n",
       " 0,\n",
       " 1052,\n",
       " 435,\n",
       " 397,\n",
       " 1603,\n",
       " 281,\n",
       " 368,\n",
       " 505,\n",
       " 13,\n",
       " 1168,\n",
       " 3019,\n",
       " 89,\n",
       " 499,\n",
       " 0]"
      ]
     },
     "execution_count": 15,
     "metadata": {},
     "output_type": "execute_result"
    }
   ],
   "source": [
    "src = \"Behold! An alabaster anemone. Zzzzap!\"\n",
    "tokenizer.encode(src) # encodes src string into tokens in the token array"
   ]
  },
  {
   "cell_type": "markdown",
   "id": "321708f1",
   "metadata": {},
   "source": [
    "The tokenizer encodes this string of four words into sixteen tokens. You can find the token corresponding to the ID using the tokenizer's `.decode()` method:"
   ]
  },
  {
   "cell_type": "code",
   "execution_count": 16,
   "id": "cd960280",
   "metadata": {},
   "outputs": [
    {
     "data": {
      "text/plain": [
       "'aster'"
      ]
     },
     "execution_count": 16,
     "metadata": {},
     "output_type": "execute_result"
    }
   ],
   "source": [
    "tokenizer.decode(1603) # "
   ]
  },
  {
   "cell_type": "markdown",
   "id": "89a1eee3",
   "metadata": {},
   "source": [
    "With this, we can see how the tokenizer broke up the original string into units:"
   ]
  },
  {
   "cell_type": "code",
   "execution_count": 18,
   "id": "98903ac0",
   "metadata": {},
   "outputs": [
    {
     "name": "stdout",
     "output_type": "stream",
     "text": [
      "3856 → 'Be'\n",
      "2946 → 'hold'\n",
      "0 → '!'\n",
      "1052 → ' An'\n",
      "435 → ' al'\n",
      "397 → 'ab'\n",
      "1603 → 'aster'\n",
      "281 → ' an'\n",
      "368 → 'em'\n",
      "505 → 'one'\n",
      "13 → '.'\n",
      "1168 → ' Z'\n",
      "3019 → 'zz'\n",
      "89 → 'z'\n",
      "499 → 'ap'\n",
      "0 → '!'\n"
     ]
    }
   ],
   "source": [
    "for token_id in tokenizer.encode(src):\n",
    "    print(token_id, \"→\", \"'\" + tokenizer.decode(token_id) + \"'\")"
   ]
  },
  {
   "cell_type": "markdown",
   "id": "8db8217a",
   "metadata": {},
   "source": [
    "(I included quotation marks in this output to emphasize the fact that the text of the token includes whitespace.)\n",
    "\n",
    "You can decode an entire list of IDs using the `.decode()` function as well:"
   ]
  },
  {
   "cell_type": "code",
   "execution_count": 19,
   "id": "6f994593",
   "metadata": {},
   "outputs": [
    {
     "data": {
      "text/plain": [
       "'Behold! An alabaster anemone. Zzzzap!'"
      ]
     },
     "execution_count": 19,
     "metadata": {},
     "output_type": "execute_result"
    }
   ],
   "source": [
    "token_ids = tokenizer.encode(src)\n",
    "tokenizer.decode(token_ids)"
   ]
  },
  {
   "cell_type": "markdown",
   "id": "618ffe34",
   "metadata": {},
   "source": [
    "For fun, get the tokenizer to decode a list of random token IDs:"
   ]
  },
  {
   "cell_type": "code",
   "execution_count": 20,
   "id": "35384952",
   "metadata": {},
   "outputs": [
    {
     "data": {
      "text/plain": [
       "' pertaining Mercedes Braun miscon losses Charlotte beam Brother fifty discuss SecondsSimilarly'"
      ]
     },
     "execution_count": 20,
     "metadata": {},
     "output_type": "execute_result"
    }
   ],
   "source": [
    "tokenizer.decode(random.sample(list(vocab.values()), 12))"
   ]
  },
  {
   "cell_type": "markdown",
   "id": "338d7e58",
   "metadata": {},
   "source": [
    "Another way to tokenize a text is to call the tokenizer as though it's a function, passing in a list of strings as an argument:"
   ]
  },
  {
   "cell_type": "code",
   "execution_count": 21,
   "id": "adaec157",
   "metadata": {},
   "outputs": [
    {
     "data": {
      "text/plain": [
       "{'input_ids': tensor([[5661,  318,  257, 1332],\n",
       "        [5661,  318, 1194, 1332]]), 'attention_mask': tensor([[1, 1, 1, 1],\n",
       "        [1, 1, 1, 1]])}"
      ]
     },
     "execution_count": 21,
     "metadata": {},
     "output_type": "execute_result"
    }
   ],
   "source": [
    "tokenizer([\"this is a test\", \"this is another test\"], return_tensors=\"pt\")"
   ]
  },
  {
   "cell_type": "markdown",
   "id": "c973a65f",
   "metadata": {},
   "source": [
    "The value returned here is a dictionary in the format that the model is expecting, if you want to run the model \"by hand\" instead of using a pipeline, which is what we're going to do below. The `return_tensors` parameter directs the tokenizer to return the results as a PyTorch tensor instead of a Python list, which is also a requirement for passing the values directly to the model."
   ]
  },
  {
   "cell_type": "markdown",
   "id": "1c78ce45",
   "metadata": {},
   "source": [
    "## Generation in more detail (advanced, but interesting)\n",
    "\n",
    "So what's actually happening when you ask the model to generate text is this: you encode the prompt as a sequence of IDs using the tokenizer, and then the model assigns a probability to every token in the tokenizer's vocabulary, based on which tokens it thinks are most likely to come next. Here's what it looks like to run that process \"by hand,\" so to speak. First, create the prompt:"
   ]
  },
  {
   "cell_type": "code",
   "execution_count": 49,
   "id": "f3c65459",
   "metadata": {},
   "outputs": [],
   "source": [
    "prompt = \"The future of media is\""
   ]
  },
  {
   "cell_type": "markdown",
   "id": "1eed01b9",
   "metadata": {},
   "source": [
    "Then encode the prompt as a sequence of token IDs:"
   ]
  },
  {
   "cell_type": "code",
   "execution_count": 50,
   "id": "3de8d01d",
   "metadata": {},
   "outputs": [],
   "source": [
    "prompt_encoded = tokenizer([prompt], return_tensors=\"pt\")"
   ]
  },
  {
   "cell_type": "code",
   "execution_count": 51,
   "id": "35b6f910",
   "metadata": {
    "scrolled": true
   },
   "outputs": [
    {
     "data": {
      "text/plain": [
       "{'input_ids': tensor([[ 464, 2003,  286, 2056,  318]]), 'attention_mask': tensor([[1, 1, 1, 1, 1]])}"
      ]
     },
     "execution_count": 51,
     "metadata": {},
     "output_type": "execute_result"
    }
   ],
   "source": [
    "prompt_encoded"
   ]
  },
  {
   "cell_type": "markdown",
   "id": "17d893e3",
   "metadata": {},
   "source": [
    "Then we call the model as though it were a function, passing in the key/value pairs that the tokenizer returned as parameters (using [Python's `**` operator](https://docs.python.org/3/tutorial/controlflow.html#unpacking-argument-lists)):"
   ]
  },
  {
   "cell_type": "code",
   "execution_count": 52,
   "id": "7f145c1f",
   "metadata": {},
   "outputs": [],
   "source": [
    "result = model(**prompt_encoded)"
   ]
  },
  {
   "cell_type": "markdown",
   "id": "d2e13385",
   "metadata": {},
   "source": [
    "The value returned from calling the model is an object with various attributes that we could examine. I'm most interested in `.logits`, which is a PyTorch tensor that contains information about the probability that the model assigned to each vocabulary item. (\"Tensor\" btw is just a fancy word for \"array with a bunch of dimensions.\") The prediction for the next token can be found in the very last row of this tensor:"
   ]
  },
  {
   "cell_type": "code",
   "execution_count": 53,
   "id": "67979471",
   "metadata": {},
   "outputs": [
    {
     "data": {
      "text/plain": [
       "tensor([-70.0058, -69.5308, -74.0108,  ..., -77.7393, -74.3634, -71.9881],\n",
       "       grad_fn=<SelectBackward0>)"
      ]
     },
     "execution_count": 53,
     "metadata": {},
     "output_type": "execute_result"
    }
   ],
   "source": [
    "next_token_probs = result.logits[0,-1]\n",
    "next_token_probs\n",
    "# higher the number, more likely it'll happen"
   ]
  },
  {
   "cell_type": "markdown",
   "id": "56d2cfd7",
   "metadata": {},
   "source": [
    "The scores are shown in \"raw\" form, meaning that they don't have the kinds of values that we would normally associate with a probability distribution (i.e., multiple options all adding up to one). But we can still compare them in this state. Higher numbers mean higher probability.\n",
    "\n",
    "This tensor has a shape that corresponds to the number of vocabulary items:"
   ]
  },
  {
   "cell_type": "code",
   "execution_count": 54,
   "id": "4dee4a6c",
   "metadata": {},
   "outputs": [],
   "source": [
    "import math"
   ]
  },
  {
   "cell_type": "code",
   "execution_count": 55,
   "id": "ff677830",
   "metadata": {},
   "outputs": [
    {
     "data": {
      "text/plain": [
       "0.016195853925893487"
      ]
     },
     "execution_count": 55,
     "metadata": {},
     "output_type": "execute_result"
    }
   ],
   "source": [
    "math.exp(-4.123)"
   ]
  },
  {
   "cell_type": "code",
   "execution_count": 56,
   "id": "7c7770a9",
   "metadata": {},
   "outputs": [
    {
     "data": {
      "text/plain": [
       "torch.Size([50257])"
      ]
     },
     "execution_count": 56,
     "metadata": {},
     "output_type": "execute_result"
    }
   ],
   "source": [
    "next_token_probs.shape"
   ]
  },
  {
   "cell_type": "markdown",
   "id": "20efcde3",
   "metadata": {},
   "source": [
    "And we can actually inquire about the probability of particular tokens by looking them up. The code in the following cells uses the tokenizer's `.encode()` method to convert a token to its ID, then looks up the ID by index in the array with the predictions. (The `.item()` call converts the resulting PyTorch tensor to a native Python value, which just makes the result a bit easier to look at.)"
   ]
  },
  {
   "cell_type": "code",
   "execution_count": 57,
   "id": "a54d3d07",
   "metadata": {},
   "outputs": [
    {
     "data": {
      "text/plain": [
       "-62.25702667236328"
      ]
     },
     "execution_count": 57,
     "metadata": {},
     "output_type": "execute_result"
    }
   ],
   "source": [
    "next_token_probs[tokenizer.encode(' the')].item() # probability it'll happen"
   ]
  },
  {
   "cell_type": "code",
   "execution_count": 58,
   "id": "258b656e",
   "metadata": {},
   "outputs": [
    {
     "data": {
      "text/plain": [
       "-70.95246887207031"
      ]
     },
     "execution_count": 58,
     "metadata": {},
     "output_type": "execute_result"
    }
   ],
   "source": [
    "next_token_probs[tokenizer.encode(' x')].item() # probability it'll happen"
   ]
  },
  {
   "cell_type": "code",
   "execution_count": 59,
   "id": "35266957",
   "metadata": {},
   "outputs": [
    {
     "data": {
      "text/plain": [
       "-63.15153503417969"
      ]
     },
     "execution_count": 59,
     "metadata": {},
     "output_type": "execute_result"
    }
   ],
   "source": [
    "next_token_probs[tokenizer.encode(' an')].item() # could just take token with highest probaility and append to next line of code"
   ]
  },
  {
   "cell_type": "markdown",
   "id": "ce625991",
   "metadata": {},
   "source": [
    "We can see that the tokens ` the` and ` an` have fairly high probability, while the token ` x` has low probability.  Interesting!\n",
    "\n",
    "### Generating text, the home-grown way\n",
    "\n",
    "Using the PyTorch library, we can get a list of the most likely tokens to come next. (This has some dark magic in it if you're not familiar with PyTorch—or another array processing library like NumPy—so... just trust me for a sec.)"
   ]
  },
  {
   "cell_type": "code",
   "execution_count": 60,
   "id": "c0cff0a4",
   "metadata": {},
   "outputs": [
    {
     "name": "stdout",
     "output_type": "stream",
     "text": [
      "' a'\n",
      "' not'\n",
      "' the'\n",
      "' in'\n",
      "' still'\n",
      "' to'\n",
      "' very'\n",
      "' uncertain'\n",
      "' going'\n",
      "' an'\n",
      "' always'\n",
      "' now'\n"
     ]
    }
   ],
   "source": [
    "import torch\n",
    "for idx in reversed(torch.argsort(next_token_probs)[-12:]):\n",
    "    print(\"'\" + tokenizer.decode(idx) + \"'\")\n",
    "    \n",
    "    # top 12 tokens after the main one"
   ]
  },
  {
   "cell_type": "markdown",
   "id": "97c8cc46",
   "metadata": {},
   "source": [
    "(Again, I've added in the quotation marks so you can clearly see that these tokens have whitespace at the beginning.) These are the top twelve tokens to come next in the sequence, as predicted by the model. One way to *generate* a text would be to take one of these tokens—maybe the top-scoring token, maybe one of the top *n* picked at random, append it to our original list of tokens, ask the model to make a prediction on *that* list of tokens, and repeat. The loop would look something like this:"
   ]
  },
  {
   "cell_type": "code",
   "execution_count": 61,
   "id": "165247bd",
   "metadata": {},
   "outputs": [
    {
     "name": "stdout",
     "output_type": "stream",
     "text": [
      "Two roads diverged in a yellow wood, and then\n",
      "Two roads diverged in a yellow wood, and then turned\n",
      "Two roads diverged in a yellow wood, and then turned back\n",
      "Two roads diverged in a yellow wood, and then turned back into\n",
      "Two roads diverged in a yellow wood, and then turned back into some\n",
      "Two roads diverged in a yellow wood, and then turned back into some of\n",
      "Two roads diverged in a yellow wood, and then turned back into some of them\n",
      "Two roads diverged in a yellow wood, and then turned back into some of them as\n",
      "Two roads diverged in a yellow wood, and then turned back into some of them as a\n",
      "Two roads diverged in a yellow wood, and then turned back into some of them as a whole\n"
     ]
    }
   ],
   "source": [
    "prompt = \"Two roads diverged in a yellow wood, and\"\n",
    "for i in range(10):\n",
    "    # encode the prompt\n",
    "    prompt_encoded = tokenizer([prompt], return_tensors=\"pt\")\n",
    "    # run a forward pass on the network\n",
    "    result = model(**prompt_encoded)\n",
    "    # get the probabilities for the next word\n",
    "    next_token_probs = result.logits[0,-1]\n",
    "    # sort by value, get the top 12 (you can change this number! try 1, or 1000)\n",
    "    nexts = torch.argsort(next_token_probs)[-12:]\n",
    "    # append the decoded ID to the current prompt\n",
    "    prompt += tokenizer.decode(random.choice(nexts))\n",
    "    print(prompt)"
   ]
  },
  {
   "cell_type": "markdown",
   "id": "73fb8fb9",
   "metadata": {},
   "source": [
    "### The `.generate()` method\n",
    "\n",
    "Our home-grown solution above does the job, but it's very rudimentary. Because generating text is such a common use-case, the Transformers library provides a `.generate()` method that is quite fast and also has a bunch of bells and whistles that we can exploit to add expressiveness to our use of the language model. Under the hood, though, the `.generate()` method is essentially doing exactly what we did above—iteratively constructing a string based on predicted tokens from the model. Use the `.generate()` method like this:"
   ]
  },
  {
   "cell_type": "code",
   "execution_count": 62,
   "id": "40aea2d3",
   "metadata": {},
   "outputs": [
    {
     "name": "stderr",
     "output_type": "stream",
     "text": [
      "Setting `pad_token_id` to `eos_token_id`:50256 for open-end generation.\n"
     ]
    },
    {
     "data": {
      "text/plain": [
       "'Two roads diverged in a yellow wood, and they didn\\'t make much progress, and the driver of the truck was hospitalized after he hit the back of the head on the back of \"A\" in the left side of the road.\\n\\n'"
      ]
     },
     "execution_count": 62,
     "metadata": {},
     "output_type": "execute_result"
    }
   ],
   "source": [
    "prompt = \"Two roads diverged in a yellow wood, and\"\n",
    "prompt_encoded = tokenizer(prompt, return_tensors=\"pt\") # the \"return_tensors\" thing is important!\n",
    "result = model.generate(**prompt_encoded)[0]\n",
    "tokenizer.decode(result, skip_special_tokens=True)"
   ]
  },
  {
   "cell_type": "markdown",
   "id": "e92aef49",
   "metadata": {},
   "source": [
    "For a more detailed overview of all of the ways you can use `.generate()`, see [How to generate](https://huggingface.co/blog/how-to-generate) on the Hugging Face blog. One argument of `.generate()` that is useful right off the bat is `max_length`, which continues the generation process for the number of tokens you specify:"
   ]
  },
  {
   "cell_type": "code",
   "execution_count": 63,
   "id": "144cc102",
   "metadata": {},
   "outputs": [
    {
     "name": "stderr",
     "output_type": "stream",
     "text": [
      "Setting `pad_token_id` to `eos_token_id`:50256 for open-end generation.\n"
     ]
    },
    {
     "data": {
      "text/plain": [
       "'Two roads diverged in a yellow wood, and a dark and mysterious shadow of the other was revealed in a series of red smoke. A massive crater was detected. One can only imagine that this is a very rare phenomenon to look past, and it was thought that it was the result of a deep tunnel through the forests of Bering, the northern state of Bavaria. This mysterious tunnel is the first and most famous tunnel found to have been identified in the region.\\n\\nA huge red forest with large black holes could be seen beneath the trees of the red forest. This image shows the shape of the earth below where the earth lies.\\nThe red red smoke was a result of a combination of a deep tunnel being created under the forest area where the earth is located. This image shows a massive crater with large black holes forming deep above the forest. It is believed that a black hole may be located out of the forest. This image shows the shape of the earth above where the earth lies.\\nThe black hole would be visible on a horizontal line. The red hot spot is the result of intense blue flames. The green hole is a place from which many people visit. The red smoke could even be seen. The black hole would be'"
      ]
     },
     "execution_count": 63,
     "metadata": {},
     "output_type": "execute_result"
    }
   ],
   "source": [
    "prompt = \"Two roads diverged in a yellow wood, and\"\n",
    "prompt_encoded = tokenizer(prompt, return_tensors=\"pt\")\n",
    "result = model.generate(**prompt_encoded, max_length=250)[0]\n",
    "tokenizer.decode(result, skip_special_tokens=True)"
   ]
  },
  {
   "cell_type": "markdown",
   "id": "ea940807",
   "metadata": {},
   "source": [
    "### Back to the pipeline\n",
    "\n",
    "The process of encoding the prompt and decoding the results is pretty tedious. That's why the \"pipeline\" was invented. The `text-generation` pipeline takes care of encoding and decoding for you. Create a pipeline by calling `pipeline` with `text-generation` as the first parameter, and then the model and tokenizer that you want to use:"
   ]
  },
  {
   "cell_type": "code",
   "execution_count": 64,
   "id": "5b73ec86",
   "metadata": {},
   "outputs": [],
   "source": [
    "generator = pipeline('text-generation', model=model, tokenizer=tokenizer)"
   ]
  },
  {
   "cell_type": "markdown",
   "id": "bbb3539f",
   "metadata": {},
   "source": [
    "And then you can generate text with the pipeline. The first argument is the prompt; any remaining parameters will be forwarded to the model's `.generate()` method."
   ]
  },
  {
   "cell_type": "code",
   "execution_count": 65,
   "id": "f7c8e6a2",
   "metadata": {
    "scrolled": true
   },
   "outputs": [
    {
     "name": "stderr",
     "output_type": "stream",
     "text": [
      "Setting `pad_token_id` to `eos_token_id`:50256 for open-end generation.\n"
     ]
    },
    {
     "data": {
      "text/plain": [
       "[{'generated_text': 'Two roads diverged in a yellow Ford GT and the Audi A3 GT, where a pair of people were reported missing in the busy Chico, South Carolina town of Carrizo County.\\n\\n\\n\\n\\n\\n\\n\\n\\n\\n\\n\\n\\n\\n\\n\\n\\n\\n\\n\\n\\n\\n\\n\\n\\n\\n\\n\\n\\n\\n\\n\\n\\n\\n\\n\\n\\n\\n\\n\\n\\n\\n\\n\\n\\n\\n\\n\\n\\n\\n\\n\\n\\n\\n\\n\\n\\n\\n\\n\\n\\n'}]"
      ]
     },
     "execution_count": 65,
     "metadata": {},
     "output_type": "execute_result"
    }
   ],
   "source": [
    "generator(\"Two roads diverged in a yellow\",\n",
    "          max_length=100)"
   ]
  },
  {
   "cell_type": "markdown",
   "id": "e5f4cc74",
   "metadata": {},
   "source": [
    "As a reminder, to get the actual generated text, use indexing to get the value of the dictionary in the list returned from the pipeline:"
   ]
  },
  {
   "cell_type": "code",
   "execution_count": 66,
   "id": "93ef297e",
   "metadata": {
    "scrolled": true
   },
   "outputs": [
    {
     "name": "stderr",
     "output_type": "stream",
     "text": [
      "Setting `pad_token_id` to `eos_token_id`:50256 for open-end generation.\n"
     ]
    },
    {
     "data": {
      "text/plain": [
       "'Two roads diverged in a yellow haze of clouds over the north of the country, causing the death of 14 people and one woman on the road. \"Nobody was hurt,\" a man said. \"At least six people were killed. On Wednesday morning, no one was injured, so a couple were injured in the blast,\" the mayor said. \"It seemed that some people were killed. We had to find the way home. We were very much in shock. It was very hard to do as'"
      ]
     },
     "execution_count": 66,
     "metadata": {},
     "output_type": "execute_result"
    }
   ],
   "source": [
    "generator(\"Two roads diverged in a yellow\",\n",
    "          max_length=100)[0]['generated_text']"
   ]
  },
  {
   "cell_type": "code",
   "execution_count": 68,
   "id": "1cd00630",
   "metadata": {
    "scrolled": true
   },
   "outputs": [
    {
     "name": "stderr",
     "output_type": "stream",
     "text": [
      "Setting `pad_token_id` to `eos_token_id`:50256 for open-end generation.\n"
     ]
    }
   ],
   "source": [
    "my_poem=generator(\"Two roads diverged in a yellow\",\n",
    "          max_length=100)[0]['generated_text']"
   ]
  },
  {
   "cell_type": "code",
   "execution_count": 69,
   "id": "d5780660",
   "metadata": {},
   "outputs": [
    {
     "data": {
      "text/plain": [
       "'Two roads divEEEEEErgEEEEEEd in a yEEEEEEllow BMW S-SEEEEEEriEEEEEEs.\\n\\n\\n\\n\\n\\n\\n\\n\\n\\n\\n\\n\\n\\n\\n\\n\\n\\n\\n\\n\\n\\n\\n\\n\\n\\n\\n\\n\\n\\n\\n\\n\\n\\n\\n\\n\\n\\n\\n\\n\\n\\n\\n\\n\\n\\n\\n\\n\\n\\n\\n\\n\\n\\n\\nMt-T-D-N-R-T-T-E-N-R\\n\\n\\n\\n\\n\\n\\n\\n\\n\\n\\n\\n\\n'"
      ]
     },
     "execution_count": 69,
     "metadata": {},
     "output_type": "execute_result"
    }
   ],
   "source": [
    "my_poem.replace(\"e\", \"EEEEEE\")"
   ]
  },
  {
   "cell_type": "markdown",
   "id": "6e84bb46",
   "metadata": {},
   "source": [
    "## Controlling the model\n",
    "\n",
    "By default, the `distilgpt2` model samples from the possible next tokens, weighted by the probability assigned to that token. This strategy leads to text that shows a good deal of variety, but there are strategies that we can use and parameters that we can tweak to exert a little more control over the model's output. In this section, I show a few of these strategies.\n",
    "\n",
    "### The magic of the prompt\n",
    "\n",
    "Transformer models are often able to follow up on cues you give about the desired content and style of the text in the prompt itself. The smaller transformer models aren't especially good at this, but it's still worth playing around with. For example, to get `distilgpt2` to generate something that looks like a movie review:"
   ]
  },
  {
   "cell_type": "code",
   "execution_count": 36,
   "id": "9f51c882",
   "metadata": {},
   "outputs": [
    {
     "name": "stderr",
     "output_type": "stream",
     "text": [
      "Setting `pad_token_id` to `eos_token_id`:50256 for open-end generation.\n"
     ]
    },
    {
     "name": "stdout",
     "output_type": "stream",
     "text": [
      "My review of The Road Not Taken, the Movie: The Next Generation’s most celebrated film. The film, which is a remake of a 1982, 1991, 1993, 2002, 2006 and 2010 film starring James Mazzarri and John Tapper, debuted as the worst box office gross for any movie in 2008. The only other film to get a second Oscar since it became the most controversial movie of all time was a 2009 sequel as well. A box office gross of $24.\n"
     ]
    }
   ],
   "source": [
    "print(generator(\"My review of The Road Not Taken, the Movie:\", max_length=100)[0]['generated_text'])"
   ]
  },
  {
   "cell_type": "markdown",
   "id": "d643be14",
   "metadata": {},
   "source": [
    "You can also generate dialogues and interview transcripts:"
   ]
  },
  {
   "cell_type": "code",
   "execution_count": 37,
   "id": "0295ee5c",
   "metadata": {},
   "outputs": [
    {
     "name": "stderr",
     "output_type": "stream",
     "text": [
      "Setting `pad_token_id` to `eos_token_id`:50256 for open-end generation.\n"
     ]
    },
    {
     "name": "stdout",
     "output_type": "stream",
     "text": [
      "Allison: I took the road less traveled by.\n",
      "Robert Frost: I went through three hours. I only ate my own steak two days before they finished.\n",
      "Mason: I ate up the rest of the day.\n",
      "Mason: Oh my god, this was my first chance at food justice!\n",
      "The third week, you saw me, I took the road less traveled by. The first week, you saw me, I took the road less traveled by. The second week,\n"
     ]
    }
   ],
   "source": [
    "print(generator(\"Allison: I took the road less traveled by.\\nRobert Frost:\",\n",
    "                max_length=100)[0]['generated_text'])"
   ]
  },
  {
   "cell_type": "markdown",
   "id": "06de3603",
   "metadata": {},
   "source": [
    "Poetry facts:"
   ]
  },
  {
   "cell_type": "code",
   "execution_count": 40,
   "id": "cfc9a4c0",
   "metadata": {},
   "outputs": [
    {
     "name": "stderr",
     "output_type": "stream",
     "text": [
      "Setting `pad_token_id` to `eos_token_id`:50256 for open-end generation.\n"
     ]
    },
    {
     "name": "stdout",
     "output_type": "stream",
     "text": [
      "My favorite facts about poetry:\n",
      "\n",
      "1. The earliest examples of poetry were of an American poet\n",
      "2. The writers of Shakespeare and his works\n",
      "3. The best examples are the first, and in a very short time, the only one that would explain the history of poetry to which it was written. There are only two types of poetry: poetry.\n",
      "Some of the first is the modern one . It is the most popular of the three. There is the \"Pornographic Po\n"
     ]
    }
   ],
   "source": [
    "print(generator(\"My favorite facts about poetry:\\n\\n1.\",\n",
    "                max_length=100)[0]['generated_text'])"
   ]
  },
  {
   "cell_type": "markdown",
   "id": "2e80b074",
   "metadata": {},
   "source": [
    "In general, this kind of prompting works best with texts that are likely to have a lot of representation in the training corpus."
   ]
  },
  {
   "cell_type": "markdown",
   "id": "81363f7a",
   "metadata": {},
   "source": [
    "### Sampling with temperature\n",
    "\n",
    "As mentioned above, the `distilgpt2` model, by default, picks the next token at random, weighted by the probability that the model assigns to the word. To demonstrate how this works, let's imagine that the model only has five tokens in its vocabulary (instead of 50,000+). A schematic illustration of those probabilities might look like this:\n",
    "\n",
    "    prompt: Whose woods these are I think I\n",
    "    probabilities:\n",
    "        know -> 0.5\n",
    "        knew -> 0.2\n",
    "        smell -> 0.15\n",
    "        see -> 0.1\n",
    "        am -> 0.05\n"
   ]
  },
  {
   "cell_type": "markdown",
   "id": "15474aa6",
   "metadata": {},
   "source": [
    "The probabilities will add up to `1.0`. A probability of `0.5` indicates that the token has a 50% probability of coming next; a probability of 0.2 means that the token has a 20% probability of coming next, etc. Here are those probabilities represented in Python as two lists—one with the words, and one with the probabilities that correspond to those words by index:"
   ]
  },
  {
   "cell_type": "code",
   "execution_count": 41,
   "id": "67854938",
   "metadata": {},
   "outputs": [],
   "source": [
    "tokens = ['know', 'knew', 'smell', 'see', 'am']\n",
    "probs = [0.5, 0.2, 0.15, 0.1, 0.05]"
   ]
  },
  {
   "cell_type": "markdown",
   "id": "f95c6404",
   "metadata": {},
   "source": [
    "By default, to select the next token, the generation code picks from this list weighted by probability. The code to do this with PyTorch looks like this:"
   ]
  },
  {
   "cell_type": "code",
   "execution_count": 42,
   "id": "b9f85011",
   "metadata": {},
   "outputs": [
    {
     "name": "stdout",
     "output_type": "stream",
     "text": [
      "know\n"
     ]
    }
   ],
   "source": [
    "index = torch.multinomial(torch.tensor(probs), 1).item()\n",
    "print(tokens[index])"
   ]
  },
  {
   "cell_type": "markdown",
   "id": "636e2d8c",
   "metadata": {},
   "source": [
    "You don't have to worry about the specifics of this code—I'm just using it to demonstrate how the sampling process works. Run the code a few times and you'll see that about half the time you get \"knew\"—the token with the highest probability. Running the code in a loop makes this a bit easier to see:"
   ]
  },
  {
   "cell_type": "code",
   "execution_count": 43,
   "id": "af732dd1",
   "metadata": {},
   "outputs": [
    {
     "name": "stdout",
     "output_type": "stream",
     "text": [
      "see\n",
      "know\n",
      "know\n",
      "know\n",
      "know\n",
      "know\n",
      "smell\n",
      "knew\n",
      "see\n",
      "know\n"
     ]
    }
   ],
   "source": [
    "for i in range(10):\n",
    "    index = torch.multinomial(torch.tensor(probs), 1).item()\n",
    "    print(tokens[index])"
   ]
  },
  {
   "cell_type": "markdown",
   "id": "d12d2fcf",
   "metadata": {},
   "source": [
    "The generation process has a parameter called *temperature*, which lets you shift the probability distribution of the next token before it's sampled. If the temperature parameter is `1.0`, then sampling will proceed as normal, with the tokens weighted by their estimated probability. If the temperature parameter is less than `1.0`, then tokens that were already probable will get *more* probable. If the temperature parameter is greater than `1.0`, then the probabilities start to even out, approaching a uniform distribution (meaning that no token is more likely to be chosen than any other). To demonstrate this, I've written some code below that applies temperature to the probabilities defined above, and shows the resulting changes:"
   ]
  },
  {
   "cell_type": "code",
   "execution_count": 44,
   "id": "2fa5775f",
   "metadata": {},
   "outputs": [
    {
     "name": "stdout",
     "output_type": "stream",
     "text": [
      "temperature 0.10\n",
      "know   → 1.00\n",
      "knew   → 0.00\n",
      "smell  → 0.00\n",
      "see    → 0.00\n",
      "am     → 0.00\n",
      "\n",
      "temperature 0.35\n",
      "know   → 0.90\n",
      "knew   → 0.07\n",
      "smell  → 0.03\n",
      "see    → 0.01\n",
      "am     → 0.00\n",
      "\n",
      "temperature 1.00\n",
      "know   → 0.50\n",
      "knew   → 0.20\n",
      "smell  → 0.15\n",
      "see    → 0.10\n",
      "am     → 0.05\n",
      "\n",
      "temperature 2.00\n",
      "know   → 0.34\n",
      "knew   → 0.21\n",
      "smell  → 0.19\n",
      "see    → 0.15\n",
      "am     → 0.11\n",
      "\n",
      "temperature 50.00\n",
      "know   → 0.20\n",
      "knew   → 0.20\n",
      "smell  → 0.20\n",
      "see    → 0.20\n",
      "am     → 0.20\n",
      "\n"
     ]
    }
   ],
   "source": [
    "for temperature in [0.1, 0.35, 1.0, 2.0, 50.0]:\n",
    "    modified = torch.softmax(\n",
    "        torch.log(torch.tensor(probs)) / temperature, dim=-1)\n",
    "    print(f\"temperature {temperature:0.02f}\")\n",
    "    for tok, prob in zip(tokens, modified):\n",
    "        print(tok.ljust(6), \"→\", f\"{prob:0.002f}\")\n",
    "    print()"
   ]
  },
  {
   "cell_type": "markdown",
   "id": "7c095c57",
   "metadata": {},
   "source": [
    "You can see that at temperature `1.0`, the probabilities are identical to the original. At temperature `0.35`, the probability of the most likely token has been boosted, but the other tokens still have a small chance of occurring. At temperature `0.1`, only the most likely token has a chance of being selected. At temperature `2.0`, the most likely token is still the most likely, but the probabilities of the other tokens have been boosted in comparison; at temperature `50.0`, no token is considered to be more likely than any other.\n",
    "\n",
    "To apply temperature sampling to the model when generating text, pass the `temperature` parameter to the pipeline, like so:"
   ]
  },
  {
   "cell_type": "code",
   "execution_count": 45,
   "id": "13c5bccd",
   "metadata": {},
   "outputs": [
    {
     "name": "stderr",
     "output_type": "stream",
     "text": [
      "Setting `pad_token_id` to `eos_token_id`:50256 for open-end generation.\n"
     ]
    },
    {
     "data": {
      "text/plain": [
       "'Two roads diverged in a yellowish blue sky.\\n\\n\\n\\n\\n\\n\\n\\n\\n\\n\\n\\n\\n\\n\\n\\n\\n\\n\\n\\n\\n\\n\\n\\n\\n\\n\\n\\n\\n\\n\\n\\n\\n\\n\\n\\n\\n\\n\\n\\n\\n\\n\\n\\n\\n\\n\\n\\n\\n\\n\\n\\n\\n\\n\\n\\n\\n\\n\\n\\n\\n\\n\\n\\n\\n\\n\\n\\n\\n\\n\\n\\n\\n\\n\\n\\n\\n\\n\\n\\n\\n\\n\\n\\n\\n\\n\\n\\n\\n'"
      ]
     },
     "execution_count": 45,
     "metadata": {},
     "output_type": "execute_result"
    }
   ],
   "source": [
    "generator(\"Two roads diverged in a yellow\",\n",
    "          temperature=0.1,\n",
    "          max_length=100)[0]['generated_text']"
   ]
  },
  {
   "cell_type": "markdown",
   "id": "2b94bd84",
   "metadata": {},
   "source": [
    "Low temperatures generally produce predictable, repetitive results. Here's an attempt with high temperature:"
   ]
  },
  {
   "cell_type": "code",
   "execution_count": 46,
   "id": "93298377",
   "metadata": {},
   "outputs": [
    {
     "name": "stderr",
     "output_type": "stream",
     "text": [
      "Setting `pad_token_id` to `eos_token_id`:50256 for open-end generation.\n"
     ]
    },
    {
     "data": {
      "text/plain": [
       "'Two roads diverged in a yellow Tumbalo Lake and the surrounding region, though that might soon cease there.\" This would explain both changes – perhaps some other reason there is concern,\" Foulberg tells BuzzFeed on Twitter by telepath and to several in town\\'s suburbs.\"There doesn\\'t say very much. This new trailway system allows everyone – no surprise to those of you at HomeStory\" to get inside (though she would explain how they chose to be left unpallmed instead on a'"
      ]
     },
     "execution_count": 46,
     "metadata": {},
     "output_type": "execute_result"
    }
   ],
   "source": [
    "generator(\"Two roads diverged in a yellow\",\n",
    "          temperature=4.0,\n",
    "          max_length=100)[0]['generated_text']"
   ]
  },
  {
   "cell_type": "markdown",
   "id": "61a379f7",
   "metadata": {},
   "source": [
    "The higher temperature example produces less likely sequences of words, so the text is a bit livelier—sometimes at the cost of coherence.\n",
    "\n",
    "Adjusting the temperature can be useful when you want the text to be more or less \"weird.\" It can be helpful to adjust the temperature downward when you feel as though the model is producing text that is a bit too unpredictable; it can be helpful to adjust upward when you want to model to take more unexpected turns when generating."
   ]
  },
  {
   "cell_type": "markdown",
   "id": "22b2500c",
   "metadata": {},
   "source": [
    "### Top-k sampling\n",
    "\n",
    "By default, the generation process only selects from the top 50 most probable tokens at each step. This is called \"top-k filtering.\" Because of top-k filtering, you're not likely to sample truly unusual tokens even when the temperature is high. You can adjust the threshold for top-k filtering with the `top_k` parameter of the model. For example, adjusting `top_k` to the number of items in the vocabulary ensures that every token gets its chance:"
   ]
  },
  {
   "cell_type": "code",
   "execution_count": 47,
   "id": "bf4d73cb",
   "metadata": {},
   "outputs": [
    {
     "name": "stderr",
     "output_type": "stream",
     "text": [
      "Setting `pad_token_id` to `eos_token_id`:50256 for open-end generation.\n"
     ]
    },
    {
     "data": {
      "text/plain": [
       "'Two roads diverged in a yellow car. Other passengers have been seriously injured. Two men ferry the motorway to Tanong — which ended in the Palbeyan River in the city of Tanong. (Photo: Dan Crafts/Times Free Press) Story Highlights Tanong migrant workers evacuated\\n\\n\\n\\n\\n\\n\\n\\n\\n\\n\\n\\n\\n\\n\\n\\n\\n\\n\\n\\n\\n\\n\\n\\n\\n\\n\\n\\n\\n\\n\\n\\n\\n\\n\\n\\n\\n\\n\\n\\n\\n'"
      ]
     },
     "execution_count": 47,
     "metadata": {},
     "output_type": "execute_result"
    }
   ],
   "source": [
    "generator(\"Two roads diverged in a yellow\",\n",
    "          top_k=tokenizer.vocab_size,\n",
    "          max_length=100)[0]['generated_text']"
   ]
  },
  {
   "cell_type": "markdown",
   "id": "1fa7b265",
   "metadata": {},
   "source": [
    "Using this with a temperature greater than `1.0` can yield some unusual turns of phrase:"
   ]
  },
  {
   "cell_type": "code",
   "execution_count": 48,
   "id": "0b690453",
   "metadata": {},
   "outputs": [
    {
     "name": "stderr",
     "output_type": "stream",
     "text": [
      "Setting `pad_token_id` to `eos_token_id`:50256 for open-end generation.\n"
     ]
    },
    {
     "data": {
      "text/plain": [
       "'Two roads diverged in a yellow Oueconomy helicopter Apr. 3, 2012 sitting in an unharmed location near coal age swings towards Associated Recording Studios, Calif. As Ulamofar Raiolini shrinks, stuttered civilians evacuate into the hills because militants have been linked there. Photo by Evan Vucci/MHz 2,927 Teenage Leaves Blocks Per Extremely Late Soon Iowa state GOP redistributed voters from dynamrodlot which only drives regional branches of U.S. state. more'"
      ]
     },
     "execution_count": 48,
     "metadata": {},
     "output_type": "execute_result"
    }
   ],
   "source": [
    "generator(\"Two roads diverged in a yellow\",\n",
    "          top_k=tokenizer.vocab_size,\n",
    "          temperature=1.2,\n",
    "          max_length=100)[0]['generated_text']"
   ]
  },
  {
   "cell_type": "markdown",
   "id": "1843eaef",
   "metadata": {},
   "source": [
    "On the other extreme, setting the `top_k` value to `1` ensures that *only* the most likely token is chosen at each step. This is the same thing as [\"greedy decoding\"](https://huggingface.co/transformers/main_classes/model.html#transformers.generation_utils.GenerationMixin.greedy_search):"
   ]
  },
  {
   "cell_type": "code",
   "execution_count": 49,
   "id": "ef3b18b7",
   "metadata": {},
   "outputs": [
    {
     "name": "stderr",
     "output_type": "stream",
     "text": [
      "Setting `pad_token_id` to `eos_token_id`:50256 for open-end generation.\n"
     ]
    },
    {
     "data": {
      "text/plain": [
       "'Two roads diverged in a yellow light, and the police were called to the scene.\\n\\n\\n\\n\\n\\n\\n\\n\\n\\n\\n\\n\\n\\n\\n\\n\\n\\n\\n\\n\\n\\n\\n\\n\\n\\n\\n\\n\\n\\n\\n\\n\\n\\n\\n\\n\\n\\n\\n\\n\\n\\n\\n\\n\\n\\n\\n\\n\\n\\n\\n\\n\\n\\n\\n\\n\\n\\n\\n\\n\\n\\n\\n\\n\\n\\n\\n\\n\\n\\n\\n\\n\\n\\n\\n\\n\\n\\n\\n\\n\\n\\n'"
      ]
     },
     "execution_count": 49,
     "metadata": {},
     "output_type": "execute_result"
    }
   ],
   "source": [
    "generator(\"Two roads diverged in a yellow\",\n",
    "          top_k=1,\n",
    "          max_length=100)[0]['generated_text']"
   ]
  },
  {
   "cell_type": "markdown",
   "id": "4e343fed",
   "metadata": {},
   "source": [
    "Playing around with `top_k` and `temperature` in tandem is a good way to make adjustments to the texture of your generated text."
   ]
  },
  {
   "cell_type": "markdown",
   "id": "3d87511e",
   "metadata": {},
   "source": [
    "### Logit warping: Exclude \"bad\" words\n",
    "\n",
    "The `.generate()` method has a parameter called `bad_words_ids`, which causes the model to zero out the probabilities of tokens associated with words that you pass in. The intended use of this feature is to stop the model from generating offensive or harmful words. But we can also repurpose it for poetic purposes. For example, in the cell below, I make the model complete the prompt \"It was a dark and stormy\" *without* using the words \"night\" or \"day\":"
   ]
  },
  {
   "cell_type": "code",
   "execution_count": 50,
   "id": "e691ce3e",
   "metadata": {},
   "outputs": [
    {
     "name": "stderr",
     "output_type": "stream",
     "text": [
      "Setting `pad_token_id` to `eos_token_id`:50256 for open-end generation.\n"
     ]
    },
    {
     "data": {
      "text/plain": [
       "\"It was a dark and stormy storm that set off the town of Nizke. The village of Nizke was deserted and abandoned. The village's people had fled, but they did not understand it. Then when they could finally reach N\""
      ]
     },
     "execution_count": 50,
     "metadata": {},
     "output_type": "execute_result"
    }
   ],
   "source": [
    "generator(\"It was a dark and stormy\",\n",
    "          bad_words_ids=tokenizer([\" night\", \" day\"]).input_ids)[0]['generated_text']"
   ]
  },
  {
   "cell_type": "markdown",
   "id": "4cdc646c",
   "metadata": {},
   "source": [
    "The syntax for specifying the \"bad words\" is to call the tokenizer on a list of words that you want to exclude, and then get the `.input_ids` attribute of the value returned from calling the tokenizer. This yields a list of lists that looks like this:"
   ]
  },
  {
   "cell_type": "code",
   "execution_count": 51,
   "id": "8a18221f",
   "metadata": {},
   "outputs": [
    {
     "data": {
      "text/plain": [
       "[[3237, 1653], [47, 3258, 680]]"
      ]
     },
     "execution_count": 51,
     "metadata": {},
     "output_type": "execute_result"
    }
   ],
   "source": [
    "tokenizer([\"Allison\", \"Parrish\"]).input_ids"
   ]
  },
  {
   "cell_type": "markdown",
   "id": "e44e2879",
   "metadata": {},
   "source": [
    "Note that I used ` night` and ` day` as the words, with leading spaces—this is necessary because I ended the prompt without whitespace, so the model is likely to generate a token with leading whitespace at the next step. I've found that the `bad_words_ids` parameter works best if your list of words includes versions both with and without whitespace.\n",
    "\n",
    "Here's another example: getting the model to complete a prompt without using any forms of the verb *to be*:"
   ]
  },
  {
   "cell_type": "code",
   "execution_count": 52,
   "id": "a5c7fc50",
   "metadata": {},
   "outputs": [
    {
     "name": "stderr",
     "output_type": "stream",
     "text": [
      "Setting `pad_token_id` to `eos_token_id`:50256 for open-end generation.\n"
     ]
    },
    {
     "data": {
      "text/plain": [
       "'Once upon a time, on the other end of the planet at the top of a galaxy, it became apparent that the star, the Milky Way, had the same gravitational background as the stars in this study. When those planets moved at great distances from the outside, they made much larger changes to their properties. However, once they reached the core of the Milky Way they began to move farther and farther in the opposite direction, and that distance gained increased further. Finally, before reaching the core of the'"
      ]
     },
     "execution_count": 52,
     "metadata": {},
     "output_type": "execute_result"
    }
   ],
   "source": [
    "generator(\"Once upon a time,\",\n",
    "          bad_words_ids=tokenizer(\n",
    "              [\"be\", \" be\",\n",
    "               \"am\", \" am\",\n",
    "               \"are\", \" are\",\n",
    "               \"is\", \" is\",\n",
    "               \"was\", \" was\",\n",
    "               \"were\", \" were\"]).input_ids,\n",
    "          max_length=100)[0]['generated_text']"
   ]
  },
  {
   "cell_type": "markdown",
   "id": "bec6a2df",
   "metadata": {},
   "source": [
    "You can also create a list of token IDs that you want to exclude on the fly. In the following example, I make a list of token IDs that have the letter `e` in them, and pass that list to the `bad_words_ids` parameter:"
   ]
  },
  {
   "cell_type": "code",
   "execution_count": 53,
   "id": "9dd76bc3",
   "metadata": {
    "scrolled": true
   },
   "outputs": [
    {
     "name": "stderr",
     "output_type": "stream",
     "text": [
      "Setting `pad_token_id` to `eos_token_id`:50256 for open-end generation.\n"
     ]
    },
    {
     "name": "stdout",
     "output_type": "stream",
     "text": [
      "Last month, I saw a lot of this, and I think it shows just how hard it is to avoid using Bitcoin just by looking at how far off that block diagram can go for Bitcoin's full functionality. First off, I had to go through a lot of data mining, which is why I want to start to look at a small part of why Bitcoin is a cash-only, anonymous, and anonymous Bitcoin.\n",
      "\n",
      "For my first half hour and hour of work, I had to wait\n"
     ]
    }
   ],
   "source": [
    "forbidden_ids = []\n",
    "for key, val in tokenizer.get_vocab().items():\n",
    "    if 'e' in key:\n",
    "        forbidden_ids.append([val]) # needs to be a list of lists\n",
    "print(generator(\"Last month, I\",\n",
    "          bad_words_ids=forbidden_ids,\n",
    "          max_length=100)[0]['generated_text'])"
   ]
  },
  {
   "cell_type": "markdown",
   "id": "5db6369e",
   "metadata": {},
   "source": [
    "### Fine-tuning a model\n",
    "\n",
    "\"Fine-tuning\" is a way of slightly modifying a model by training it a few extra steps on a corpus of your choice. This process adjusts the probabilities of the model so that it more closely reflects the probabilities of the source text you train it on. Fine-tuning models with Transformers is a little bit tricky! First, you'll need to install Hugging Face's `datasets` package:"
   ]
  },
  {
   "cell_type": "code",
   "execution_count": null,
   "id": "66e3757c",
   "metadata": {},
   "outputs": [],
   "source": [
    "import sys\n",
    "!{sys.executable} -m pip install datasets"
   ]
  },
  {
   "cell_type": "markdown",
   "id": "46e0395a",
   "metadata": {},
   "source": [
    "And then import it:"
   ]
  },
  {
   "cell_type": "code",
   "execution_count": 54,
   "id": "6f4d68e2",
   "metadata": {},
   "outputs": [],
   "source": [
    "import datasets"
   ]
  },
  {
   "cell_type": "markdown",
   "id": "3ab81720",
   "metadata": {},
   "source": [
    "You'll want to select a text file to fine-tune the model on. Fine-tuning works best on large amounts of text, but fine-tuning is also very slow if you're not using a GPU. For demonstration purposes, I create a special version of [Frankenstein](https://www.gutenberg.org/ebooks/84) that contains only the first 20000 characters, and save it to a file:"
   ]
  },
  {
   "cell_type": "code",
   "execution_count": 55,
   "id": "35a2a3c1",
   "metadata": {},
   "outputs": [],
   "source": [
    "with open(\"84-0-20k.txt\", \"w\") as fh:\n",
    "    fh.write(open(\"84-0.txt\").read()[:20000])"
   ]
  },
  {
   "cell_type": "markdown",
   "id": "1221ac91",
   "metadata": {},
   "source": [
    "Then I load this text file as my fine-tuning dataset:"
   ]
  },
  {
   "cell_type": "code",
   "execution_count": 56,
   "id": "9a037218",
   "metadata": {},
   "outputs": [
    {
     "name": "stderr",
     "output_type": "stream",
     "text": [
      "Using custom data configuration default-8396e67af902a1a6\n"
     ]
    },
    {
     "name": "stdout",
     "output_type": "stream",
     "text": [
      "Downloading and preparing dataset text/default (download: Unknown size, generated: Unknown size, post-processed: Unknown size, total: Unknown size) to /Users/allison/.cache/huggingface/datasets/text/default-8396e67af902a1a6/0.0.0/e16f44aa1b321ece1f87b07977cc5d70be93d69b20486d6dacd62e12cf25c9a5...\n"
     ]
    },
    {
     "data": {
      "application/vnd.jupyter.widget-view+json": {
       "model_id": "",
       "version_major": 2,
       "version_minor": 0
      },
      "text/plain": [
       "HBox(children=(FloatProgress(value=1.0, bar_style='info', layout=Layout(width='20px'), max=1.0), HTML(value=''…"
      ]
     },
     "metadata": {},
     "output_type": "display_data"
    },
    {
     "name": "stdout",
     "output_type": "stream",
     "text": [
      "Dataset text downloaded and prepared to /Users/allison/.cache/huggingface/datasets/text/default-8396e67af902a1a6/0.0.0/e16f44aa1b321ece1f87b07977cc5d70be93d69b20486d6dacd62e12cf25c9a5. Subsequent calls will reuse this data.\n"
     ]
    }
   ],
   "source": [
    "training_data = datasets.load_dataset('text', data_files=\"84-0-20k.txt\")"
   ]
  },
  {
   "cell_type": "markdown",
   "id": "b31f0ead",
   "metadata": {},
   "source": [
    "Now, there's a bunch of obligatory processing that we need to do to the data in order to prepare it for the model. This is boilerplate stuff, which I'm not going to go into in detail. If you want details, consult Hugging Face's [fine-tuning language models notebook](https://github.com/huggingface/notebooks/blob/master/examples/language_modeling.ipynb).\n",
    "\n",
    "First, we tokenize the text:"
   ]
  },
  {
   "cell_type": "code",
   "execution_count": 57,
   "id": "dc75a5ff",
   "metadata": {},
   "outputs": [
    {
     "data": {
      "application/vnd.jupyter.widget-view+json": {
       "model_id": "3725218132264e899ab325843a97800a",
       "version_major": 2,
       "version_minor": 0
      },
      "text/plain": [
       "HBox(children=(FloatProgress(value=0.0, max=484.0), HTML(value='')))"
      ]
     },
     "metadata": {},
     "output_type": "display_data"
    },
    {
     "name": "stdout",
     "output_type": "stream",
     "text": [
      "\n"
     ]
    }
   ],
   "source": [
    "tokenizer.pad_token = tokenizer.eos_token\n",
    "tokenized_training_data = training_data.map(\n",
    "    lambda x: tokenizer(x['text']),\n",
    "    remove_columns=[\"text\"]\n",
    ")"
   ]
  },
  {
   "cell_type": "markdown",
   "id": "ea41f005",
   "metadata": {},
   "source": [
    "Then we break the tokenized text up into batches of tokens:"
   ]
  },
  {
   "cell_type": "code",
   "execution_count": 58,
   "id": "595b9bf0",
   "metadata": {},
   "outputs": [
    {
     "data": {
      "application/vnd.jupyter.widget-view+json": {
       "model_id": "3e480a0a0dd946e6ad0b0f9099abb724",
       "version_major": 2,
       "version_minor": 0
      },
      "text/plain": [
       "HBox(children=(FloatProgress(value=0.0, max=3.0), HTML(value='')))"
      ]
     },
     "metadata": {},
     "output_type": "display_data"
    },
    {
     "name": "stdout",
     "output_type": "stream",
     "text": [
      "\n"
     ]
    }
   ],
   "source": [
    "block_size = 64\n",
    "# magic from https://github.com/huggingface/notebooks/blob/master/examples/language_modeling.ipynb\n",
    "def group_texts(examples):\n",
    "    concatenated_examples = {k: sum(examples[k], []) for k in examples.keys()}\n",
    "    total_length = len(concatenated_examples[list(examples.keys())[0]])\n",
    "    total_length = (total_length // block_size) * block_size\n",
    "    result = {\n",
    "        k: [t[i : i + block_size] for i in range(0, total_length, block_size)]\n",
    "        for k, t in concatenated_examples.items()\n",
    "    }\n",
    "    result[\"labels\"] = result[\"input_ids\"].copy()\n",
    "    return result\n",
    "lm_training_data = tokenized_training_data.map(\n",
    "    group_texts,\n",
    "    batched=True,\n",
    "    batch_size=200\n",
    ")"
   ]
  },
  {
   "cell_type": "markdown",
   "id": "5e522074",
   "metadata": {},
   "source": [
    "Now we import the `Trainer` class, which implements a training loop."
   ]
  },
  {
   "cell_type": "code",
   "execution_count": 59,
   "id": "eee70cb2",
   "metadata": {},
   "outputs": [],
   "source": [
    "from transformers import Trainer, TrainingArguments"
   ]
  },
  {
   "cell_type": "markdown",
   "id": "a12058c0",
   "metadata": {},
   "source": [
    "Running the following cell creates the `Trainer` object. The `output_dir` parameter specifies a directory where your fine-tuned model will be saved. The `num_train_epochs` sets how many \"epochs\" the trainer will run; one epoch is one iteration over the entire dataset. More epochs is better, but even one epoch can significantly change the way the model generates text."
   ]
  },
  {
   "cell_type": "code",
   "execution_count": 60,
   "id": "6d5359f1",
   "metadata": {},
   "outputs": [],
   "source": [
    "trainer = Trainer(model=model,\n",
    "                  train_dataset=lm_training_data['train'],\n",
    "                  args=TrainingArguments(\n",
    "                      output_dir='distilgpt2-finetune-frankenstein20k',\n",
    "                      num_train_epochs=1,\n",
    "                      do_train=True,\n",
    "                      do_eval=False\n",
    "                  ),\n",
    "                  tokenizer=tokenizer)"
   ]
  },
  {
   "cell_type": "markdown",
   "id": "22076634",
   "metadata": {},
   "source": [
    "Finally, the cell below will start the training process. If you're running this on a computer without a GPU, it will take a while. You can open this notebook on [Google Colab](http://colab.research.google.com/) if you want and take advantage of the free GPU that Google lets you use."
   ]
  },
  {
   "cell_type": "code",
   "execution_count": 61,
   "id": "a0a974bb",
   "metadata": {
    "scrolled": false
   },
   "outputs": [
    {
     "name": "stderr",
     "output_type": "stream",
     "text": [
      "***** Running training *****\n",
      "  Num examples = 67\n",
      "  Num Epochs = 1\n",
      "  Instantaneous batch size per device = 8\n",
      "  Total train batch size (w. parallel, distributed & accumulation) = 8\n",
      "  Gradient Accumulation steps = 1\n",
      "  Total optimization steps = 9\n"
     ]
    },
    {
     "data": {
      "text/html": [
       "\n",
       "    <div>\n",
       "      \n",
       "      <progress value='9' max='9' style='width:300px; height:20px; vertical-align: middle;'></progress>\n",
       "      [9/9 00:50, Epoch 1/1]\n",
       "    </div>\n",
       "    <table border=\"1\" class=\"dataframe\">\n",
       "  <thead>\n",
       "    <tr style=\"text-align: left;\">\n",
       "      <th>Step</th>\n",
       "      <th>Training Loss</th>\n",
       "    </tr>\n",
       "  </thead>\n",
       "  <tbody>\n",
       "  </tbody>\n",
       "</table><p>"
      ],
      "text/plain": [
       "<IPython.core.display.HTML object>"
      ]
     },
     "metadata": {},
     "output_type": "display_data"
    },
    {
     "name": "stderr",
     "output_type": "stream",
     "text": [
      "\n",
      "\n",
      "Training completed. Do not forget to share your model on huggingface.co/models =)\n",
      "\n",
      "\n"
     ]
    },
    {
     "data": {
      "text/plain": [
       "TrainOutput(global_step=9, training_loss=4.9099070231119795, metrics={'train_runtime': 56.9456, 'train_samples_per_second': 1.177, 'train_steps_per_second': 0.158, 'total_flos': 2107446755328.0, 'train_loss': 4.9099070231119795, 'epoch': 1.0})"
      ]
     },
     "execution_count": 61,
     "metadata": {},
     "output_type": "execute_result"
    }
   ],
   "source": [
    "trainer.train()"
   ]
  },
  {
   "cell_type": "markdown",
   "id": "bda411f7",
   "metadata": {},
   "source": [
    "Running the cell below will save the model to disk:"
   ]
  },
  {
   "cell_type": "code",
   "execution_count": 62,
   "id": "f18e00fe",
   "metadata": {},
   "outputs": [
    {
     "name": "stderr",
     "output_type": "stream",
     "text": [
      "Saving model checkpoint to distilgpt2-finetune-frankenstein20k\n",
      "Configuration saved in distilgpt2-finetune-frankenstein20k/config.json\n",
      "Model weights saved in distilgpt2-finetune-frankenstein20k/pytorch_model.bin\n",
      "tokenizer config file saved in distilgpt2-finetune-frankenstein20k/tokenizer_config.json\n",
      "Special tokens file saved in distilgpt2-finetune-frankenstein20k/special_tokens_map.json\n"
     ]
    }
   ],
   "source": [
    "trainer.save_model()"
   ]
  },
  {
   "cell_type": "markdown",
   "id": "474a59af",
   "metadata": {},
   "source": [
    "Now you can generate with the fine-tuned model! The fine-tuning process modifies the model in-place, so the `pipeline` you created before will make use of the fine-tuned model. (Note that if you want to get the original `distilgpt2` back, you'll need to reload it with the `.from_pretrained()` method, as demonstrated at the top of the notebook.)"
   ]
  },
  {
   "cell_type": "code",
   "execution_count": 64,
   "id": "6f7769a0",
   "metadata": {},
   "outputs": [
    {
     "name": "stderr",
     "output_type": "stream",
     "text": [
      "Setting `pad_token_id` to `eos_token_id`:50256 for open-end generation.\n"
     ]
    },
    {
     "data": {
      "text/plain": [
       "'Two roads diverged in a yellow.\\n\\n\\n\\nAt a glance, I could not say what I was. I tried to hold my breaths, and felt a sense of peace that seemed to me an odd thing. I tried to keep my composure.\\nThe distance between them was far beyond my comprehension, and so, then, seemed to the most of my life. As if I had always wished to stay home, as though the weather was different, I had no space for my own'"
      ]
     },
     "execution_count": 64,
     "metadata": {},
     "output_type": "execute_result"
    }
   ],
   "source": [
    "generator(\"Two roads diverged in a yellow\", max_length=100)[0]['generated_text']"
   ]
  },
  {
   "cell_type": "markdown",
   "id": "798333f5",
   "metadata": {},
   "source": [
    "You can see that fine-tuning on even a small dataset produces big changes in the model.\n",
    "\n",
    "If you want to use your fine-tuned model in another project, use the same syntax that we used above to load `distilgpt2`—just replace `distilgpt2` with the name of the directory where you saved your model:"
   ]
  },
  {
   "cell_type": "code",
   "execution_count": 65,
   "id": "ed9960c9",
   "metadata": {},
   "outputs": [
    {
     "name": "stderr",
     "output_type": "stream",
     "text": [
      "Didn't find file distilgpt2-finetune-frankenstein20k/added_tokens.json. We won't load it.\n",
      "loading file distilgpt2-finetune-frankenstein20k/vocab.json\n",
      "loading file distilgpt2-finetune-frankenstein20k/merges.txt\n",
      "loading file distilgpt2-finetune-frankenstein20k/tokenizer.json\n",
      "loading file None\n",
      "loading file distilgpt2-finetune-frankenstein20k/special_tokens_map.json\n",
      "loading file distilgpt2-finetune-frankenstein20k/tokenizer_config.json\n",
      "loading configuration file distilgpt2-finetune-frankenstein20k/config.json\n",
      "Model config GPT2Config {\n",
      "  \"_name_or_path\": \"distilgpt2\",\n",
      "  \"_num_labels\": 1,\n",
      "  \"activation_function\": \"gelu_new\",\n",
      "  \"architectures\": [\n",
      "    \"GPT2LMHeadModel\"\n",
      "  ],\n",
      "  \"attn_pdrop\": 0.1,\n",
      "  \"bos_token_id\": 50256,\n",
      "  \"do_sample\": true,\n",
      "  \"embd_pdrop\": 0.1,\n",
      "  \"eos_token_id\": 50256,\n",
      "  \"gradient_checkpointing\": false,\n",
      "  \"id2label\": {\n",
      "    \"0\": \"LABEL_0\"\n",
      "  },\n",
      "  \"initializer_range\": 0.02,\n",
      "  \"label2id\": {\n",
      "    \"LABEL_0\": 0\n",
      "  },\n",
      "  \"layer_norm_epsilon\": 1e-05,\n",
      "  \"max_length\": 50,\n",
      "  \"model_type\": \"gpt2\",\n",
      "  \"n_ctx\": 1024,\n",
      "  \"n_embd\": 768,\n",
      "  \"n_head\": 12,\n",
      "  \"n_inner\": null,\n",
      "  \"n_layer\": 6,\n",
      "  \"n_positions\": 1024,\n",
      "  \"resid_pdrop\": 0.1,\n",
      "  \"scale_attn_weights\": true,\n",
      "  \"summary_activation\": null,\n",
      "  \"summary_first_dropout\": 0.1,\n",
      "  \"summary_proj_to_labels\": true,\n",
      "  \"summary_type\": \"cls_index\",\n",
      "  \"summary_use_proj\": true,\n",
      "  \"task_specific_params\": {\n",
      "    \"text-generation\": {\n",
      "      \"do_sample\": true,\n",
      "      \"max_length\": 50\n",
      "    }\n",
      "  },\n",
      "  \"transformers_version\": \"4.8.2\",\n",
      "  \"use_cache\": true,\n",
      "  \"vocab_size\": 50257\n",
      "}\n",
      "\n",
      "loading weights file distilgpt2-finetune-frankenstein20k/pytorch_model.bin\n",
      "All model checkpoint weights were used when initializing GPT2LMHeadModel.\n",
      "\n",
      "All the weights of GPT2LMHeadModel were initialized from the model checkpoint at distilgpt2-finetune-frankenstein20k.\n",
      "If your task is similar to the task the model of the checkpoint was trained on, you can already use GPT2LMHeadModel for predictions without further training.\n"
     ]
    }
   ],
   "source": [
    "my_tokenizer = AutoTokenizer.from_pretrained('distilgpt2-finetune-frankenstein20k')\n",
    "my_model = AutoModelForCausalLM.from_pretrained('distilgpt2-finetune-frankenstein20k')"
   ]
  },
  {
   "cell_type": "markdown",
   "id": "4c62d434",
   "metadata": {},
   "source": [
    "Now generate with it:"
   ]
  },
  {
   "cell_type": "code",
   "execution_count": 66,
   "id": "201ab0c9",
   "metadata": {},
   "outputs": [],
   "source": [
    "my_generator = pipeline(\"text-generation\", model=my_model, tokenizer=my_tokenizer)"
   ]
  },
  {
   "cell_type": "code",
   "execution_count": 68,
   "id": "8de43360",
   "metadata": {},
   "outputs": [
    {
     "name": "stderr",
     "output_type": "stream",
     "text": [
      "Setting `pad_token_id` to `eos_token_id`:50256 for open-end generation.\n"
     ]
    },
    {
     "data": {
      "text/plain": [
       "'Two roads diverged in a yellowish haze, and there were only two clear roadways crossing east of the river. As the sky fell and the ground was darkened, the wind blew a terrible wind; but it soon returned to the east where he'"
      ]
     },
     "execution_count": 68,
     "metadata": {},
     "output_type": "execute_result"
    }
   ],
   "source": [
    "my_generator(\"Two roads diverged in a yellow\")[0]['generated_text']"
   ]
  }
 ],
 "metadata": {
  "kernelspec": {
   "display_name": "Python 3 (ipykernel)",
   "language": "python",
   "name": "python3"
  },
  "language_info": {
   "codemirror_mode": {
    "name": "ipython",
    "version": 3
   },
   "file_extension": ".py",
   "mimetype": "text/x-python",
   "name": "python",
   "nbconvert_exporter": "python",
   "pygments_lexer": "ipython3",
   "version": "3.11.5"
  }
 },
 "nbformat": 4,
 "nbformat_minor": 5
}
