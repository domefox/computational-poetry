{
 "cells": [
  {
   "cell_type": "markdown",
   "id": "c84a18f4",
   "metadata": {},
   "source": [
    "I was reading the beginning of the bible and how different things happen on different days, and it reminded me of the song “on the X day of christmas my true love sent to me”.\n",
    "\n",
    "I thought it would be interesting to infuse this song with biblical words, using both tracery and spacy to create a nonsensical christmas carol version of the biblical formation."
   ]
  },
  {
   "cell_type": "markdown",
   "id": "0bee2923",
   "metadata": {},
   "source": [
    "Pseudocode:\n",
    "1. Import spacy & tracery\n",
    "2. Set up format of each line using tracery 'on the X day of christmas my true love got for me, a X in an Y'\n",
    "3. Import the first section of the bible\n",
    "4. Run it through 7 times, each time layering atop the next"
   ]
  },
  {
   "cell_type": "code",
   "execution_count": 2,
   "id": "feb2d077",
   "metadata": {},
   "outputs": [
    {
     "name": "stdout",
     "output_type": "stream",
     "text": [
      "^C\n"
     ]
    }
   ],
   "source": [
    "import sys\n",
    "!conda install -c conda-forge -y --prefix {sys.prefix} spacy"
   ]
  },
  {
   "cell_type": "code",
   "execution_count": null,
   "id": "4072d971",
   "metadata": {},
   "outputs": [],
   "source": [
    "import sys\n",
    "!{sys.executable} -m spacy download en_core_web_md"
   ]
  },
  {
   "cell_type": "code",
   "execution_count": null,
   "id": "143ee75e",
   "metadata": {},
   "outputs": [],
   "source": []
  },
  {
   "cell_type": "code",
   "execution_count": null,
   "id": "60629cf7",
   "metadata": {},
   "outputs": [],
   "source": [
    "import spacy\n"
   ]
  },
  {
   "cell_type": "code",
   "execution_count": null,
   "id": "a62c78b7",
   "metadata": {},
   "outputs": [],
   "source": [
    "nlp=spacy.load('en_core_web_md')"
   ]
  },
  {
   "cell_type": "code",
   "execution_count": null,
   "id": "38f759fb",
   "metadata": {},
   "outputs": [],
   "source": [
    "doc = nlp(open(\"./bible.txt\", encoding='utf8').read()) #./ + [tab] lets you see everything in your file"
   ]
  },
  {
   "cell_type": "code",
   "execution_count": null,
   "id": "ea637d91",
   "metadata": {},
   "outputs": [],
   "source": [
    "noun = [item for item in list(doc) if item.pos_=='NOUN']\n",
    "adjective = [item for item in list(doc) if item.pos_=='ADJ']\n",
    "entities = list(doc.ents)\n",
    "location = [ent.text for ent in doc.ents if ent.label_ == 'LOC']\n",
    "verb = [item for item in list(doc) if item.tag_=='VBZ']\n"
   ]
  },
  {
   "cell_type": "code",
   "execution_count": null,
   "id": "e8f41b6a",
   "metadata": {},
   "outputs": [],
   "source": [
    "import random"
   ]
  },
  {
   "cell_type": "code",
   "execution_count": null,
   "id": "e54ee8e6",
   "metadata": {},
   "outputs": [],
   "source": [
    "random.sample(noun,3)\n"
   ]
  },
  {
   "cell_type": "code",
   "execution_count": null,
   "id": "4a94cce6",
   "metadata": {},
   "outputs": [],
   "source": [
    "random.sample(adjective,3)\n"
   ]
  },
  {
   "cell_type": "code",
   "execution_count": null,
   "id": "535aa5a0",
   "metadata": {},
   "outputs": [],
   "source": [
    "random.sample(location,3)"
   ]
  },
  {
   "cell_type": "code",
   "execution_count": null,
   "id": "e17952e4",
   "metadata": {},
   "outputs": [],
   "source": [
    "random.sample(entities,3)"
   ]
  },
  {
   "cell_type": "code",
   "execution_count": null,
   "id": "3c28c615",
   "metadata": {
    "scrolled": true
   },
   "outputs": [],
   "source": [
    "f\"I pledge allegiance to the {random.choice(noun)} of {random.choice(location)}, and to the {random.choice(noun)} for which it stands, one {random.choice(noun)} under {random.choice(entities)}, {random.choice(adjective)}, with {random.choice(noun)} and {random.choice(noun)} for all.\""
   ]
  },
  {
   "cell_type": "code",
   "execution_count": null,
   "id": "d4f85fb3",
   "metadata": {},
   "outputs": [],
   "source": []
  }
 ],
 "metadata": {
  "kernelspec": {
   "display_name": "Python 3 (ipykernel)",
   "language": "python",
   "name": "python3"
  },
  "language_info": {
   "codemirror_mode": {
    "name": "ipython",
    "version": 3
   },
   "file_extension": ".py",
   "mimetype": "text/x-python",
   "name": "python",
   "nbconvert_exporter": "python",
   "pygments_lexer": "ipython3",
   "version": "3.11.5"
  }
 },
 "nbformat": 4,
 "nbformat_minor": 5
}
