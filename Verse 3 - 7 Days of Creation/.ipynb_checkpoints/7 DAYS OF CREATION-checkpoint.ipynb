{
 "cells": [
  {
   "cell_type": "markdown",
   "id": "ff61c722",
   "metadata": {},
   "source": [
    "I was reading the beginning of the bible and how different things happen on different days, and it reminded me of the song “on the X day of christmas my true love sent to me”.\n",
    "\n",
    "I thought it would be interesting to infuse this song with biblical words, using both tracery and spacy to create a nonsensical christmas carol version of the biblical formation."
   ]
  },
  {
   "cell_type": "markdown",
   "id": "01de55b7",
   "metadata": {},
   "source": [
    "Pseudocode:\n",
    "1. Import spacy & tracery\n",
    "2. Set up format of each line using tracery 'on the X day of christmas my true love got for me, a X in an Y'\n",
    "3. Import the first section of the bible\n",
    "4. Run it through 7 times, each time layering atop the next"
   ]
  },
  {
   "cell_type": "code",
   "execution_count": 24,
   "id": "feb2d077",
   "metadata": {},
   "outputs": [
    {
     "name": "stdout",
     "output_type": "stream",
     "text": [
      "Collecting package metadata (current_repodata.json): ...working... done\n",
      "Solving environment: ...working... done\n",
      "\n",
      "# All requested packages already installed.\n",
      "\n"
     ]
    },
    {
     "name": "stderr",
     "output_type": "stream",
     "text": [
      "\n",
      "\n",
      "==> WARNING: A newer version of conda exists. <==\n",
      "  current version: 23.7.4\n",
      "  latest version: 24.3.0\n",
      "\n",
      "Please update conda by running\n",
      "\n",
      "    $ conda update -n base -c defaults conda\n",
      "\n",
      "Or to minimize the number of packages updated during conda update use\n",
      "\n",
      "     conda install conda=24.3.0\n",
      "\n",
      "\n"
     ]
    }
   ],
   "source": [
    "import sys\n",
    "!conda install -c conda-forge -y --prefix {sys.prefix} spacy"
   ]
  },
  {
   "cell_type": "code",
   "execution_count": 3,
   "id": "4072d971",
   "metadata": {},
   "outputs": [
    {
     "name": "stdout",
     "output_type": "stream",
     "text": [
      "Collecting en-core-web-md==3.7.1\n",
      "  Downloading https://github.com/explosion/spacy-models/releases/download/en_core_web_md-3.7.1/en_core_web_md-3.7.1-py3-none-any.whl (42.8 MB)\n",
      "     ---------------------------------------- 0.0/42.8 MB ? eta -:--:--\n",
      "     --------------------------------------- 0.0/42.8 MB 330.3 kB/s eta 0:02:10\n",
      "     --------------------------------------- 0.1/42.8 MB 770.8 kB/s eta 0:00:56\n",
      "     ---------------------------------------- 0.5/42.8 MB 3.2 MB/s eta 0:00:14\n",
      "      --------------------------------------- 1.0/42.8 MB 5.4 MB/s eta 0:00:08\n",
      "     - -------------------------------------- 1.6/42.8 MB 6.7 MB/s eta 0:00:07\n",
      "     - -------------------------------------- 2.1/42.8 MB 7.3 MB/s eta 0:00:06\n",
      "     -- ------------------------------------- 2.7/42.8 MB 8.2 MB/s eta 0:00:05\n",
      "     --- ------------------------------------ 3.3/42.8 MB 9.1 MB/s eta 0:00:05\n",
      "     --- ------------------------------------ 4.1/42.8 MB 9.6 MB/s eta 0:00:05\n",
      "     ---- ----------------------------------- 4.7/42.8 MB 10.4 MB/s eta 0:00:04\n",
      "     ---- ----------------------------------- 5.3/42.8 MB 10.5 MB/s eta 0:00:04\n",
      "     ----- ---------------------------------- 5.8/42.8 MB 10.7 MB/s eta 0:00:04\n",
      "     ------ --------------------------------- 6.5/42.8 MB 10.6 MB/s eta 0:00:04\n",
      "     ------ --------------------------------- 7.2/42.8 MB 11.0 MB/s eta 0:00:04\n",
      "     ------- -------------------------------- 8.0/42.8 MB 11.3 MB/s eta 0:00:04\n",
      "     ------- -------------------------------- 8.4/42.8 MB 11.5 MB/s eta 0:00:03\n",
      "     -------- ------------------------------- 8.8/42.8 MB 11.2 MB/s eta 0:00:04\n",
      "     -------- ------------------------------- 9.1/42.8 MB 11.0 MB/s eta 0:00:04\n",
      "     -------- ------------------------------- 9.4/42.8 MB 10.7 MB/s eta 0:00:04\n",
      "     --------- ------------------------------ 9.7/42.8 MB 10.6 MB/s eta 0:00:04\n",
      "     --------- ----------------------------- 10.1/42.8 MB 10.4 MB/s eta 0:00:04\n",
      "     --------- ----------------------------- 10.5/42.8 MB 11.5 MB/s eta 0:00:03\n",
      "     --------- ----------------------------- 10.7/42.8 MB 11.1 MB/s eta 0:00:03\n",
      "     --------- ----------------------------- 10.7/42.8 MB 11.1 MB/s eta 0:00:03\n",
      "     ---------- ---------------------------- 11.3/42.8 MB 10.4 MB/s eta 0:00:04\n",
      "     ---------- ---------------------------- 11.9/42.8 MB 10.6 MB/s eta 0:00:03\n",
      "     ----------- --------------------------- 12.3/42.8 MB 10.6 MB/s eta 0:00:03\n",
      "     ----------- --------------------------- 12.7/42.8 MB 10.4 MB/s eta 0:00:03\n",
      "     ----------- --------------------------- 13.0/42.8 MB 10.1 MB/s eta 0:00:03\n",
      "     ------------ --------------------------- 13.3/42.8 MB 9.8 MB/s eta 0:00:04\n",
      "     ------------ --------------------------- 13.7/42.8 MB 9.6 MB/s eta 0:00:04\n",
      "     ------------- -------------------------- 14.0/42.8 MB 9.4 MB/s eta 0:00:04\n",
      "     ------------- -------------------------- 14.3/42.8 MB 9.2 MB/s eta 0:00:04\n",
      "     ------------- -------------------------- 14.6/42.8 MB 9.1 MB/s eta 0:00:04\n",
      "     -------------- ------------------------- 15.1/42.8 MB 8.8 MB/s eta 0:00:04\n",
      "     -------------- ------------------------- 15.4/42.8 MB 8.6 MB/s eta 0:00:04\n",
      "     -------------- ------------------------- 15.7/42.8 MB 8.6 MB/s eta 0:00:04\n",
      "     --------------- ------------------------ 16.4/42.8 MB 8.7 MB/s eta 0:00:04\n",
      "     --------------- ------------------------ 16.9/42.8 MB 8.5 MB/s eta 0:00:04\n",
      "     ---------------- ----------------------- 17.7/42.8 MB 8.6 MB/s eta 0:00:03\n",
      "     ----------------- ---------------------- 18.5/42.8 MB 8.7 MB/s eta 0:00:03\n",
      "     ----------------- ---------------------- 19.2/42.8 MB 9.1 MB/s eta 0:00:03\n",
      "     ------------------ --------------------- 19.8/42.8 MB 9.4 MB/s eta 0:00:03\n",
      "     ------------------- -------------------- 20.4/42.8 MB 9.6 MB/s eta 0:00:03\n",
      "     ------------------- -------------------- 20.9/42.8 MB 9.8 MB/s eta 0:00:03\n",
      "     ------------------- ------------------- 21.6/42.8 MB 10.6 MB/s eta 0:00:03\n",
      "     -------------------- ------------------ 22.3/42.8 MB 10.7 MB/s eta 0:00:02\n",
      "     -------------------- ------------------ 23.0/42.8 MB 11.1 MB/s eta 0:00:02\n",
      "     --------------------- ----------------- 23.8/42.8 MB 12.1 MB/s eta 0:00:02\n",
      "     ---------------------- ---------------- 24.5/42.8 MB 12.8 MB/s eta 0:00:02\n",
      "     ---------------------- ---------------- 25.1/42.8 MB 13.4 MB/s eta 0:00:02\n",
      "     ----------------------- --------------- 25.8/42.8 MB 14.2 MB/s eta 0:00:02\n",
      "     ------------------------ -------------- 26.4/42.8 MB 14.6 MB/s eta 0:00:02\n",
      "     ------------------------ -------------- 27.1/42.8 MB 14.9 MB/s eta 0:00:02\n",
      "     ------------------------- ------------- 27.7/42.8 MB 14.2 MB/s eta 0:00:02\n",
      "     ------------------------- ------------- 28.3/42.8 MB 14.2 MB/s eta 0:00:02\n",
      "     -------------------------- ------------ 28.9/42.8 MB 13.9 MB/s eta 0:00:01\n",
      "     --------------------------- ----------- 29.6/42.8 MB 13.9 MB/s eta 0:00:01\n",
      "     --------------------------- ----------- 30.3/42.8 MB 14.2 MB/s eta 0:00:01\n",
      "     ---------------------------- ---------- 31.0/42.8 MB 14.2 MB/s eta 0:00:01\n",
      "     ---------------------------- ---------- 31.7/42.8 MB 14.2 MB/s eta 0:00:01\n",
      "     ----------------------------- --------- 32.3/42.8 MB 14.2 MB/s eta 0:00:01\n",
      "     ----------------------------- --------- 32.6/42.8 MB 14.2 MB/s eta 0:00:01\n",
      "     ----------------------------- --------- 32.7/42.8 MB 13.1 MB/s eta 0:00:01\n",
      "     ------------------------------ -------- 33.1/42.8 MB 12.8 MB/s eta 0:00:01\n",
      "     ------------------------------ -------- 33.7/42.8 MB 12.6 MB/s eta 0:00:01\n",
      "     ------------------------------- ------- 34.4/42.8 MB 12.6 MB/s eta 0:00:01\n",
      "     ------------------------------- ------- 35.0/42.8 MB 12.6 MB/s eta 0:00:01\n",
      "     -------------------------------- ------ 35.5/42.8 MB 12.4 MB/s eta 0:00:01\n",
      "     -------------------------------- ------ 36.1/42.8 MB 12.4 MB/s eta 0:00:01\n",
      "     --------------------------------- ----- 36.8/42.8 MB 12.4 MB/s eta 0:00:01\n",
      "     ---------------------------------- ---- 37.4/42.8 MB 12.1 MB/s eta 0:00:01\n",
      "     ---------------------------------- ---- 37.7/42.8 MB 11.9 MB/s eta 0:00:01\n",
      "     ---------------------------------- ---- 37.8/42.8 MB 11.5 MB/s eta 0:00:01\n",
      "     ---------------------------------- ---- 37.8/42.8 MB 11.5 MB/s eta 0:00:01\n",
      "     ---------------------------------- ---- 37.8/42.8 MB 11.5 MB/s eta 0:00:01\n",
      "     ---------------------------------- ---- 37.9/42.8 MB 10.1 MB/s eta 0:00:01\n",
      "     ----------------------------------- ---- 37.9/42.8 MB 9.8 MB/s eta 0:00:01\n",
      "     ----------------------------------- ---- 37.9/42.8 MB 9.8 MB/s eta 0:00:01\n",
      "     ----------------------------------- ---- 37.9/42.8 MB 9.8 MB/s eta 0:00:01\n",
      "     ----------------------------------- ---- 38.0/42.8 MB 8.6 MB/s eta 0:00:01\n",
      "     ----------------------------------- ---- 38.0/42.8 MB 8.6 MB/s eta 0:00:01\n",
      "     ----------------------------------- ---- 38.1/42.8 MB 8.2 MB/s eta 0:00:01\n",
      "     ----------------------------------- ---- 38.1/42.8 MB 8.2 MB/s eta 0:00:01\n",
      "     ----------------------------------- ---- 38.1/42.8 MB 7.4 MB/s eta 0:00:01\n",
      "     ----------------------------------- ---- 38.2/42.8 MB 7.2 MB/s eta 0:00:01\n",
      "     ----------------------------------- ---- 38.2/42.8 MB 7.2 MB/s eta 0:00:01\n",
      "     ----------------------------------- ---- 38.3/42.8 MB 6.9 MB/s eta 0:00:01\n",
      "     ----------------------------------- ---- 38.3/42.8 MB 6.9 MB/s eta 0:00:01\n",
      "     ----------------------------------- ---- 38.3/42.8 MB 6.9 MB/s eta 0:00:01\n",
      "     ----------------------------------- ---- 38.3/42.8 MB 6.2 MB/s eta 0:00:01\n",
      "     ----------------------------------- ---- 38.3/42.8 MB 6.2 MB/s eta 0:00:01\n",
      "     ----------------------------------- ---- 38.4/42.8 MB 6.0 MB/s eta 0:00:01\n",
      "     ----------------------------------- ---- 38.4/42.8 MB 6.0 MB/s eta 0:00:01\n",
      "     ----------------------------------- ---- 38.4/42.8 MB 6.0 MB/s eta 0:00:01\n",
      "     ------------------------------------ --- 38.5/42.8 MB 5.5 MB/s eta 0:00:01\n",
      "     ------------------------------------ --- 38.5/42.8 MB 5.5 MB/s eta 0:00:01\n",
      "     ------------------------------------ --- 38.6/42.8 MB 5.3 MB/s eta 0:00:01\n",
      "     ------------------------------------ --- 38.6/42.8 MB 5.1 MB/s eta 0:00:01\n",
      "     ------------------------------------ --- 38.7/42.8 MB 5.0 MB/s eta 0:00:01\n",
      "     ------------------------------------ --- 38.8/42.8 MB 5.0 MB/s eta 0:00:01\n",
      "     ------------------------------------ --- 38.8/42.8 MB 5.0 MB/s eta 0:00:01\n",
      "     ------------------------------------ --- 38.9/42.8 MB 4.7 MB/s eta 0:00:01\n",
      "     ------------------------------------ --- 39.1/42.8 MB 4.7 MB/s eta 0:00:01\n",
      "     ------------------------------------ --- 39.1/42.8 MB 4.7 MB/s eta 0:00:01\n",
      "     ------------------------------------ --- 39.1/42.8 MB 4.7 MB/s eta 0:00:01\n",
      "     ------------------------------------ --- 39.2/42.8 MB 4.4 MB/s eta 0:00:01\n",
      "     ------------------------------------- -- 39.6/42.8 MB 4.3 MB/s eta 0:00:01\n",
      "     ------------------------------------- -- 39.8/42.8 MB 4.3 MB/s eta 0:00:01\n",
      "     ------------------------------------- -- 39.9/42.8 MB 4.2 MB/s eta 0:00:01\n",
      "     ------------------------------------- -- 40.1/42.8 MB 4.1 MB/s eta 0:00:01\n",
      "     -------------------------------------- - 40.7/42.8 MB 4.1 MB/s eta 0:00:01\n",
      "     -------------------------------------- - 41.1/42.8 MB 4.1 MB/s eta 0:00:01\n",
      "     -------------------------------------- - 41.1/42.8 MB 4.1 MB/s eta 0:00:01\n",
      "     -------------------------------------- - 41.1/42.8 MB 4.1 MB/s eta 0:00:01\n",
      "     -------------------------------------- - 41.3/42.8 MB 3.9 MB/s eta 0:00:01\n",
      "     ---------------------------------------  41.9/42.8 MB 3.9 MB/s eta 0:00:01\n",
      "     ---------------------------------------  42.2/42.8 MB 3.9 MB/s eta 0:00:01\n",
      "     ---------------------------------------  42.3/42.8 MB 3.9 MB/s eta 0:00:01\n",
      "     ---------------------------------------  42.3/42.8 MB 3.9 MB/s eta 0:00:01\n",
      "     ---------------------------------------  42.3/42.8 MB 3.7 MB/s eta 0:00:01\n",
      "     ---------------------------------------  42.4/42.8 MB 3.7 MB/s eta 0:00:01\n",
      "     ---------------------------------------  42.4/42.8 MB 3.6 MB/s eta 0:00:01\n",
      "     ---------------------------------------  42.8/42.8 MB 3.6 MB/s eta 0:00:01\n",
      "     ---------------------------------------  42.8/42.8 MB 3.6 MB/s eta 0:00:01\n",
      "     ---------------------------------------- 42.8/42.8 MB 3.4 MB/s eta 0:00:00\n",
      "Requirement already satisfied: spacy<3.8.0,>=3.7.2 in c:\\users\\weber\\anaconda3\\lib\\site-packages (from en-core-web-md==3.7.1) (3.7.2)\n",
      "Requirement already satisfied: spacy-legacy<3.1.0,>=3.0.11 in c:\\users\\weber\\anaconda3\\lib\\site-packages (from spacy<3.8.0,>=3.7.2->en-core-web-md==3.7.1) (3.0.12)\n",
      "Requirement already satisfied: spacy-loggers<2.0.0,>=1.0.0 in c:\\users\\weber\\anaconda3\\lib\\site-packages (from spacy<3.8.0,>=3.7.2->en-core-web-md==3.7.1) (1.0.5)\n",
      "Requirement already satisfied: murmurhash<1.1.0,>=0.28.0 in c:\\users\\weber\\anaconda3\\lib\\site-packages (from spacy<3.8.0,>=3.7.2->en-core-web-md==3.7.1) (1.0.10)\n",
      "Requirement already satisfied: cymem<2.1.0,>=2.0.2 in c:\\users\\weber\\anaconda3\\lib\\site-packages (from spacy<3.8.0,>=3.7.2->en-core-web-md==3.7.1) (2.0.8)\n",
      "Requirement already satisfied: preshed<3.1.0,>=3.0.2 in c:\\users\\weber\\anaconda3\\lib\\site-packages (from spacy<3.8.0,>=3.7.2->en-core-web-md==3.7.1) (3.0.9)\n",
      "Requirement already satisfied: thinc<8.3.0,>=8.1.8 in c:\\users\\weber\\anaconda3\\lib\\site-packages (from spacy<3.8.0,>=3.7.2->en-core-web-md==3.7.1) (8.2.2)\n",
      "Requirement already satisfied: wasabi<1.2.0,>=0.9.1 in c:\\users\\weber\\anaconda3\\lib\\site-packages (from spacy<3.8.0,>=3.7.2->en-core-web-md==3.7.1) (1.1.2)\n",
      "Requirement already satisfied: srsly<3.0.0,>=2.4.3 in c:\\users\\weber\\anaconda3\\lib\\site-packages (from spacy<3.8.0,>=3.7.2->en-core-web-md==3.7.1) (2.4.8)\n",
      "Requirement already satisfied: catalogue<2.1.0,>=2.0.6 in c:\\users\\weber\\anaconda3\\lib\\site-packages (from spacy<3.8.0,>=3.7.2->en-core-web-md==3.7.1) (2.0.10)\n",
      "Requirement already satisfied: weasel<0.4.0,>=0.1.0 in c:\\users\\weber\\anaconda3\\lib\\site-packages (from spacy<3.8.0,>=3.7.2->en-core-web-md==3.7.1) (0.3.4)\n",
      "Requirement already satisfied: typer<0.10.0,>=0.3.0 in c:\\users\\weber\\anaconda3\\lib\\site-packages (from spacy<3.8.0,>=3.7.2->en-core-web-md==3.7.1) (0.9.0)\n",
      "Requirement already satisfied: smart-open<7.0.0,>=5.2.1 in c:\\users\\weber\\anaconda3\\lib\\site-packages (from spacy<3.8.0,>=3.7.2->en-core-web-md==3.7.1) (5.2.1)\n",
      "Requirement already satisfied: tqdm<5.0.0,>=4.38.0 in c:\\users\\weber\\anaconda3\\lib\\site-packages (from spacy<3.8.0,>=3.7.2->en-core-web-md==3.7.1) (4.65.0)\n",
      "Requirement already satisfied: requests<3.0.0,>=2.13.0 in c:\\users\\weber\\anaconda3\\lib\\site-packages (from spacy<3.8.0,>=3.7.2->en-core-web-md==3.7.1) (2.31.0)\n",
      "Requirement already satisfied: pydantic!=1.8,!=1.8.1,<3.0.0,>=1.7.4 in c:\\users\\weber\\anaconda3\\lib\\site-packages (from spacy<3.8.0,>=3.7.2->en-core-web-md==3.7.1) (1.10.8)\n",
      "Requirement already satisfied: jinja2 in c:\\users\\weber\\anaconda3\\lib\\site-packages (from spacy<3.8.0,>=3.7.2->en-core-web-md==3.7.1) (3.1.2)\n",
      "Requirement already satisfied: setuptools in c:\\users\\weber\\anaconda3\\lib\\site-packages (from spacy<3.8.0,>=3.7.2->en-core-web-md==3.7.1) (68.0.0)\n",
      "Requirement already satisfied: packaging>=20.0 in c:\\users\\weber\\anaconda3\\lib\\site-packages (from spacy<3.8.0,>=3.7.2->en-core-web-md==3.7.1) (23.1)\n",
      "Requirement already satisfied: langcodes<4.0.0,>=3.2.0 in c:\\users\\weber\\anaconda3\\lib\\site-packages (from spacy<3.8.0,>=3.7.2->en-core-web-md==3.7.1) (3.3.0)\n",
      "Requirement already satisfied: numpy>=1.19.0 in c:\\users\\weber\\anaconda3\\lib\\site-packages (from spacy<3.8.0,>=3.7.2->en-core-web-md==3.7.1) (1.24.3)\n",
      "Requirement already satisfied: typing-extensions>=4.2.0 in c:\\users\\weber\\anaconda3\\lib\\site-packages (from pydantic!=1.8,!=1.8.1,<3.0.0,>=1.7.4->spacy<3.8.0,>=3.7.2->en-core-web-md==3.7.1) (4.7.1)\n",
      "Requirement already satisfied: charset-normalizer<4,>=2 in c:\\users\\weber\\anaconda3\\lib\\site-packages (from requests<3.0.0,>=2.13.0->spacy<3.8.0,>=3.7.2->en-core-web-md==3.7.1) (2.0.4)\n",
      "Requirement already satisfied: idna<4,>=2.5 in c:\\users\\weber\\anaconda3\\lib\\site-packages (from requests<3.0.0,>=2.13.0->spacy<3.8.0,>=3.7.2->en-core-web-md==3.7.1) (3.4)\n",
      "Requirement already satisfied: urllib3<3,>=1.21.1 in c:\\users\\weber\\anaconda3\\lib\\site-packages (from requests<3.0.0,>=2.13.0->spacy<3.8.0,>=3.7.2->en-core-web-md==3.7.1) (1.26.16)\n",
      "Requirement already satisfied: certifi>=2017.4.17 in c:\\users\\weber\\anaconda3\\lib\\site-packages (from requests<3.0.0,>=2.13.0->spacy<3.8.0,>=3.7.2->en-core-web-md==3.7.1) (2024.2.2)\n",
      "Requirement already satisfied: blis<0.8.0,>=0.7.8 in c:\\users\\weber\\anaconda3\\lib\\site-packages (from thinc<8.3.0,>=8.1.8->spacy<3.8.0,>=3.7.2->en-core-web-md==3.7.1) (0.7.10)\n",
      "Requirement already satisfied: confection<1.0.0,>=0.0.1 in c:\\users\\weber\\anaconda3\\lib\\site-packages (from thinc<8.3.0,>=8.1.8->spacy<3.8.0,>=3.7.2->en-core-web-md==3.7.1) (0.1.4)\n",
      "Requirement already satisfied: colorama in c:\\users\\weber\\anaconda3\\lib\\site-packages (from tqdm<5.0.0,>=4.38.0->spacy<3.8.0,>=3.7.2->en-core-web-md==3.7.1) (0.4.6)\n",
      "Requirement already satisfied: click<9.0.0,>=7.1.1 in c:\\users\\weber\\anaconda3\\lib\\site-packages (from typer<0.10.0,>=0.3.0->spacy<3.8.0,>=3.7.2->en-core-web-md==3.7.1) (8.0.4)\n",
      "Requirement already satisfied: cloudpathlib<0.17.0,>=0.7.0 in c:\\users\\weber\\anaconda3\\lib\\site-packages (from weasel<0.4.0,>=0.1.0->spacy<3.8.0,>=3.7.2->en-core-web-md==3.7.1) (0.16.0)\n",
      "Requirement already satisfied: MarkupSafe>=2.0 in c:\\users\\weber\\anaconda3\\lib\\site-packages (from jinja2->spacy<3.8.0,>=3.7.2->en-core-web-md==3.7.1) (2.1.1)\n",
      "\u001b[38;5;2m[+] Download and installation successful\u001b[0m\n",
      "You can now load the package via spacy.load('en_core_web_md')\n"
     ]
    }
   ],
   "source": [
    "import sys\n",
    "!{sys.executable} -m spacy download en_core_web_md"
   ]
  },
  {
   "cell_type": "code",
   "execution_count": 38,
   "id": "60629cf7",
   "metadata": {},
   "outputs": [],
   "source": [
    "import spacy\n"
   ]
  },
  {
   "cell_type": "code",
   "execution_count": 39,
   "id": "a62c78b7",
   "metadata": {},
   "outputs": [],
   "source": [
    "nlp=spacy.load('en_core_web_md')"
   ]
  },
  {
   "cell_type": "code",
   "execution_count": 40,
   "id": "38f759fb",
   "metadata": {},
   "outputs": [],
   "source": [
    "doc = nlp(open(\"./bible.txt\", encoding='utf8').read()) #./ + [tab] lets you see everything in your file"
   ]
  },
  {
   "cell_type": "code",
   "execution_count": 62,
   "id": "ea637d91",
   "metadata": {},
   "outputs": [],
   "source": [
    "noun = [item for item in list(doc) if item.pos_=='NOUN']\n",
    "adjective = [item for item in list(doc) if item.pos_=='ADJ']"
   ]
  },
  {
   "cell_type": "code",
   "execution_count": 77,
   "id": "ee6e5a0e",
   "metadata": {},
   "outputs": [
    {
     "name": "stdout",
     "output_type": "stream",
     "text": [
      "Requirement already satisfied: tracery in c:\\users\\weber\\anaconda3\\lib\\site-packages (0.1.1)\n"
     ]
    }
   ],
   "source": [
    "import sys\n",
    "!{sys.executable} -m pip install tracery"
   ]
  },
  {
   "cell_type": "code",
   "execution_count": 78,
   "id": "457ebb0b",
   "metadata": {},
   "outputs": [],
   "source": [
    "import tracery"
   ]
  },
  {
   "cell_type": "code",
   "execution_count": 17,
   "id": "9a683f96",
   "metadata": {},
   "outputs": [],
   "source": [
    "from tracery.modifiers import base_english"
   ]
  },
  {
   "cell_type": "code",
   "execution_count": 63,
   "id": "e8f41b6a",
   "metadata": {},
   "outputs": [],
   "source": [
    "import random"
   ]
  },
  {
   "cell_type": "code",
   "execution_count": 104,
   "id": "e54ee8e6",
   "metadata": {},
   "outputs": [
    {
     "data": {
      "text/plain": [
       "[good, bones, man]"
      ]
     },
     "execution_count": 104,
     "metadata": {},
     "output_type": "execute_result"
    }
   ],
   "source": [
    "random.sample(noun,3)\n"
   ]
  },
  {
   "cell_type": "code",
   "execution_count": 105,
   "id": "4a94cce6",
   "metadata": {
    "scrolled": true
   },
   "outputs": [
    {
     "data": {
      "text/plain": [
       "[whole, deep, female]"
      ]
     },
     "execution_count": 105,
     "metadata": {},
     "output_type": "execute_result"
    }
   ],
   "source": [
    "random.sample(adjective,3)\n"
   ]
  },
  {
   "cell_type": "code",
   "execution_count": 113,
   "id": "42de5dd0",
   "metadata": {},
   "outputs": [],
   "source": [
    "# Assuming 'noun' and 'adjective' are lists of Spacy Token objects\n",
    "nouns_tokens = random.sample(noun, 100)\n",
    "adjectives_tokens = random.sample(adjective, 53)\n",
    "\n",
    "# Convert each token to its string representation\n",
    "nouns = [token.text for token in nouns_tokens]\n",
    "adjectives = [token.text for token in adjectives_tokens]"
   ]
  },
  {
   "cell_type": "code",
   "execution_count": 114,
   "id": "3c28c615",
   "metadata": {
    "scrolled": false
   },
   "outputs": [
    {
     "data": {
      "text/plain": [
       "'I pledge allegiance to the man of Euphrates, and to the midst for which it stands, one earth under one, fruitful, with creature and evening for all.'"
      ]
     },
     "execution_count": 114,
     "metadata": {},
     "output_type": "execute_result"
    }
   ],
   "source": [
    "f\"I pledge allegiance to the {random.choice(noun)} of {random.choice(location)}, and to the {random.choice(noun)} for which it stands, one {random.choice(noun)} under {random.choice(entities)}, {random.choice(adjective)}, with {random.choice(noun)} and {random.choice(noun)} for all.\""
   ]
  },
  {
   "cell_type": "code",
   "execution_count": 115,
   "id": "f559dd39",
   "metadata": {},
   "outputs": [],
   "source": [
    "def pluralize_noun(noun):\n",
    "    if noun.endswith(\"s\"):\n",
    "        return noun  # Assumes the noun is already in a plural form or doesn't need an \"s\"\n",
    "    else:\n",
    "        return noun + \"s\"\n",
    "\n",
    "# Assuming `nouns` is your list of noun strings\n",
    "plural_nouns = [pluralize_noun(noun) for noun in nouns]\n",
    "\n",
    "# Adjust your list to reduce repetition\n",
    "# This is a simple filter example; adjust according to your needs\n",
    "filtered_nouns = [noun for noun in nouns if noun != \"waters\"]\n",
    "filtered_plural_nouns = [pluralize_noun(noun) for noun in filtered_nouns]\n"
   ]
  },
  {
   "cell_type": "code",
   "execution_count": 99,
   "id": "f7dab447",
   "metadata": {
    "scrolled": true
   },
   "outputs": [
    {
     "name": "stdout",
     "output_type": "stream",
     "text": [
      "On the seventh day of Christmas my true love sent to me,\n",
      "Seven deep seasons\n",
      "Six good earths\n",
      "Five pleasant firmaments\n",
      "Four second mornings\n",
      "Three seventh earths\n",
      "Two greater airs\n",
      "And a fowl in a earth\n"
     ]
    }
   ],
   "source": [
    "rules = {\n",
    "    \"origin\": \"On the seventh day of Christmas my true love sent to me,\\n#seven#\\n#six#\\n#five#\\n#four#\\n#three#\\n#two#\\n#and_a#\",\n",
    "    \"seven\": \"Seven #adjective# #plural_noun#\",\n",
    "    \"six\": \"Six #adjective# #plural_noun#\",\n",
    "    \"five\": \"Five #adjective# #plural_noun#\",\n",
    "    \"four\": \"Four #adjective# #plural_noun#\",\n",
    "    \"three\": \"Three #adjective# #plural_noun#\",\n",
    "    \"two\": \"Two #adjective# #plural_noun#\",\n",
    "    \"and_a\": \"And a #singular_noun# in a #singular_noun#\",\n",
    "    \"singular_noun\": filtered_nouns,  # Use the filtered list for single nouns\n",
    "    \"plural_noun\": filtered_plural_nouns,  # Use the manually pluralized list here\n",
    "    \"adjective\": adjectives,\n",
    "}\n",
    "\n",
    "grammar = tracery.Grammar(rules)\n",
    "grammar.add_modifiers(base_english)\n",
    "\n",
    "print(grammar.flatten(\"#origin#\"))\n"
   ]
  }
 ],
 "metadata": {
  "kernelspec": {
   "display_name": "Python 3 (ipykernel)",
   "language": "python",
   "name": "python3"
  },
  "language_info": {
   "codemirror_mode": {
    "name": "ipython",
    "version": 3
   },
   "file_extension": ".py",
   "mimetype": "text/x-python",
   "name": "python",
   "nbconvert_exporter": "python",
   "pygments_lexer": "ipython3",
   "version": "3.11.5"
  }
 },
 "nbformat": 4,
 "nbformat_minor": 5
}
